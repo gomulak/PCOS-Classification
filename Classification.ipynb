{
 "cells": [
  {
   "cell_type": "markdown",
   "id": "27e9bf47",
   "metadata": {},
   "source": [
    "# Data introduction"
   ]
  },
  {
   "cell_type": "markdown",
   "id": "8ba7a174",
   "metadata": {},
   "source": [
    "Data that I have chosen for this assignment talks about Polycystic Ovary Syndrome (later reffered as PCOS). PCOS is a common hormonal problem for people with ovaries. People that suffer from this condition may not ovulate, have high levels of androgens (male hormones), and have many small cysts on the ovaries. PCOS can cause missed or irregular menstrual periods, excess hair growth, acne, infertility, and weight gain.\n"
   ]
  },
  {
   "cell_type": "markdown",
   "id": "a72dfc9f",
   "metadata": {},
   "source": [
    "Data comes from: https://www.kaggle.com/datasets/prasadbobby/pcosdata?resource=download"
   ]
  },
  {
   "cell_type": "markdown",
   "id": "6dac5249",
   "metadata": {},
   "source": [
    "# Necessary libraries"
   ]
  },
  {
   "cell_type": "code",
   "execution_count": 1,
   "id": "40317a6a",
   "metadata": {},
   "outputs": [
    {
     "name": "stdout",
     "output_type": "stream",
     "text": [
      "Requirement already satisfied: mixed-naive-bayes in c:\\users\\ola gomulak\\anaconda3\\anaconda\\lib\\site-packages (0.0.3)\n",
      "Requirement already satisfied: scikit-learn>=0.20.2 in c:\\users\\ola gomulak\\anaconda3\\anaconda\\lib\\site-packages (from mixed-naive-bayes) (1.2.1)\n",
      "Requirement already satisfied: numpy>=1.22.0 in c:\\users\\ola gomulak\\anaconda3\\anaconda\\lib\\site-packages (from mixed-naive-bayes) (1.23.5)\n",
      "Requirement already satisfied: joblib>=1.1.1 in c:\\users\\ola gomulak\\anaconda3\\anaconda\\lib\\site-packages (from scikit-learn>=0.20.2->mixed-naive-bayes) (1.1.1)\n",
      "Requirement already satisfied: threadpoolctl>=2.0.0 in c:\\users\\ola gomulak\\anaconda3\\anaconda\\lib\\site-packages (from scikit-learn>=0.20.2->mixed-naive-bayes) (2.2.0)\n",
      "Requirement already satisfied: scipy>=1.3.2 in c:\\users\\ola gomulak\\anaconda3\\anaconda\\lib\\site-packages (from scikit-learn>=0.20.2->mixed-naive-bayes) (1.10.0)\n",
      "Note: you may need to restart the kernel to use updated packages.\n"
     ]
    }
   ],
   "source": [
    "pip install mixed-naive-bayes"
   ]
  },
  {
   "cell_type": "code",
   "execution_count": 2,
   "id": "e3be9e4d",
   "metadata": {},
   "outputs": [
    {
     "name": "stdout",
     "output_type": "stream",
     "text": [
      "Requirement already satisfied: keras in c:\\users\\ola gomulak\\anaconda3\\anaconda\\lib\\site-packages (2.12.0)\n",
      "Note: you may need to restart the kernel to use updated packages.\n"
     ]
    }
   ],
   "source": [
    "pip install keras"
   ]
  },
  {
   "cell_type": "code",
   "execution_count": 3,
   "id": "c7e6b02a",
   "metadata": {},
   "outputs": [
    {
     "name": "stdout",
     "output_type": "stream",
     "text": [
      "Requirement already satisfied: tensorflow in c:\\users\\ola gomulak\\anaconda3\\anaconda\\lib\\site-packages (2.12.0)\n",
      "Requirement already satisfied: tensorflow-intel==2.12.0 in c:\\users\\ola gomulak\\anaconda3\\anaconda\\lib\\site-packages (from tensorflow) (2.12.0)\n",
      "Requirement already satisfied: protobuf!=4.21.0,!=4.21.1,!=4.21.2,!=4.21.3,!=4.21.4,!=4.21.5,<5.0.0dev,>=3.20.3 in c:\\users\\ola gomulak\\anaconda3\\anaconda\\lib\\site-packages (from tensorflow-intel==2.12.0->tensorflow) (4.22.3)\n",
      "Requirement already satisfied: six>=1.12.0 in c:\\users\\ola gomulak\\anaconda3\\anaconda\\lib\\site-packages (from tensorflow-intel==2.12.0->tensorflow) (1.16.0)\n",
      "Requirement already satisfied: setuptools in c:\\users\\ola gomulak\\anaconda3\\anaconda\\lib\\site-packages (from tensorflow-intel==2.12.0->tensorflow) (65.6.3)\n",
      "Requirement already satisfied: termcolor>=1.1.0 in c:\\users\\ola gomulak\\anaconda3\\anaconda\\lib\\site-packages (from tensorflow-intel==2.12.0->tensorflow) (2.2.0)\n",
      "Requirement already satisfied: keras<2.13,>=2.12.0 in c:\\users\\ola gomulak\\anaconda3\\anaconda\\lib\\site-packages (from tensorflow-intel==2.12.0->tensorflow) (2.12.0)\n",
      "Requirement already satisfied: flatbuffers>=2.0 in c:\\users\\ola gomulak\\anaconda3\\anaconda\\lib\\site-packages (from tensorflow-intel==2.12.0->tensorflow) (23.3.3)\n",
      "Requirement already satisfied: typing-extensions>=3.6.6 in c:\\users\\ola gomulak\\anaconda3\\anaconda\\lib\\site-packages (from tensorflow-intel==2.12.0->tensorflow) (4.4.0)\n",
      "Requirement already satisfied: packaging in c:\\users\\ola gomulak\\anaconda3\\anaconda\\lib\\site-packages (from tensorflow-intel==2.12.0->tensorflow) (22.0)\n",
      "Requirement already satisfied: astunparse>=1.6.0 in c:\\users\\ola gomulak\\anaconda3\\anaconda\\lib\\site-packages (from tensorflow-intel==2.12.0->tensorflow) (1.6.3)\n",
      "Requirement already satisfied: wrapt<1.15,>=1.11.0 in c:\\users\\ola gomulak\\anaconda3\\anaconda\\lib\\site-packages (from tensorflow-intel==2.12.0->tensorflow) (1.14.1)\n",
      "Requirement already satisfied: tensorboard<2.13,>=2.12 in c:\\users\\ola gomulak\\anaconda3\\anaconda\\lib\\site-packages (from tensorflow-intel==2.12.0->tensorflow) (2.12.2)\n",
      "Requirement already satisfied: tensorflow-estimator<2.13,>=2.12.0 in c:\\users\\ola gomulak\\anaconda3\\anaconda\\lib\\site-packages (from tensorflow-intel==2.12.0->tensorflow) (2.12.0)\n",
      "Requirement already satisfied: google-pasta>=0.1.1 in c:\\users\\ola gomulak\\anaconda3\\anaconda\\lib\\site-packages (from tensorflow-intel==2.12.0->tensorflow) (0.2.0)\n",
      "Requirement already satisfied: h5py>=2.9.0 in c:\\users\\ola gomulak\\anaconda3\\anaconda\\lib\\site-packages (from tensorflow-intel==2.12.0->tensorflow) (3.7.0)\n",
      "Requirement already satisfied: opt-einsum>=2.3.2 in c:\\users\\ola gomulak\\anaconda3\\anaconda\\lib\\site-packages (from tensorflow-intel==2.12.0->tensorflow) (3.3.0)\n",
      "Requirement already satisfied: tensorflow-io-gcs-filesystem>=0.23.1 in c:\\users\\ola gomulak\\anaconda3\\anaconda\\lib\\site-packages (from tensorflow-intel==2.12.0->tensorflow) (0.31.0)\n",
      "Requirement already satisfied: numpy<1.24,>=1.22 in c:\\users\\ola gomulak\\anaconda3\\anaconda\\lib\\site-packages (from tensorflow-intel==2.12.0->tensorflow) (1.23.5)\n",
      "Requirement already satisfied: libclang>=13.0.0 in c:\\users\\ola gomulak\\anaconda3\\anaconda\\lib\\site-packages (from tensorflow-intel==2.12.0->tensorflow) (16.0.0)\n",
      "Requirement already satisfied: grpcio<2.0,>=1.24.3 in c:\\users\\ola gomulak\\anaconda3\\anaconda\\lib\\site-packages (from tensorflow-intel==2.12.0->tensorflow) (1.54.0)\n",
      "Requirement already satisfied: jax>=0.3.15 in c:\\users\\ola gomulak\\anaconda3\\anaconda\\lib\\site-packages (from tensorflow-intel==2.12.0->tensorflow) (0.4.8)\n",
      "Requirement already satisfied: gast<=0.4.0,>=0.2.1 in c:\\users\\ola gomulak\\anaconda3\\anaconda\\lib\\site-packages (from tensorflow-intel==2.12.0->tensorflow) (0.4.0)\n",
      "Requirement already satisfied: absl-py>=1.0.0 in c:\\users\\ola gomulak\\anaconda3\\anaconda\\lib\\site-packages (from tensorflow-intel==2.12.0->tensorflow) (1.4.0)\n",
      "Requirement already satisfied: wheel<1.0,>=0.23.0 in c:\\users\\ola gomulak\\anaconda3\\anaconda\\lib\\site-packages (from astunparse>=1.6.0->tensorflow-intel==2.12.0->tensorflow) (0.38.4)\n",
      "Requirement already satisfied: ml-dtypes>=0.0.3 in c:\\users\\ola gomulak\\anaconda3\\anaconda\\lib\\site-packages (from jax>=0.3.15->tensorflow-intel==2.12.0->tensorflow) (0.1.0)\n",
      "Requirement already satisfied: scipy>=1.7 in c:\\users\\ola gomulak\\anaconda3\\anaconda\\lib\\site-packages (from jax>=0.3.15->tensorflow-intel==2.12.0->tensorflow) (1.10.0)\n",
      "Requirement already satisfied: tensorboard-plugin-wit>=1.6.0 in c:\\users\\ola gomulak\\anaconda3\\anaconda\\lib\\site-packages (from tensorboard<2.13,>=2.12->tensorflow-intel==2.12.0->tensorflow) (1.8.1)\n",
      "Requirement already satisfied: google-auth<3,>=1.6.3 in c:\\users\\ola gomulak\\anaconda3\\anaconda\\lib\\site-packages (from tensorboard<2.13,>=2.12->tensorflow-intel==2.12.0->tensorflow) (2.17.3)\n",
      "Requirement already satisfied: tensorboard-data-server<0.8.0,>=0.7.0 in c:\\users\\ola gomulak\\anaconda3\\anaconda\\lib\\site-packages (from tensorboard<2.13,>=2.12->tensorflow-intel==2.12.0->tensorflow) (0.7.0)\n",
      "Requirement already satisfied: requests<3,>=2.21.0 in c:\\users\\ola gomulak\\anaconda3\\anaconda\\lib\\site-packages (from tensorboard<2.13,>=2.12->tensorflow-intel==2.12.0->tensorflow) (2.28.1)\n",
      "Requirement already satisfied: markdown>=2.6.8 in c:\\users\\ola gomulak\\anaconda3\\anaconda\\lib\\site-packages (from tensorboard<2.13,>=2.12->tensorflow-intel==2.12.0->tensorflow) (3.4.1)\n",
      "Requirement already satisfied: google-auth-oauthlib<1.1,>=0.5 in c:\\users\\ola gomulak\\anaconda3\\anaconda\\lib\\site-packages (from tensorboard<2.13,>=2.12->tensorflow-intel==2.12.0->tensorflow) (1.0.0)\n",
      "Requirement already satisfied: werkzeug>=1.0.1 in c:\\users\\ola gomulak\\anaconda3\\anaconda\\lib\\site-packages (from tensorboard<2.13,>=2.12->tensorflow-intel==2.12.0->tensorflow) (2.2.2)\n",
      "Requirement already satisfied: pyasn1-modules>=0.2.1 in c:\\users\\ola gomulak\\anaconda3\\anaconda\\lib\\site-packages (from google-auth<3,>=1.6.3->tensorboard<2.13,>=2.12->tensorflow-intel==2.12.0->tensorflow) (0.2.8)\n",
      "Requirement already satisfied: cachetools<6.0,>=2.0.0 in c:\\users\\ola gomulak\\anaconda3\\anaconda\\lib\\site-packages (from google-auth<3,>=1.6.3->tensorboard<2.13,>=2.12->tensorflow-intel==2.12.0->tensorflow) (5.3.0)\n",
      "Requirement already satisfied: rsa<5,>=3.1.4 in c:\\users\\ola gomulak\\anaconda3\\anaconda\\lib\\site-packages (from google-auth<3,>=1.6.3->tensorboard<2.13,>=2.12->tensorflow-intel==2.12.0->tensorflow) (4.9)\n",
      "Requirement already satisfied: requests-oauthlib>=0.7.0 in c:\\users\\ola gomulak\\anaconda3\\anaconda\\lib\\site-packages (from google-auth-oauthlib<1.1,>=0.5->tensorboard<2.13,>=2.12->tensorflow-intel==2.12.0->tensorflow) (1.3.1)\n",
      "Requirement already satisfied: urllib3<1.27,>=1.21.1 in c:\\users\\ola gomulak\\anaconda3\\anaconda\\lib\\site-packages (from requests<3,>=2.21.0->tensorboard<2.13,>=2.12->tensorflow-intel==2.12.0->tensorflow) (1.26.14)\n",
      "Requirement already satisfied: charset-normalizer<3,>=2 in c:\\users\\ola gomulak\\anaconda3\\anaconda\\lib\\site-packages (from requests<3,>=2.21.0->tensorboard<2.13,>=2.12->tensorflow-intel==2.12.0->tensorflow) (2.0.4)\n",
      "Requirement already satisfied: certifi>=2017.4.17 in c:\\users\\ola gomulak\\anaconda3\\anaconda\\lib\\site-packages (from requests<3,>=2.21.0->tensorboard<2.13,>=2.12->tensorflow-intel==2.12.0->tensorflow) (2022.12.7)\n",
      "Requirement already satisfied: idna<4,>=2.5 in c:\\users\\ola gomulak\\anaconda3\\anaconda\\lib\\site-packages (from requests<3,>=2.21.0->tensorboard<2.13,>=2.12->tensorflow-intel==2.12.0->tensorflow) (3.4)\n",
      "Requirement already satisfied: MarkupSafe>=2.1.1 in c:\\users\\ola gomulak\\anaconda3\\anaconda\\lib\\site-packages (from werkzeug>=1.0.1->tensorboard<2.13,>=2.12->tensorflow-intel==2.12.0->tensorflow) (2.1.1)\n",
      "Requirement already satisfied: pyasn1<0.5.0,>=0.4.6 in c:\\users\\ola gomulak\\anaconda3\\anaconda\\lib\\site-packages (from pyasn1-modules>=0.2.1->google-auth<3,>=1.6.3->tensorboard<2.13,>=2.12->tensorflow-intel==2.12.0->tensorflow) (0.4.8)\n",
      "Requirement already satisfied: oauthlib>=3.0.0 in c:\\users\\ola gomulak\\anaconda3\\anaconda\\lib\\site-packages (from requests-oauthlib>=0.7.0->google-auth-oauthlib<1.1,>=0.5->tensorboard<2.13,>=2.12->tensorflow-intel==2.12.0->tensorflow) (3.2.2)\n",
      "Note: you may need to restart the kernel to use updated packages.\n"
     ]
    }
   ],
   "source": [
    "pip install tensorflow"
   ]
  },
  {
   "cell_type": "code",
   "execution_count": 4,
   "id": "bd7b36fd",
   "metadata": {},
   "outputs": [],
   "source": [
    "import pandas as pd\n",
    "import numpy as np\n",
    "from sklearn.preprocessing import minmax_scale\n",
    "from sklearn.model_selection import train_test_split\n",
    "from sklearn import tree\n",
    "from sklearn.tree import DecisionTreeClassifier\n",
    "from sklearn.metrics import confusion_matrix\n",
    "import seaborn as sb\n",
    "from sklearn.metrics import ConfusionMatrixDisplay\n",
    "from sklearn import metrics\n",
    "import matplotlib.pyplot as plt\n",
    "from sklearn.naive_bayes import CategoricalNB\n",
    "from sklearn.preprocessing import LabelEncoder\n",
    "from mixed_naive_bayes import MixedNB\n",
    "from sklearn.neighbors import KNeighborsClassifier\n",
    "from sklearn.metrics import accuracy_score\n",
    "from sklearn.neural_network import MLPClassifier\n",
    "from keras.utils import np_utils\n",
    "from keras.models import Sequential\n",
    "from keras.layers import Dense\n",
    "from sklearn.naive_bayes import CategoricalNB\n",
    "from sklearn.naive_bayes import GaussianNB"
   ]
  },
  {
   "cell_type": "code",
   "execution_count": null,
   "id": "ff8ecb3e",
   "metadata": {},
   "outputs": [],
   "source": []
  },
  {
   "cell_type": "code",
   "execution_count": null,
   "id": "dd06cb95",
   "metadata": {},
   "outputs": [],
   "source": []
  },
  {
   "cell_type": "code",
   "execution_count": null,
   "id": "87a61522",
   "metadata": {},
   "outputs": [],
   "source": []
  },
  {
   "cell_type": "code",
   "execution_count": 5,
   "id": "c729531d",
   "metadata": {},
   "outputs": [
    {
     "data": {
      "text/html": [
       "<div>\n",
       "<style scoped>\n",
       "    .dataframe tbody tr th:only-of-type {\n",
       "        vertical-align: middle;\n",
       "    }\n",
       "\n",
       "    .dataframe tbody tr th {\n",
       "        vertical-align: top;\n",
       "    }\n",
       "\n",
       "    .dataframe thead th {\n",
       "        text-align: right;\n",
       "    }\n",
       "</style>\n",
       "<table border=\"1\" class=\"dataframe\">\n",
       "  <thead>\n",
       "    <tr style=\"text-align: right;\">\n",
       "      <th></th>\n",
       "      <th>Patient File No.</th>\n",
       "      <th>PCOS (Y/N)</th>\n",
       "      <th>Age (yrs)</th>\n",
       "      <th>Weight (Kg)</th>\n",
       "      <th>Height(Cm)</th>\n",
       "      <th>BMI</th>\n",
       "      <th>Blood Group</th>\n",
       "      <th>Pulse rate(bpm)</th>\n",
       "      <th>RR (breaths/min)</th>\n",
       "      <th>Hb(g/dl)</th>\n",
       "      <th>...</th>\n",
       "      <th>Fast food (Y/N)</th>\n",
       "      <th>Reg.Exercise(Y/N)</th>\n",
       "      <th>BP _Systolic (mmHg)</th>\n",
       "      <th>BP _Diastolic (mmHg)</th>\n",
       "      <th>Follicle No. (L)</th>\n",
       "      <th>Follicle No. (R)</th>\n",
       "      <th>Avg. F size (L) (mm)</th>\n",
       "      <th>Avg. F size (R) (mm)</th>\n",
       "      <th>Endometrium (mm)</th>\n",
       "      <th>Unnamed: 42</th>\n",
       "    </tr>\n",
       "    <tr>\n",
       "      <th>Sl. No</th>\n",
       "      <th></th>\n",
       "      <th></th>\n",
       "      <th></th>\n",
       "      <th></th>\n",
       "      <th></th>\n",
       "      <th></th>\n",
       "      <th></th>\n",
       "      <th></th>\n",
       "      <th></th>\n",
       "      <th></th>\n",
       "      <th></th>\n",
       "      <th></th>\n",
       "      <th></th>\n",
       "      <th></th>\n",
       "      <th></th>\n",
       "      <th></th>\n",
       "      <th></th>\n",
       "      <th></th>\n",
       "      <th></th>\n",
       "      <th></th>\n",
       "      <th></th>\n",
       "    </tr>\n",
       "  </thead>\n",
       "  <tbody>\n",
       "    <tr>\n",
       "      <th>1</th>\n",
       "      <td>10001</td>\n",
       "      <td>0</td>\n",
       "      <td>28</td>\n",
       "      <td>44.6</td>\n",
       "      <td>152.000</td>\n",
       "      <td>19.300000</td>\n",
       "      <td>15</td>\n",
       "      <td>78</td>\n",
       "      <td>22</td>\n",
       "      <td>10.48</td>\n",
       "      <td>...</td>\n",
       "      <td>1.0</td>\n",
       "      <td>0</td>\n",
       "      <td>110</td>\n",
       "      <td>80</td>\n",
       "      <td>3</td>\n",
       "      <td>3</td>\n",
       "      <td>18.0</td>\n",
       "      <td>18.0</td>\n",
       "      <td>8.5</td>\n",
       "      <td>NaN</td>\n",
       "    </tr>\n",
       "    <tr>\n",
       "      <th>2</th>\n",
       "      <td>10002</td>\n",
       "      <td>0</td>\n",
       "      <td>36</td>\n",
       "      <td>65.0</td>\n",
       "      <td>161.500</td>\n",
       "      <td>24.921163</td>\n",
       "      <td>15</td>\n",
       "      <td>74</td>\n",
       "      <td>20</td>\n",
       "      <td>11.70</td>\n",
       "      <td>...</td>\n",
       "      <td>0.0</td>\n",
       "      <td>0</td>\n",
       "      <td>120</td>\n",
       "      <td>70</td>\n",
       "      <td>3</td>\n",
       "      <td>5</td>\n",
       "      <td>15.0</td>\n",
       "      <td>14.0</td>\n",
       "      <td>3.7</td>\n",
       "      <td>NaN</td>\n",
       "    </tr>\n",
       "    <tr>\n",
       "      <th>3</th>\n",
       "      <td>10003</td>\n",
       "      <td>1</td>\n",
       "      <td>33</td>\n",
       "      <td>68.8</td>\n",
       "      <td>165.000</td>\n",
       "      <td>25.270891</td>\n",
       "      <td>11</td>\n",
       "      <td>72</td>\n",
       "      <td>18</td>\n",
       "      <td>11.80</td>\n",
       "      <td>...</td>\n",
       "      <td>1.0</td>\n",
       "      <td>0</td>\n",
       "      <td>120</td>\n",
       "      <td>80</td>\n",
       "      <td>13</td>\n",
       "      <td>15</td>\n",
       "      <td>18.0</td>\n",
       "      <td>20.0</td>\n",
       "      <td>10.0</td>\n",
       "      <td>NaN</td>\n",
       "    </tr>\n",
       "    <tr>\n",
       "      <th>4</th>\n",
       "      <td>10004</td>\n",
       "      <td>0</td>\n",
       "      <td>37</td>\n",
       "      <td>65.0</td>\n",
       "      <td>148.000</td>\n",
       "      <td>29.674945</td>\n",
       "      <td>13</td>\n",
       "      <td>72</td>\n",
       "      <td>20</td>\n",
       "      <td>12.00</td>\n",
       "      <td>...</td>\n",
       "      <td>0.0</td>\n",
       "      <td>0</td>\n",
       "      <td>120</td>\n",
       "      <td>70</td>\n",
       "      <td>2</td>\n",
       "      <td>2</td>\n",
       "      <td>15.0</td>\n",
       "      <td>14.0</td>\n",
       "      <td>7.5</td>\n",
       "      <td>NaN</td>\n",
       "    </tr>\n",
       "    <tr>\n",
       "      <th>5</th>\n",
       "      <td>10005</td>\n",
       "      <td>0</td>\n",
       "      <td>25</td>\n",
       "      <td>52.0</td>\n",
       "      <td>161.000</td>\n",
       "      <td>20.060954</td>\n",
       "      <td>11</td>\n",
       "      <td>72</td>\n",
       "      <td>18</td>\n",
       "      <td>10.00</td>\n",
       "      <td>...</td>\n",
       "      <td>0.0</td>\n",
       "      <td>0</td>\n",
       "      <td>120</td>\n",
       "      <td>80</td>\n",
       "      <td>3</td>\n",
       "      <td>4</td>\n",
       "      <td>16.0</td>\n",
       "      <td>14.0</td>\n",
       "      <td>7.0</td>\n",
       "      <td>NaN</td>\n",
       "    </tr>\n",
       "    <tr>\n",
       "      <th>...</th>\n",
       "      <td>...</td>\n",
       "      <td>...</td>\n",
       "      <td>...</td>\n",
       "      <td>...</td>\n",
       "      <td>...</td>\n",
       "      <td>...</td>\n",
       "      <td>...</td>\n",
       "      <td>...</td>\n",
       "      <td>...</td>\n",
       "      <td>...</td>\n",
       "      <td>...</td>\n",
       "      <td>...</td>\n",
       "      <td>...</td>\n",
       "      <td>...</td>\n",
       "      <td>...</td>\n",
       "      <td>...</td>\n",
       "      <td>...</td>\n",
       "      <td>...</td>\n",
       "      <td>...</td>\n",
       "      <td>...</td>\n",
       "      <td>...</td>\n",
       "    </tr>\n",
       "    <tr>\n",
       "      <th>537</th>\n",
       "      <td>10537</td>\n",
       "      <td>0</td>\n",
       "      <td>35</td>\n",
       "      <td>50.0</td>\n",
       "      <td>164.592</td>\n",
       "      <td>18.500000</td>\n",
       "      <td>17</td>\n",
       "      <td>72</td>\n",
       "      <td>16</td>\n",
       "      <td>11.00</td>\n",
       "      <td>...</td>\n",
       "      <td>0.0</td>\n",
       "      <td>0</td>\n",
       "      <td>110</td>\n",
       "      <td>70</td>\n",
       "      <td>1</td>\n",
       "      <td>0</td>\n",
       "      <td>17.5</td>\n",
       "      <td>10.0</td>\n",
       "      <td>6.7</td>\n",
       "      <td>NaN</td>\n",
       "    </tr>\n",
       "    <tr>\n",
       "      <th>538</th>\n",
       "      <td>10538</td>\n",
       "      <td>0</td>\n",
       "      <td>30</td>\n",
       "      <td>63.2</td>\n",
       "      <td>158.000</td>\n",
       "      <td>25.300000</td>\n",
       "      <td>15</td>\n",
       "      <td>72</td>\n",
       "      <td>18</td>\n",
       "      <td>10.80</td>\n",
       "      <td>...</td>\n",
       "      <td>0.0</td>\n",
       "      <td>0</td>\n",
       "      <td>110</td>\n",
       "      <td>70</td>\n",
       "      <td>9</td>\n",
       "      <td>7</td>\n",
       "      <td>19.0</td>\n",
       "      <td>18.0</td>\n",
       "      <td>8.2</td>\n",
       "      <td>NaN</td>\n",
       "    </tr>\n",
       "    <tr>\n",
       "      <th>539</th>\n",
       "      <td>10539</td>\n",
       "      <td>0</td>\n",
       "      <td>36</td>\n",
       "      <td>54.0</td>\n",
       "      <td>152.000</td>\n",
       "      <td>23.400000</td>\n",
       "      <td>13</td>\n",
       "      <td>74</td>\n",
       "      <td>20</td>\n",
       "      <td>10.80</td>\n",
       "      <td>...</td>\n",
       "      <td>0.0</td>\n",
       "      <td>0</td>\n",
       "      <td>110</td>\n",
       "      <td>80</td>\n",
       "      <td>1</td>\n",
       "      <td>0</td>\n",
       "      <td>18.0</td>\n",
       "      <td>9.0</td>\n",
       "      <td>7.3</td>\n",
       "      <td>NaN</td>\n",
       "    </tr>\n",
       "    <tr>\n",
       "      <th>540</th>\n",
       "      <td>10540</td>\n",
       "      <td>0</td>\n",
       "      <td>27</td>\n",
       "      <td>50.0</td>\n",
       "      <td>150.000</td>\n",
       "      <td>22.200000</td>\n",
       "      <td>15</td>\n",
       "      <td>74</td>\n",
       "      <td>20</td>\n",
       "      <td>12.00</td>\n",
       "      <td>...</td>\n",
       "      <td>0.0</td>\n",
       "      <td>0</td>\n",
       "      <td>110</td>\n",
       "      <td>70</td>\n",
       "      <td>7</td>\n",
       "      <td>6</td>\n",
       "      <td>18.0</td>\n",
       "      <td>16.0</td>\n",
       "      <td>11.5</td>\n",
       "      <td>NaN</td>\n",
       "    </tr>\n",
       "    <tr>\n",
       "      <th>541</th>\n",
       "      <td>10541</td>\n",
       "      <td>1</td>\n",
       "      <td>23</td>\n",
       "      <td>82.0</td>\n",
       "      <td>165.000</td>\n",
       "      <td>30.100000</td>\n",
       "      <td>13</td>\n",
       "      <td>80</td>\n",
       "      <td>20</td>\n",
       "      <td>10.20</td>\n",
       "      <td>...</td>\n",
       "      <td>1.0</td>\n",
       "      <td>0</td>\n",
       "      <td>120</td>\n",
       "      <td>70</td>\n",
       "      <td>9</td>\n",
       "      <td>10</td>\n",
       "      <td>19.0</td>\n",
       "      <td>18.0</td>\n",
       "      <td>6.9</td>\n",
       "      <td>NaN</td>\n",
       "    </tr>\n",
       "  </tbody>\n",
       "</table>\n",
       "<p>541 rows × 42 columns</p>\n",
       "</div>"
      ],
      "text/plain": [
       "        Patient File No.  PCOS (Y/N)   Age (yrs)  Weight (Kg)  Height(Cm)   \\\n",
       "Sl. No                                                                       \n",
       "1                  10001           0          28         44.6      152.000   \n",
       "2                  10002           0          36         65.0      161.500   \n",
       "3                  10003           1          33         68.8      165.000   \n",
       "4                  10004           0          37         65.0      148.000   \n",
       "5                  10005           0          25         52.0      161.000   \n",
       "...                  ...         ...         ...          ...          ...   \n",
       "537                10537           0          35         50.0      164.592   \n",
       "538                10538           0          30         63.2      158.000   \n",
       "539                10539           0          36         54.0      152.000   \n",
       "540                10540           0          27         50.0      150.000   \n",
       "541                10541           1          23         82.0      165.000   \n",
       "\n",
       "              BMI  Blood Group  Pulse rate(bpm)   RR (breaths/min)  Hb(g/dl)  \\\n",
       "Sl. No                                                                         \n",
       "1       19.300000           15                78                22     10.48   \n",
       "2       24.921163           15                74                20     11.70   \n",
       "3       25.270891           11                72                18     11.80   \n",
       "4       29.674945           13                72                20     12.00   \n",
       "5       20.060954           11                72                18     10.00   \n",
       "...           ...          ...               ...               ...       ...   \n",
       "537     18.500000           17                72                16     11.00   \n",
       "538     25.300000           15                72                18     10.80   \n",
       "539     23.400000           13                74                20     10.80   \n",
       "540     22.200000           15                74                20     12.00   \n",
       "541     30.100000           13                80                20     10.20   \n",
       "\n",
       "        ...  Fast food (Y/N)  Reg.Exercise(Y/N)  BP _Systolic (mmHg)  \\\n",
       "Sl. No  ...                                                            \n",
       "1       ...              1.0                  0                  110   \n",
       "2       ...              0.0                  0                  120   \n",
       "3       ...              1.0                  0                  120   \n",
       "4       ...              0.0                  0                  120   \n",
       "5       ...              0.0                  0                  120   \n",
       "...     ...              ...                ...                  ...   \n",
       "537     ...              0.0                  0                  110   \n",
       "538     ...              0.0                  0                  110   \n",
       "539     ...              0.0                  0                  110   \n",
       "540     ...              0.0                  0                  110   \n",
       "541     ...              1.0                  0                  120   \n",
       "\n",
       "        BP _Diastolic (mmHg)  Follicle No. (L)  Follicle No. (R)  \\\n",
       "Sl. No                                                             \n",
       "1                         80                 3                 3   \n",
       "2                         70                 3                 5   \n",
       "3                         80                13                15   \n",
       "4                         70                 2                 2   \n",
       "5                         80                 3                 4   \n",
       "...                      ...               ...               ...   \n",
       "537                       70                 1                 0   \n",
       "538                       70                 9                 7   \n",
       "539                       80                 1                 0   \n",
       "540                       70                 7                 6   \n",
       "541                       70                 9                10   \n",
       "\n",
       "        Avg. F size (L) (mm)  Avg. F size (R) (mm)  Endometrium (mm)  \\\n",
       "Sl. No                                                                 \n",
       "1                       18.0                  18.0               8.5   \n",
       "2                       15.0                  14.0               3.7   \n",
       "3                       18.0                  20.0              10.0   \n",
       "4                       15.0                  14.0               7.5   \n",
       "5                       16.0                  14.0               7.0   \n",
       "...                      ...                   ...               ...   \n",
       "537                     17.5                  10.0               6.7   \n",
       "538                     19.0                  18.0               8.2   \n",
       "539                     18.0                   9.0               7.3   \n",
       "540                     18.0                  16.0              11.5   \n",
       "541                     19.0                  18.0               6.9   \n",
       "\n",
       "        Unnamed: 42  \n",
       "Sl. No               \n",
       "1               NaN  \n",
       "2               NaN  \n",
       "3               NaN  \n",
       "4               NaN  \n",
       "5               NaN  \n",
       "...             ...  \n",
       "537             NaN  \n",
       "538             NaN  \n",
       "539             NaN  \n",
       "540             NaN  \n",
       "541             NaN  \n",
       "\n",
       "[541 rows x 42 columns]"
      ]
     },
     "execution_count": 5,
     "metadata": {},
     "output_type": "execute_result"
    }
   ],
   "source": [
    "pcos = pd.read_csv(\"pcos.csv\", sep=\",\", index_col=[0])\n",
    "pcos"
   ]
  },
  {
   "cell_type": "code",
   "execution_count": 6,
   "id": "f7a21163",
   "metadata": {},
   "outputs": [
    {
     "data": {
      "text/plain": [
       "['Patient File No.',\n",
       " 'PCOS (Y/N)',\n",
       " ' Age (yrs)',\n",
       " 'Weight (Kg)',\n",
       " 'Height(Cm) ',\n",
       " 'BMI',\n",
       " 'Blood Group',\n",
       " 'Pulse rate(bpm) ',\n",
       " 'RR (breaths/min)',\n",
       " 'Hb(g/dl)',\n",
       " 'Cycle(R/I)',\n",
       " 'Cycle length(days)',\n",
       " 'Marraige Status (Yrs)',\n",
       " 'Pregnant(Y/N)',\n",
       " 'No. of aborptions',\n",
       " 'FSH(mIU/mL)',\n",
       " 'LH(mIU/mL)',\n",
       " 'FSH/LH',\n",
       " 'Hip(inch)',\n",
       " 'Waist(inch)',\n",
       " 'Waist:Hip Ratio',\n",
       " 'TSH (mIU/L)',\n",
       " 'AMH(ng/mL)',\n",
       " 'PRL(ng/mL)',\n",
       " 'Vit D3 (ng/mL)',\n",
       " 'PRG(ng/mL)',\n",
       " 'RBS(mg/dl)',\n",
       " 'Weight gain(Y/N)',\n",
       " 'hair growth(Y/N)',\n",
       " 'Skin darkening (Y/N)',\n",
       " 'Hair loss(Y/N)',\n",
       " 'Pimples(Y/N)',\n",
       " 'Fast food (Y/N)',\n",
       " 'Reg.Exercise(Y/N)',\n",
       " 'BP _Systolic (mmHg)',\n",
       " 'BP _Diastolic (mmHg)',\n",
       " 'Follicle No. (L)',\n",
       " 'Follicle No. (R)',\n",
       " 'Avg. F size (L) (mm)',\n",
       " 'Avg. F size (R) (mm)',\n",
       " 'Endometrium (mm)',\n",
       " 'Unnamed: 42']"
      ]
     },
     "execution_count": 6,
     "metadata": {},
     "output_type": "execute_result"
    }
   ],
   "source": [
    "list(pcos.columns)"
   ]
  },
  {
   "cell_type": "markdown",
   "id": "244058c2",
   "metadata": {},
   "source": [
    "# Column Explanation"
   ]
  },
  {
   "cell_type": "markdown",
   "id": "1cf5058b",
   "metadata": {},
   "source": [
    "Firstly, I would like to explain columns' names which, in my opinion, will help understanding the data thoroughly. I won't be explaining the ones that are obvious. I'll tackle mostly medical names."
   ]
  },
  {
   "cell_type": "markdown",
   "id": "0660a224",
   "metadata": {},
   "source": [
    "In 'Pulse rate' bpm stands for beats per minute."
   ]
  },
  {
   "cell_type": "markdown",
   "id": "983a443d",
   "metadata": {},
   "source": [
    "In 'RR (breaths/min)', RR stand for respiratory rate measured in breath per minute."
   ]
  },
  {
   "cell_type": "markdown",
   "id": "ca8a9572",
   "metadata": {},
   "source": [
    "'Hb(g/dl)' features hemoglobin level measured in grams in deciliter."
   ]
  },
  {
   "cell_type": "markdown",
   "id": "e2b1e1cd",
   "metadata": {},
   "source": [
    "'Cycle(R/I)' means wether menstrual cycle is regualar(R) or irregular(I)."
   ]
  },
  {
   "cell_type": "markdown",
   "id": "3ae886ed",
   "metadata": {},
   "source": [
    "'FSH(mIU/mL)' explains the Follicle Stimulating Hormone level in milli-International Units per milliliter. It is an important hormone for normal functioning of the reproductive system in men and women. In people with ovaries, FSH helps control the menstrual cycle and the production of eggs by the ovaries."
   ]
  },
  {
   "cell_type": "markdown",
   "id": "19dd140a",
   "metadata": {},
   "source": [
    "'LH(mIU/mL)' is Lutropin(Luteinizing hormone). Low LH levels may be a sign of delayed puberty."
   ]
  },
  {
   "cell_type": "markdown",
   "id": "820242a8",
   "metadata": {},
   "source": [
    "'TSH (mIU/L)' is Thyrotropin (Thyroid-stimulating hormone). This is a hormone that controls the way other hormones function."
   ]
  },
  {
   "cell_type": "markdown",
   "id": "62ec5ae8",
   "metadata": {},
   "source": [
    "'AMH(ng/mL)' is an anti-mullerian hormone. It is a hormone that prevents male fetus from developing female sex organs. It is measured in nanograms in mililiter."
   ]
  },
  {
   "cell_type": "markdown",
   "id": "a38b73a7",
   "metadata": {},
   "source": [
    "'PRL(ng/mL)' is Prolactin. This is a hormone that's responsible for lactation, certain breast tissue development and contributes to hundreds of other bodily processes."
   ]
  },
  {
   "cell_type": "markdown",
   "id": "b9afbeec",
   "metadata": {},
   "source": [
    "'PRG(ng/mL)' is Progesterone. The main function of progesterone is to prepare the endometrium (lining of your uterus) for a fertilized egg to implant and grow."
   ]
  },
  {
   "cell_type": "markdown",
   "id": "e107bde4",
   "metadata": {},
   "source": [
    "'RBS(mg/dl)' means Random glucose test."
   ]
  },
  {
   "cell_type": "markdown",
   "id": "92a18328",
   "metadata": {},
   "source": [
    "'BP _Systolic (mmHg)' and 'BP _Diastolic (mmHg)' are systolic and diastolic blood preassures. Systolic measures the pressure in your arteries when your heart beats and diastolic measures the pressure in your arteries when your heart rests between beats."
   ]
  },
  {
   "cell_type": "markdown",
   "id": "ebba5971",
   "metadata": {},
   "source": [
    "'Follicle No. (L)' and 'Follicle No. (R)' are numbers of follicles in the left and right ovaries detected during an ultrasound examination."
   ]
  },
  {
   "cell_type": "markdown",
   "id": "9dc876e4",
   "metadata": {},
   "source": [
    "'Avg. F size (L) (mm)' and 'Avg. F size (R) (mm)' are the average sizes of follicles in the left and right ovary in millimeters."
   ]
  },
  {
   "cell_type": "markdown",
   "id": "ad0ea16e",
   "metadata": {},
   "source": [
    "'Endometrium (mm)' is he thickness of the endometrial lining of the uterus in millimeters."
   ]
  },
  {
   "cell_type": "markdown",
   "id": "253d683c",
   "metadata": {},
   "source": [
    "# Data preprocessing"
   ]
  },
  {
   "cell_type": "markdown",
   "id": "8c08295a",
   "metadata": {},
   "source": [
    "First step is to check for missing values."
   ]
  },
  {
   "cell_type": "code",
   "execution_count": 7,
   "id": "5576c2e2",
   "metadata": {},
   "outputs": [
    {
     "data": {
      "text/plain": [
       "Patient File No.           0\n",
       "PCOS (Y/N)                 0\n",
       " Age (yrs)                 0\n",
       "Weight (Kg)                0\n",
       "Height(Cm)                 0\n",
       "BMI                        0\n",
       "Blood Group                0\n",
       "Pulse rate(bpm)            0\n",
       "RR (breaths/min)           0\n",
       "Hb(g/dl)                   0\n",
       "Cycle(R/I)                 0\n",
       "Cycle length(days)         0\n",
       "Marraige Status (Yrs)      1\n",
       "Pregnant(Y/N)              0\n",
       "No. of aborptions          0\n",
       "FSH(mIU/mL)                0\n",
       "LH(mIU/mL)                 0\n",
       "FSH/LH                     0\n",
       "Hip(inch)                  0\n",
       "Waist(inch)                0\n",
       "Waist:Hip Ratio            0\n",
       "TSH (mIU/L)                0\n",
       "AMH(ng/mL)                 0\n",
       "PRL(ng/mL)                 0\n",
       "Vit D3 (ng/mL)             0\n",
       "PRG(ng/mL)                 0\n",
       "RBS(mg/dl)                 0\n",
       "Weight gain(Y/N)           0\n",
       "hair growth(Y/N)           0\n",
       "Skin darkening (Y/N)       0\n",
       "Hair loss(Y/N)             0\n",
       "Pimples(Y/N)               0\n",
       "Fast food (Y/N)            1\n",
       "Reg.Exercise(Y/N)          0\n",
       "BP _Systolic (mmHg)        0\n",
       "BP _Diastolic (mmHg)       0\n",
       "Follicle No. (L)           0\n",
       "Follicle No. (R)           0\n",
       "Avg. F size (L) (mm)       0\n",
       "Avg. F size (R) (mm)       0\n",
       "Endometrium (mm)           0\n",
       "Unnamed: 42              539\n",
       "dtype: int64"
      ]
     },
     "execution_count": 7,
     "metadata": {},
     "output_type": "execute_result"
    }
   ],
   "source": [
    "pcos.isnull().sum()"
   ]
  },
  {
   "cell_type": "markdown",
   "id": "68ba37d7",
   "metadata": {},
   "source": [
    "I am pleased with the results. Column 'Unnamed: 42' is an error that I will be getting rid of. Marriage status and fast food, which both have only one missing value, are also columns that I will be ignoring along with 'Patient File No.', 'Waist:Hip Ratio'."
   ]
  },
  {
   "cell_type": "code",
   "execution_count": 8,
   "id": "bf5705d1",
   "metadata": {},
   "outputs": [],
   "source": [
    "pcos = pcos.drop(columns=['Patient File No.', 'Marraige Status (Yrs)', 'Waist:Hip Ratio', 'Fast food (Y/N)', 'Blood Group', 'Unnamed: 42'])"
   ]
  },
  {
   "cell_type": "markdown",
   "id": "6d0eecc5",
   "metadata": {},
   "source": [
    "For every Yes/No questions, Yes = 1, No = 0."
   ]
  },
  {
   "cell_type": "markdown",
   "id": "8006694a",
   "metadata": {},
   "source": [
    "In \"Cycle\", regular is typed as 2 and irregular as 4, I want to change it to 0 and 1."
   ]
  },
  {
   "cell_type": "code",
   "execution_count": 9,
   "id": "4562a946",
   "metadata": {},
   "outputs": [],
   "source": [
    "pcos[\"Cycle(R/I)\"] = np.where(pcos[\"Cycle(R/I)\"] == 2, 0, 1)"
   ]
  },
  {
   "cell_type": "markdown",
   "id": "dd7cfd34",
   "metadata": {},
   "source": [
    "Let's see the types of each column in order to find out if I have to change any."
   ]
  },
  {
   "cell_type": "code",
   "execution_count": 10,
   "id": "f7708ffa",
   "metadata": {},
   "outputs": [
    {
     "data": {
      "text/plain": [
       "PCOS (Y/N)                int64\n",
       " Age (yrs)                int64\n",
       "Weight (Kg)             float64\n",
       "Height(Cm)              float64\n",
       "BMI                     float64\n",
       "Pulse rate(bpm)           int64\n",
       "RR (breaths/min)          int64\n",
       "Hb(g/dl)                float64\n",
       "Cycle(R/I)                int32\n",
       "Cycle length(days)        int64\n",
       "Pregnant(Y/N)             int64\n",
       "No. of aborptions         int64\n",
       "FSH(mIU/mL)             float64\n",
       "LH(mIU/mL)              float64\n",
       "FSH/LH                  float64\n",
       "Hip(inch)                 int64\n",
       "Waist(inch)               int64\n",
       "TSH (mIU/L)             float64\n",
       "AMH(ng/mL)               object\n",
       "PRL(ng/mL)              float64\n",
       "Vit D3 (ng/mL)          float64\n",
       "PRG(ng/mL)              float64\n",
       "RBS(mg/dl)              float64\n",
       "Weight gain(Y/N)          int64\n",
       "hair growth(Y/N)          int64\n",
       "Skin darkening (Y/N)      int64\n",
       "Hair loss(Y/N)            int64\n",
       "Pimples(Y/N)              int64\n",
       "Reg.Exercise(Y/N)         int64\n",
       "BP _Systolic (mmHg)       int64\n",
       "BP _Diastolic (mmHg)      int64\n",
       "Follicle No. (L)          int64\n",
       "Follicle No. (R)          int64\n",
       "Avg. F size (L) (mm)    float64\n",
       "Avg. F size (R) (mm)    float64\n",
       "Endometrium (mm)        float64\n",
       "dtype: object"
      ]
     },
     "execution_count": 10,
     "metadata": {},
     "output_type": "execute_result"
    }
   ],
   "source": [
    "pcos.dtypes"
   ]
  },
  {
   "cell_type": "markdown",
   "id": "62cef441",
   "metadata": {},
   "source": [
    "Clearly, Yes/No questions should not be integers but factors."
   ]
  },
  {
   "cell_type": "code",
   "execution_count": 11,
   "id": "4e19552e",
   "metadata": {},
   "outputs": [],
   "source": [
    "for col in [\"PCOS (Y/N)\", \"Pregnant(Y/N)\", \"Weight gain(Y/N)\", \"hair growth(Y/N)\", \"Skin darkening (Y/N)\", \"Hair loss(Y/N)\", \"Pimples(Y/N)\", \"Reg.Exercise(Y/N)\", \"Cycle(R/I)\"]:\n",
    "    pcos[col] = pcos[col].astype('category')"
   ]
  },
  {
   "cell_type": "code",
   "execution_count": 12,
   "id": "76de8448",
   "metadata": {},
   "outputs": [
    {
     "data": {
      "text/plain": [
       "PCOS (Y/N)              category\n",
       " Age (yrs)                 int64\n",
       "Weight (Kg)              float64\n",
       "Height(Cm)               float64\n",
       "BMI                      float64\n",
       "Pulse rate(bpm)            int64\n",
       "RR (breaths/min)           int64\n",
       "Hb(g/dl)                 float64\n",
       "Cycle(R/I)              category\n",
       "Cycle length(days)         int64\n",
       "Pregnant(Y/N)           category\n",
       "No. of aborptions          int64\n",
       "FSH(mIU/mL)              float64\n",
       "LH(mIU/mL)               float64\n",
       "FSH/LH                   float64\n",
       "Hip(inch)                  int64\n",
       "Waist(inch)                int64\n",
       "TSH (mIU/L)              float64\n",
       "AMH(ng/mL)                object\n",
       "PRL(ng/mL)               float64\n",
       "Vit D3 (ng/mL)           float64\n",
       "PRG(ng/mL)               float64\n",
       "RBS(mg/dl)               float64\n",
       "Weight gain(Y/N)        category\n",
       "hair growth(Y/N)        category\n",
       "Skin darkening (Y/N)    category\n",
       "Hair loss(Y/N)          category\n",
       "Pimples(Y/N)            category\n",
       "Reg.Exercise(Y/N)       category\n",
       "BP _Systolic (mmHg)        int64\n",
       "BP _Diastolic (mmHg)       int64\n",
       "Follicle No. (L)           int64\n",
       "Follicle No. (R)           int64\n",
       "Avg. F size (L) (mm)     float64\n",
       "Avg. F size (R) (mm)     float64\n",
       "Endometrium (mm)         float64\n",
       "dtype: object"
      ]
     },
     "execution_count": 12,
     "metadata": {},
     "output_type": "execute_result"
    }
   ],
   "source": [
    "pcos.dtypes"
   ]
  },
  {
   "cell_type": "markdown",
   "id": "22c5a11f",
   "metadata": {},
   "source": [
    "One column is object type due to value \"a\" at position 305. Because I can't guess what value should be there. I will delete the whole row."
   ]
  },
  {
   "cell_type": "code",
   "execution_count": 13,
   "id": "691a818c",
   "metadata": {},
   "outputs": [],
   "source": [
    "pcos = pcos.drop([pcos.index[305]])\n",
    "pcos['AMH(ng/mL)'] = pcos['AMH(ng/mL)'].astype('float')"
   ]
  },
  {
   "cell_type": "code",
   "execution_count": 14,
   "id": "715e4039",
   "metadata": {},
   "outputs": [
    {
     "data": {
      "text/plain": [
       "PCOS (Y/N)              category\n",
       " Age (yrs)                 int64\n",
       "Weight (Kg)              float64\n",
       "Height(Cm)               float64\n",
       "BMI                      float64\n",
       "Pulse rate(bpm)            int64\n",
       "RR (breaths/min)           int64\n",
       "Hb(g/dl)                 float64\n",
       "Cycle(R/I)              category\n",
       "Cycle length(days)         int64\n",
       "Pregnant(Y/N)           category\n",
       "No. of aborptions          int64\n",
       "FSH(mIU/mL)              float64\n",
       "LH(mIU/mL)               float64\n",
       "FSH/LH                   float64\n",
       "Hip(inch)                  int64\n",
       "Waist(inch)                int64\n",
       "TSH (mIU/L)              float64\n",
       "AMH(ng/mL)               float64\n",
       "PRL(ng/mL)               float64\n",
       "Vit D3 (ng/mL)           float64\n",
       "PRG(ng/mL)               float64\n",
       "RBS(mg/dl)               float64\n",
       "Weight gain(Y/N)        category\n",
       "hair growth(Y/N)        category\n",
       "Skin darkening (Y/N)    category\n",
       "Hair loss(Y/N)          category\n",
       "Pimples(Y/N)            category\n",
       "Reg.Exercise(Y/N)       category\n",
       "BP _Systolic (mmHg)        int64\n",
       "BP _Diastolic (mmHg)       int64\n",
       "Follicle No. (L)           int64\n",
       "Follicle No. (R)           int64\n",
       "Avg. F size (L) (mm)     float64\n",
       "Avg. F size (R) (mm)     float64\n",
       "Endometrium (mm)         float64\n",
       "dtype: object"
      ]
     },
     "execution_count": 14,
     "metadata": {},
     "output_type": "execute_result"
    }
   ],
   "source": [
    "pcos.dtypes"
   ]
  },
  {
   "cell_type": "markdown",
   "id": "26d62aa1",
   "metadata": {},
   "source": [
    "# Data normalization"
   ]
  },
  {
   "cell_type": "markdown",
   "id": "afa9b517",
   "metadata": {},
   "source": [
    "I want to normalize the data to check wether it is significant in classification. Obviously I only normalize numerical columns. Categorical ones will be merged to normalized dataframe. Also, I decided to move PCOS column to the beginning."
   ]
  },
  {
   "cell_type": "code",
   "execution_count": 15,
   "id": "b8190990",
   "metadata": {},
   "outputs": [
    {
     "data": {
      "text/html": [
       "<div>\n",
       "<style scoped>\n",
       "    .dataframe tbody tr th:only-of-type {\n",
       "        vertical-align: middle;\n",
       "    }\n",
       "\n",
       "    .dataframe tbody tr th {\n",
       "        vertical-align: top;\n",
       "    }\n",
       "\n",
       "    .dataframe thead th {\n",
       "        text-align: right;\n",
       "    }\n",
       "</style>\n",
       "<table border=\"1\" class=\"dataframe\">\n",
       "  <thead>\n",
       "    <tr style=\"text-align: right;\">\n",
       "      <th></th>\n",
       "      <th>PCOS (Y/N)</th>\n",
       "      <th>Age (yrs)</th>\n",
       "      <th>Weight (Kg)</th>\n",
       "      <th>Height(Cm)</th>\n",
       "      <th>BMI</th>\n",
       "      <th>Pulse rate(bpm)</th>\n",
       "      <th>RR (breaths/min)</th>\n",
       "      <th>Hb(g/dl)</th>\n",
       "      <th>Cycle length(days)</th>\n",
       "      <th>No. of aborptions</th>\n",
       "      <th>...</th>\n",
       "      <th>Avg. F size (R) (mm)</th>\n",
       "      <th>Endometrium (mm)</th>\n",
       "      <th>Cycle(R/I)</th>\n",
       "      <th>Pregnant(Y/N)</th>\n",
       "      <th>Weight gain(Y/N)</th>\n",
       "      <th>hair growth(Y/N)</th>\n",
       "      <th>Skin darkening (Y/N)</th>\n",
       "      <th>Hair loss(Y/N)</th>\n",
       "      <th>Pimples(Y/N)</th>\n",
       "      <th>Reg.Exercise(Y/N)</th>\n",
       "    </tr>\n",
       "    <tr>\n",
       "      <th>Sl. No</th>\n",
       "      <th></th>\n",
       "      <th></th>\n",
       "      <th></th>\n",
       "      <th></th>\n",
       "      <th></th>\n",
       "      <th></th>\n",
       "      <th></th>\n",
       "      <th></th>\n",
       "      <th></th>\n",
       "      <th></th>\n",
       "      <th></th>\n",
       "      <th></th>\n",
       "      <th></th>\n",
       "      <th></th>\n",
       "      <th></th>\n",
       "      <th></th>\n",
       "      <th></th>\n",
       "      <th></th>\n",
       "      <th></th>\n",
       "      <th></th>\n",
       "      <th></th>\n",
       "    </tr>\n",
       "  </thead>\n",
       "  <tbody>\n",
       "    <tr>\n",
       "      <th>1</th>\n",
       "      <td>0</td>\n",
       "      <td>0.285714</td>\n",
       "      <td>0.176623</td>\n",
       "      <td>0.348837</td>\n",
       "      <td>0.259878</td>\n",
       "      <td>0.942029</td>\n",
       "      <td>0.500000</td>\n",
       "      <td>0.314286</td>\n",
       "      <td>0.416667</td>\n",
       "      <td>0.0</td>\n",
       "      <td>...</td>\n",
       "      <td>0.750000</td>\n",
       "      <td>0.472222</td>\n",
       "      <td>0</td>\n",
       "      <td>0</td>\n",
       "      <td>0</td>\n",
       "      <td>0</td>\n",
       "      <td>0</td>\n",
       "      <td>0</td>\n",
       "      <td>0</td>\n",
       "      <td>0</td>\n",
       "    </tr>\n",
       "    <tr>\n",
       "      <th>2</th>\n",
       "      <td>0</td>\n",
       "      <td>0.571429</td>\n",
       "      <td>0.441558</td>\n",
       "      <td>0.569767</td>\n",
       "      <td>0.472141</td>\n",
       "      <td>0.884058</td>\n",
       "      <td>0.333333</td>\n",
       "      <td>0.507937</td>\n",
       "      <td>0.416667</td>\n",
       "      <td>0.0</td>\n",
       "      <td>...</td>\n",
       "      <td>0.583333</td>\n",
       "      <td>0.205556</td>\n",
       "      <td>0</td>\n",
       "      <td>1</td>\n",
       "      <td>0</td>\n",
       "      <td>0</td>\n",
       "      <td>0</td>\n",
       "      <td>0</td>\n",
       "      <td>0</td>\n",
       "      <td>0</td>\n",
       "    </tr>\n",
       "    <tr>\n",
       "      <th>3</th>\n",
       "      <td>1</td>\n",
       "      <td>0.464286</td>\n",
       "      <td>0.490909</td>\n",
       "      <td>0.651163</td>\n",
       "      <td>0.485347</td>\n",
       "      <td>0.855072</td>\n",
       "      <td>0.166667</td>\n",
       "      <td>0.523810</td>\n",
       "      <td>0.416667</td>\n",
       "      <td>0.0</td>\n",
       "      <td>...</td>\n",
       "      <td>0.833333</td>\n",
       "      <td>0.555556</td>\n",
       "      <td>0</td>\n",
       "      <td>1</td>\n",
       "      <td>0</td>\n",
       "      <td>0</td>\n",
       "      <td>0</td>\n",
       "      <td>1</td>\n",
       "      <td>1</td>\n",
       "      <td>0</td>\n",
       "    </tr>\n",
       "    <tr>\n",
       "      <th>4</th>\n",
       "      <td>0</td>\n",
       "      <td>0.607143</td>\n",
       "      <td>0.441558</td>\n",
       "      <td>0.255814</td>\n",
       "      <td>0.651650</td>\n",
       "      <td>0.855072</td>\n",
       "      <td>0.333333</td>\n",
       "      <td>0.555556</td>\n",
       "      <td>0.416667</td>\n",
       "      <td>0.0</td>\n",
       "      <td>...</td>\n",
       "      <td>0.583333</td>\n",
       "      <td>0.416667</td>\n",
       "      <td>0</td>\n",
       "      <td>0</td>\n",
       "      <td>0</td>\n",
       "      <td>0</td>\n",
       "      <td>0</td>\n",
       "      <td>0</td>\n",
       "      <td>0</td>\n",
       "      <td>0</td>\n",
       "    </tr>\n",
       "    <tr>\n",
       "      <th>5</th>\n",
       "      <td>0</td>\n",
       "      <td>0.178571</td>\n",
       "      <td>0.272727</td>\n",
       "      <td>0.558140</td>\n",
       "      <td>0.288613</td>\n",
       "      <td>0.855072</td>\n",
       "      <td>0.166667</td>\n",
       "      <td>0.238095</td>\n",
       "      <td>0.416667</td>\n",
       "      <td>0.0</td>\n",
       "      <td>...</td>\n",
       "      <td>0.583333</td>\n",
       "      <td>0.388889</td>\n",
       "      <td>0</td>\n",
       "      <td>1</td>\n",
       "      <td>0</td>\n",
       "      <td>0</td>\n",
       "      <td>0</td>\n",
       "      <td>1</td>\n",
       "      <td>0</td>\n",
       "      <td>0</td>\n",
       "    </tr>\n",
       "    <tr>\n",
       "      <th>...</th>\n",
       "      <td>...</td>\n",
       "      <td>...</td>\n",
       "      <td>...</td>\n",
       "      <td>...</td>\n",
       "      <td>...</td>\n",
       "      <td>...</td>\n",
       "      <td>...</td>\n",
       "      <td>...</td>\n",
       "      <td>...</td>\n",
       "      <td>...</td>\n",
       "      <td>...</td>\n",
       "      <td>...</td>\n",
       "      <td>...</td>\n",
       "      <td>...</td>\n",
       "      <td>...</td>\n",
       "      <td>...</td>\n",
       "      <td>...</td>\n",
       "      <td>...</td>\n",
       "      <td>...</td>\n",
       "      <td>...</td>\n",
       "      <td>...</td>\n",
       "    </tr>\n",
       "    <tr>\n",
       "      <th>537</th>\n",
       "      <td>0</td>\n",
       "      <td>0.535714</td>\n",
       "      <td>0.246753</td>\n",
       "      <td>0.641674</td>\n",
       "      <td>0.229669</td>\n",
       "      <td>0.855072</td>\n",
       "      <td>0.000000</td>\n",
       "      <td>0.396825</td>\n",
       "      <td>0.416667</td>\n",
       "      <td>0.2</td>\n",
       "      <td>...</td>\n",
       "      <td>0.416667</td>\n",
       "      <td>0.372222</td>\n",
       "      <td>0</td>\n",
       "      <td>0</td>\n",
       "      <td>0</td>\n",
       "      <td>0</td>\n",
       "      <td>0</td>\n",
       "      <td>0</td>\n",
       "      <td>0</td>\n",
       "      <td>0</td>\n",
       "    </tr>\n",
       "    <tr>\n",
       "      <th>538</th>\n",
       "      <td>0</td>\n",
       "      <td>0.357143</td>\n",
       "      <td>0.418182</td>\n",
       "      <td>0.488372</td>\n",
       "      <td>0.486446</td>\n",
       "      <td>0.855072</td>\n",
       "      <td>0.166667</td>\n",
       "      <td>0.365079</td>\n",
       "      <td>0.416667</td>\n",
       "      <td>0.2</td>\n",
       "      <td>...</td>\n",
       "      <td>0.750000</td>\n",
       "      <td>0.455556</td>\n",
       "      <td>0</td>\n",
       "      <td>1</td>\n",
       "      <td>1</td>\n",
       "      <td>0</td>\n",
       "      <td>0</td>\n",
       "      <td>0</td>\n",
       "      <td>0</td>\n",
       "      <td>0</td>\n",
       "    </tr>\n",
       "    <tr>\n",
       "      <th>539</th>\n",
       "      <td>0</td>\n",
       "      <td>0.571429</td>\n",
       "      <td>0.298701</td>\n",
       "      <td>0.348837</td>\n",
       "      <td>0.414699</td>\n",
       "      <td>0.884058</td>\n",
       "      <td>0.333333</td>\n",
       "      <td>0.365079</td>\n",
       "      <td>0.500000</td>\n",
       "      <td>0.0</td>\n",
       "      <td>...</td>\n",
       "      <td>0.375000</td>\n",
       "      <td>0.405556</td>\n",
       "      <td>0</td>\n",
       "      <td>0</td>\n",
       "      <td>0</td>\n",
       "      <td>0</td>\n",
       "      <td>0</td>\n",
       "      <td>0</td>\n",
       "      <td>0</td>\n",
       "      <td>0</td>\n",
       "    </tr>\n",
       "    <tr>\n",
       "      <th>540</th>\n",
       "      <td>0</td>\n",
       "      <td>0.250000</td>\n",
       "      <td>0.246753</td>\n",
       "      <td>0.302326</td>\n",
       "      <td>0.369386</td>\n",
       "      <td>0.884058</td>\n",
       "      <td>0.333333</td>\n",
       "      <td>0.555556</td>\n",
       "      <td>0.166667</td>\n",
       "      <td>0.0</td>\n",
       "      <td>...</td>\n",
       "      <td>0.666667</td>\n",
       "      <td>0.638889</td>\n",
       "      <td>1</td>\n",
       "      <td>0</td>\n",
       "      <td>0</td>\n",
       "      <td>0</td>\n",
       "      <td>0</td>\n",
       "      <td>0</td>\n",
       "      <td>1</td>\n",
       "      <td>0</td>\n",
       "    </tr>\n",
       "    <tr>\n",
       "      <th>541</th>\n",
       "      <td>1</td>\n",
       "      <td>0.107143</td>\n",
       "      <td>0.662338</td>\n",
       "      <td>0.651163</td>\n",
       "      <td>0.667700</td>\n",
       "      <td>0.971014</td>\n",
       "      <td>0.333333</td>\n",
       "      <td>0.269841</td>\n",
       "      <td>0.583333</td>\n",
       "      <td>0.0</td>\n",
       "      <td>...</td>\n",
       "      <td>0.750000</td>\n",
       "      <td>0.383333</td>\n",
       "      <td>1</td>\n",
       "      <td>0</td>\n",
       "      <td>1</td>\n",
       "      <td>1</td>\n",
       "      <td>1</td>\n",
       "      <td>1</td>\n",
       "      <td>1</td>\n",
       "      <td>0</td>\n",
       "    </tr>\n",
       "  </tbody>\n",
       "</table>\n",
       "<p>540 rows × 36 columns</p>\n",
       "</div>"
      ],
      "text/plain": [
       "       PCOS (Y/N)   Age (yrs)  Weight (Kg)  Height(Cm)        BMI  \\\n",
       "Sl. No                                                              \n",
       "1               0    0.285714     0.176623     0.348837  0.259878   \n",
       "2               0    0.571429     0.441558     0.569767  0.472141   \n",
       "3               1    0.464286     0.490909     0.651163  0.485347   \n",
       "4               0    0.607143     0.441558     0.255814  0.651650   \n",
       "5               0    0.178571     0.272727     0.558140  0.288613   \n",
       "...           ...         ...          ...          ...       ...   \n",
       "537             0    0.535714     0.246753     0.641674  0.229669   \n",
       "538             0    0.357143     0.418182     0.488372  0.486446   \n",
       "539             0    0.571429     0.298701     0.348837  0.414699   \n",
       "540             0    0.250000     0.246753     0.302326  0.369386   \n",
       "541             1    0.107143     0.662338     0.651163  0.667700   \n",
       "\n",
       "        Pulse rate(bpm)   RR (breaths/min)  Hb(g/dl)  Cycle length(days)  \\\n",
       "Sl. No                                                                     \n",
       "1               0.942029          0.500000  0.314286            0.416667   \n",
       "2               0.884058          0.333333  0.507937            0.416667   \n",
       "3               0.855072          0.166667  0.523810            0.416667   \n",
       "4               0.855072          0.333333  0.555556            0.416667   \n",
       "5               0.855072          0.166667  0.238095            0.416667   \n",
       "...                  ...               ...       ...                 ...   \n",
       "537             0.855072          0.000000  0.396825            0.416667   \n",
       "538             0.855072          0.166667  0.365079            0.416667   \n",
       "539             0.884058          0.333333  0.365079            0.500000   \n",
       "540             0.884058          0.333333  0.555556            0.166667   \n",
       "541             0.971014          0.333333  0.269841            0.583333   \n",
       "\n",
       "        No. of aborptions  ...  Avg. F size (R) (mm)  Endometrium (mm)  \\\n",
       "Sl. No                     ...                                           \n",
       "1                     0.0  ...              0.750000          0.472222   \n",
       "2                     0.0  ...              0.583333          0.205556   \n",
       "3                     0.0  ...              0.833333          0.555556   \n",
       "4                     0.0  ...              0.583333          0.416667   \n",
       "5                     0.0  ...              0.583333          0.388889   \n",
       "...                   ...  ...                   ...               ...   \n",
       "537                   0.2  ...              0.416667          0.372222   \n",
       "538                   0.2  ...              0.750000          0.455556   \n",
       "539                   0.0  ...              0.375000          0.405556   \n",
       "540                   0.0  ...              0.666667          0.638889   \n",
       "541                   0.0  ...              0.750000          0.383333   \n",
       "\n",
       "        Cycle(R/I)  Pregnant(Y/N)  Weight gain(Y/N)  hair growth(Y/N)  \\\n",
       "Sl. No                                                                  \n",
       "1                0              0                 0                 0   \n",
       "2                0              1                 0                 0   \n",
       "3                0              1                 0                 0   \n",
       "4                0              0                 0                 0   \n",
       "5                0              1                 0                 0   \n",
       "...            ...            ...               ...               ...   \n",
       "537              0              0                 0                 0   \n",
       "538              0              1                 1                 0   \n",
       "539              0              0                 0                 0   \n",
       "540              1              0                 0                 0   \n",
       "541              1              0                 1                 1   \n",
       "\n",
       "        Skin darkening (Y/N)  Hair loss(Y/N)  Pimples(Y/N)  Reg.Exercise(Y/N)  \n",
       "Sl. No                                                                         \n",
       "1                          0               0             0                  0  \n",
       "2                          0               0             0                  0  \n",
       "3                          0               1             1                  0  \n",
       "4                          0               0             0                  0  \n",
       "5                          0               1             0                  0  \n",
       "...                      ...             ...           ...                ...  \n",
       "537                        0               0             0                  0  \n",
       "538                        0               0             0                  0  \n",
       "539                        0               0             0                  0  \n",
       "540                        0               0             1                  0  \n",
       "541                        1               1             1                  0  \n",
       "\n",
       "[540 rows x 36 columns]"
      ]
     },
     "execution_count": 15,
     "metadata": {},
     "output_type": "execute_result"
    }
   ],
   "source": [
    "cols = pcos.select_dtypes(np.number).columns\n",
    "cols_cat = pcos.select_dtypes('category').columns\n",
    "pcos[cols] = minmax_scale(pcos[cols])\n",
    "pcos_cont = pcos[cols]\n",
    "pcos_cat = pcos[cols_cat]\n",
    "pcos_norm = pd.concat([pcos_cont, pcos_cat], axis=1)\n",
    "\n",
    "temp_cols=pcos_norm.columns.tolist()\n",
    "index=pcos_norm.columns.get_loc(\"PCOS (Y/N)\")\n",
    "new_cols=temp_cols[index:index+1] + temp_cols[0:index] + temp_cols[index+1:]\n",
    "pcos_norm=pcos_norm[new_cols]\n",
    "\n",
    "pcos_norm"
   ]
  },
  {
   "cell_type": "markdown",
   "id": "771b6490",
   "metadata": {},
   "source": [
    "# Splitting data base into test and train set"
   ]
  },
  {
   "cell_type": "markdown",
   "id": "b06cf7ce",
   "metadata": {},
   "source": [
    "During classes I came into a conclusion that splitting data into 70/30 ratio is the best."
   ]
  },
  {
   "cell_type": "code",
   "execution_count": 16,
   "id": "b910188b",
   "metadata": {},
   "outputs": [],
   "source": [
    "(train_set, test_set) = train_test_split(pcos.values, train_size=0.7)"
   ]
  },
  {
   "cell_type": "code",
   "execution_count": 17,
   "id": "825c1114",
   "metadata": {},
   "outputs": [],
   "source": [
    "(train_set_norm, test_set_norm) = train_test_split(pcos_norm.values, train_size=0.7)"
   ]
  },
  {
   "cell_type": "markdown",
   "id": "7a3848a7",
   "metadata": {},
   "source": [
    "# Splitting train and test sets into inputs and classes"
   ]
  },
  {
   "cell_type": "code",
   "execution_count": 18,
   "id": "4650040c",
   "metadata": {},
   "outputs": [],
   "source": [
    "train_inputs = train_set[:, 1:35]\n",
    "train_classes = train_set[:, 0]\n",
    "test_inputs = test_set[:, 1:35]\n",
    "test_classes = test_set[:, 0]\n",
    "\n",
    "train_inputs_norm = train_set_norm[:, 1:35]\n",
    "train_classes_norm = train_set_norm[:, 0]\n",
    "test_inputs_norm = test_set_norm[:, 1:35]\n",
    "test_classes_norm = test_set_norm[:, 0]"
   ]
  },
  {
   "cell_type": "markdown",
   "id": "ef9dce1b",
   "metadata": {},
   "source": [
    "# Decision tree"
   ]
  },
  {
   "cell_type": "markdown",
   "id": "17bdc1f0",
   "metadata": {},
   "source": [
    "Standard decision tree cannot deal with categorical columns so I will drop them for now"
   ]
  },
  {
   "cell_type": "code",
   "execution_count": 19,
   "id": "0d0e3379",
   "metadata": {},
   "outputs": [],
   "source": [
    "pcos_tree = pcos.select_dtypes(exclude=['category'])\n",
    "pcos_tree_norm = pcos_norm.select_dtypes(exclude=['category'])\n",
    "\n",
    "extracted_col = pcos['PCOS (Y/N)']\n",
    "pcos_tree = pcos_tree.join(extracted_col)\n",
    "pcos_tree_norm = pcos_tree_norm.join(extracted_col)\n",
    "\n",
    "(train_set, test_set) = train_test_split(pcos_tree.values, train_size=0.7)\n",
    "(train_set_norm, test_set_norm) = train_test_split(pcos_tree_norm.values, train_size=0.7)\n",
    "\n"
   ]
  },
  {
   "cell_type": "code",
   "execution_count": 20,
   "id": "b92564d2",
   "metadata": {},
   "outputs": [
    {
     "name": "stdout",
     "output_type": "stream",
     "text": [
      "<class 'pandas.core.frame.DataFrame'>\n",
      "Int64Index: 540 entries, 1 to 541\n",
      "Data columns (total 28 columns):\n",
      " #   Column                Non-Null Count  Dtype   \n",
      "---  ------                --------------  -----   \n",
      " 0    Age (yrs)            540 non-null    float64 \n",
      " 1   Weight (Kg)           540 non-null    float64 \n",
      " 2   Height(Cm)            540 non-null    float64 \n",
      " 3   BMI                   540 non-null    float64 \n",
      " 4   Pulse rate(bpm)       540 non-null    float64 \n",
      " 5   RR (breaths/min)      540 non-null    float64 \n",
      " 6   Hb(g/dl)              540 non-null    float64 \n",
      " 7   Cycle length(days)    540 non-null    float64 \n",
      " 8   No. of aborptions     540 non-null    float64 \n",
      " 9   FSH(mIU/mL)           540 non-null    float64 \n",
      " 10  LH(mIU/mL)            540 non-null    float64 \n",
      " 11  FSH/LH                540 non-null    float64 \n",
      " 12  Hip(inch)             540 non-null    float64 \n",
      " 13  Waist(inch)           540 non-null    float64 \n",
      " 14  TSH (mIU/L)           540 non-null    float64 \n",
      " 15  AMH(ng/mL)            540 non-null    float64 \n",
      " 16  PRL(ng/mL)            540 non-null    float64 \n",
      " 17  Vit D3 (ng/mL)        540 non-null    float64 \n",
      " 18  PRG(ng/mL)            540 non-null    float64 \n",
      " 19  RBS(mg/dl)            540 non-null    float64 \n",
      " 20  BP _Systolic (mmHg)   540 non-null    float64 \n",
      " 21  BP _Diastolic (mmHg)  540 non-null    float64 \n",
      " 22  Follicle No. (L)      540 non-null    float64 \n",
      " 23  Follicle No. (R)      540 non-null    float64 \n",
      " 24  Avg. F size (L) (mm)  540 non-null    float64 \n",
      " 25  Avg. F size (R) (mm)  540 non-null    float64 \n",
      " 26  Endometrium (mm)      540 non-null    float64 \n",
      " 27  PCOS (Y/N)            540 non-null    category\n",
      "dtypes: category(1), float64(27)\n",
      "memory usage: 134.9 KB\n"
     ]
    }
   ],
   "source": [
    "pcos_tree.info()"
   ]
  },
  {
   "cell_type": "code",
   "execution_count": 21,
   "id": "2fb098e4",
   "metadata": {},
   "outputs": [],
   "source": [
    "train_inputs = train_set[:, 0:26]\n",
    "train_classes = train_set[:, 27]\n",
    "test_inputs = test_set[:, 0:26]\n",
    "test_classes = test_set[:, 27]\n",
    "\n",
    "train_inputs_norm = train_set_norm[:, 0:26]\n",
    "train_classes_norm = train_set_norm[:, 27]\n",
    "test_inputs_norm = test_set_norm[:, 0:26]\n",
    "test_classes_norm = test_set_norm[:, 27]"
   ]
  },
  {
   "cell_type": "markdown",
   "id": "884638bd",
   "metadata": {},
   "source": [
    "Decision tree initiation"
   ]
  },
  {
   "cell_type": "code",
   "execution_count": 22,
   "id": "709b501c",
   "metadata": {},
   "outputs": [],
   "source": [
    "dtc = DecisionTreeClassifier()"
   ]
  },
  {
   "cell_type": "markdown",
   "id": "ac3a5d9f",
   "metadata": {},
   "source": [
    "Tree training"
   ]
  },
  {
   "cell_type": "code",
   "execution_count": 23,
   "id": "726f1376",
   "metadata": {},
   "outputs": [
    {
     "data": {
      "text/html": [
       "<style>#sk-container-id-1 {color: black;background-color: white;}#sk-container-id-1 pre{padding: 0;}#sk-container-id-1 div.sk-toggleable {background-color: white;}#sk-container-id-1 label.sk-toggleable__label {cursor: pointer;display: block;width: 100%;margin-bottom: 0;padding: 0.3em;box-sizing: border-box;text-align: center;}#sk-container-id-1 label.sk-toggleable__label-arrow:before {content: \"▸\";float: left;margin-right: 0.25em;color: #696969;}#sk-container-id-1 label.sk-toggleable__label-arrow:hover:before {color: black;}#sk-container-id-1 div.sk-estimator:hover label.sk-toggleable__label-arrow:before {color: black;}#sk-container-id-1 div.sk-toggleable__content {max-height: 0;max-width: 0;overflow: hidden;text-align: left;background-color: #f0f8ff;}#sk-container-id-1 div.sk-toggleable__content pre {margin: 0.2em;color: black;border-radius: 0.25em;background-color: #f0f8ff;}#sk-container-id-1 input.sk-toggleable__control:checked~div.sk-toggleable__content {max-height: 200px;max-width: 100%;overflow: auto;}#sk-container-id-1 input.sk-toggleable__control:checked~label.sk-toggleable__label-arrow:before {content: \"▾\";}#sk-container-id-1 div.sk-estimator input.sk-toggleable__control:checked~label.sk-toggleable__label {background-color: #d4ebff;}#sk-container-id-1 div.sk-label input.sk-toggleable__control:checked~label.sk-toggleable__label {background-color: #d4ebff;}#sk-container-id-1 input.sk-hidden--visually {border: 0;clip: rect(1px 1px 1px 1px);clip: rect(1px, 1px, 1px, 1px);height: 1px;margin: -1px;overflow: hidden;padding: 0;position: absolute;width: 1px;}#sk-container-id-1 div.sk-estimator {font-family: monospace;background-color: #f0f8ff;border: 1px dotted black;border-radius: 0.25em;box-sizing: border-box;margin-bottom: 0.5em;}#sk-container-id-1 div.sk-estimator:hover {background-color: #d4ebff;}#sk-container-id-1 div.sk-parallel-item::after {content: \"\";width: 100%;border-bottom: 1px solid gray;flex-grow: 1;}#sk-container-id-1 div.sk-label:hover label.sk-toggleable__label {background-color: #d4ebff;}#sk-container-id-1 div.sk-serial::before {content: \"\";position: absolute;border-left: 1px solid gray;box-sizing: border-box;top: 0;bottom: 0;left: 50%;z-index: 0;}#sk-container-id-1 div.sk-serial {display: flex;flex-direction: column;align-items: center;background-color: white;padding-right: 0.2em;padding-left: 0.2em;position: relative;}#sk-container-id-1 div.sk-item {position: relative;z-index: 1;}#sk-container-id-1 div.sk-parallel {display: flex;align-items: stretch;justify-content: center;background-color: white;position: relative;}#sk-container-id-1 div.sk-item::before, #sk-container-id-1 div.sk-parallel-item::before {content: \"\";position: absolute;border-left: 1px solid gray;box-sizing: border-box;top: 0;bottom: 0;left: 50%;z-index: -1;}#sk-container-id-1 div.sk-parallel-item {display: flex;flex-direction: column;z-index: 1;position: relative;background-color: white;}#sk-container-id-1 div.sk-parallel-item:first-child::after {align-self: flex-end;width: 50%;}#sk-container-id-1 div.sk-parallel-item:last-child::after {align-self: flex-start;width: 50%;}#sk-container-id-1 div.sk-parallel-item:only-child::after {width: 0;}#sk-container-id-1 div.sk-dashed-wrapped {border: 1px dashed gray;margin: 0 0.4em 0.5em 0.4em;box-sizing: border-box;padding-bottom: 0.4em;background-color: white;}#sk-container-id-1 div.sk-label label {font-family: monospace;font-weight: bold;display: inline-block;line-height: 1.2em;}#sk-container-id-1 div.sk-label-container {text-align: center;}#sk-container-id-1 div.sk-container {/* jupyter's `normalize.less` sets `[hidden] { display: none; }` but bootstrap.min.css set `[hidden] { display: none !important; }` so we also need the `!important` here to be able to override the default hidden behavior on the sphinx rendered scikit-learn.org. See: https://github.com/scikit-learn/scikit-learn/issues/21755 */display: inline-block !important;position: relative;}#sk-container-id-1 div.sk-text-repr-fallback {display: none;}</style><div id=\"sk-container-id-1\" class=\"sk-top-container\"><div class=\"sk-text-repr-fallback\"><pre>DecisionTreeClassifier()</pre><b>In a Jupyter environment, please rerun this cell to show the HTML representation or trust the notebook. <br />On GitHub, the HTML representation is unable to render, please try loading this page with nbviewer.org.</b></div><div class=\"sk-container\" hidden><div class=\"sk-item\"><div class=\"sk-estimator sk-toggleable\"><input class=\"sk-toggleable__control sk-hidden--visually\" id=\"sk-estimator-id-1\" type=\"checkbox\" checked><label for=\"sk-estimator-id-1\" class=\"sk-toggleable__label sk-toggleable__label-arrow\">DecisionTreeClassifier</label><div class=\"sk-toggleable__content\"><pre>DecisionTreeClassifier()</pre></div></div></div></div></div>"
      ],
      "text/plain": [
       "DecisionTreeClassifier()"
      ]
     },
     "execution_count": 23,
     "metadata": {},
     "output_type": "execute_result"
    }
   ],
   "source": [
    "dtc.fit(train_inputs, train_classes)"
   ]
  },
  {
   "cell_type": "code",
   "execution_count": 24,
   "id": "b2dbf429",
   "metadata": {},
   "outputs": [
    {
     "data": {
      "text/plain": [
       "[Text(0.6545239825581395, 0.9615384615384616, 'x[23] <= 0.425\\ngini = 0.433\\nsamples = 378\\nvalue = [258, 120]'),\n",
       " Text(0.49509447674418605, 0.8846153846153846, 'x[22] <= 0.432\\ngini = 0.204\\nsamples = 260\\nvalue = [230, 30]'),\n",
       " Text(0.3855377906976744, 0.8076923076923077, 'x[15] <= 0.107\\ngini = 0.173\\nsamples = 251\\nvalue = [227, 24]'),\n",
       " Text(0.23619186046511628, 0.7307692307692307, 'x[13] <= 0.848\\ngini = 0.103\\nsamples = 202\\nvalue = [191, 11]'),\n",
       " Text(0.2129360465116279, 0.6538461538461539, 'x[7] <= 0.292\\ngini = 0.095\\nsamples = 201\\nvalue = [191, 10]'),\n",
       " Text(0.12209302325581395, 0.5769230769230769, 'x[23] <= 0.325\\ngini = 0.375\\nsamples = 16\\nvalue = [12, 4]'),\n",
       " Text(0.09883720930232558, 0.5, 'x[3] <= 0.23\\ngini = 0.142\\nsamples = 13\\nvalue = [12, 1]'),\n",
       " Text(0.0755813953488372, 0.4230769230769231, 'gini = 0.0\\nsamples = 1\\nvalue = [0, 1]'),\n",
       " Text(0.12209302325581395, 0.4230769230769231, 'gini = 0.0\\nsamples = 12\\nvalue = [12, 0]'),\n",
       " Text(0.14534883720930233, 0.5, 'gini = 0.0\\nsamples = 3\\nvalue = [0, 3]'),\n",
       " Text(0.30377906976744184, 0.5769230769230769, 'x[19] <= 0.321\\ngini = 0.063\\nsamples = 185\\nvalue = [179, 6]'),\n",
       " Text(0.23546511627906977, 0.5, 'x[11] <= 0.015\\ngini = 0.053\\nsamples = 183\\nvalue = [178, 5]'),\n",
       " Text(0.1686046511627907, 0.4230769230769231, 'x[7] <= 0.833\\ngini = 0.043\\nsamples = 180\\nvalue = [176, 4]'),\n",
       " Text(0.10465116279069768, 0.34615384615384615, 'x[14] <= 0.01\\ngini = 0.033\\nsamples = 177\\nvalue = [174, 3]'),\n",
       " Text(0.046511627906976744, 0.2692307692307692, 'x[17] <= 0.004\\ngini = 0.32\\nsamples = 5\\nvalue = [4, 1]'),\n",
       " Text(0.023255813953488372, 0.19230769230769232, 'gini = 0.0\\nsamples = 1\\nvalue = [0, 1]'),\n",
       " Text(0.06976744186046512, 0.19230769230769232, 'gini = 0.0\\nsamples = 4\\nvalue = [4, 0]'),\n",
       " Text(0.16279069767441862, 0.2692307692307692, 'x[10] <= 0.003\\ngini = 0.023\\nsamples = 172\\nvalue = [170, 2]'),\n",
       " Text(0.11627906976744186, 0.19230769230769232, 'x[3] <= 0.56\\ngini = 0.012\\nsamples = 166\\nvalue = [165, 1]'),\n",
       " Text(0.09302325581395349, 0.11538461538461539, 'gini = 0.0\\nsamples = 144\\nvalue = [144, 0]'),\n",
       " Text(0.13953488372093023, 0.11538461538461539, 'x[3] <= 0.567\\ngini = 0.087\\nsamples = 22\\nvalue = [21, 1]'),\n",
       " Text(0.11627906976744186, 0.038461538461538464, 'gini = 0.0\\nsamples = 1\\nvalue = [0, 1]'),\n",
       " Text(0.16279069767441862, 0.038461538461538464, 'gini = 0.0\\nsamples = 21\\nvalue = [21, 0]'),\n",
       " Text(0.20930232558139536, 0.19230769230769232, 'x[6] <= 0.381\\ngini = 0.278\\nsamples = 6\\nvalue = [5, 1]'),\n",
       " Text(0.18604651162790697, 0.11538461538461539, 'gini = 0.0\\nsamples = 5\\nvalue = [5, 0]'),\n",
       " Text(0.23255813953488372, 0.11538461538461539, 'gini = 0.0\\nsamples = 1\\nvalue = [0, 1]'),\n",
       " Text(0.23255813953488372, 0.34615384615384615, 'x[10] <= 0.001\\ngini = 0.444\\nsamples = 3\\nvalue = [2, 1]'),\n",
       " Text(0.20930232558139536, 0.2692307692307692, 'gini = 0.0\\nsamples = 1\\nvalue = [0, 1]'),\n",
       " Text(0.2558139534883721, 0.2692307692307692, 'gini = 0.0\\nsamples = 2\\nvalue = [2, 0]'),\n",
       " Text(0.3023255813953488, 0.4230769230769231, 'x[6] <= 0.46\\ngini = 0.444\\nsamples = 3\\nvalue = [2, 1]'),\n",
       " Text(0.27906976744186046, 0.34615384615384615, 'gini = 0.0\\nsamples = 2\\nvalue = [2, 0]'),\n",
       " Text(0.32558139534883723, 0.34615384615384615, 'gini = 0.0\\nsamples = 1\\nvalue = [0, 1]'),\n",
       " Text(0.37209302325581395, 0.5, 'x[17] <= 0.003\\ngini = 0.5\\nsamples = 2\\nvalue = [1, 1]'),\n",
       " Text(0.3488372093023256, 0.4230769230769231, 'gini = 0.0\\nsamples = 1\\nvalue = [1, 0]'),\n",
       " Text(0.3953488372093023, 0.4230769230769231, 'gini = 0.0\\nsamples = 1\\nvalue = [0, 1]'),\n",
       " Text(0.25944767441860467, 0.6538461538461539, 'gini = 0.0\\nsamples = 1\\nvalue = [0, 1]'),\n",
       " Text(0.5348837209302325, 0.7307692307692307, 'x[3] <= 0.461\\ngini = 0.39\\nsamples = 49\\nvalue = [36, 13]'),\n",
       " Text(0.46511627906976744, 0.6538461538461539, 'x[10] <= 0.503\\ngini = 0.137\\nsamples = 27\\nvalue = [25, 2]'),\n",
       " Text(0.4418604651162791, 0.5769230769230769, 'x[4] <= 0.971\\ngini = 0.074\\nsamples = 26\\nvalue = [25, 1]'),\n",
       " Text(0.4186046511627907, 0.5, 'gini = 0.0\\nsamples = 24\\nvalue = [24, 0]'),\n",
       " Text(0.46511627906976744, 0.5, 'x[24] <= 0.688\\ngini = 0.5\\nsamples = 2\\nvalue = [1, 1]'),\n",
       " Text(0.4418604651162791, 0.4230769230769231, 'gini = 0.0\\nsamples = 1\\nvalue = [0, 1]'),\n",
       " Text(0.4883720930232558, 0.4230769230769231, 'gini = 0.0\\nsamples = 1\\nvalue = [1, 0]'),\n",
       " Text(0.4883720930232558, 0.5769230769230769, 'gini = 0.0\\nsamples = 1\\nvalue = [0, 1]'),\n",
       " Text(0.6046511627906976, 0.6538461538461539, 'x[19] <= 0.152\\ngini = 0.5\\nsamples = 22\\nvalue = [11, 11]'),\n",
       " Text(0.5813953488372093, 0.5769230769230769, 'x[25] <= 0.729\\ngini = 0.391\\nsamples = 15\\nvalue = [4, 11]'),\n",
       " Text(0.5581395348837209, 0.5, 'x[24] <= 0.781\\ngini = 0.26\\nsamples = 13\\nvalue = [2, 11]'),\n",
       " Text(0.5348837209302325, 0.4230769230769231, 'x[0] <= 0.446\\ngini = 0.153\\nsamples = 12\\nvalue = [1, 11]'),\n",
       " Text(0.5116279069767442, 0.34615384615384615, 'gini = 0.0\\nsamples = 9\\nvalue = [0, 9]'),\n",
       " Text(0.5581395348837209, 0.34615384615384615, 'x[21] <= 0.728\\ngini = 0.444\\nsamples = 3\\nvalue = [1, 2]'),\n",
       " Text(0.5348837209302325, 0.2692307692307692, 'gini = 0.0\\nsamples = 1\\nvalue = [1, 0]'),\n",
       " Text(0.5813953488372093, 0.2692307692307692, 'gini = 0.0\\nsamples = 2\\nvalue = [0, 2]'),\n",
       " Text(0.5813953488372093, 0.4230769230769231, 'gini = 0.0\\nsamples = 1\\nvalue = [1, 0]'),\n",
       " Text(0.6046511627906976, 0.5, 'gini = 0.0\\nsamples = 2\\nvalue = [2, 0]'),\n",
       " Text(0.627906976744186, 0.5769230769230769, 'gini = 0.0\\nsamples = 7\\nvalue = [7, 0]'),\n",
       " Text(0.6046511627906976, 0.8076923076923077, 'x[1] <= 0.266\\ngini = 0.444\\nsamples = 9\\nvalue = [3, 6]'),\n",
       " Text(0.5813953488372093, 0.7307692307692307, 'gini = 0.0\\nsamples = 3\\nvalue = [3, 0]'),\n",
       " Text(0.627906976744186, 0.7307692307692307, 'gini = 0.0\\nsamples = 6\\nvalue = [0, 6]'),\n",
       " Text(0.813953488372093, 0.8846153846153846, 'x[23] <= 0.525\\ngini = 0.362\\nsamples = 118\\nvalue = [28, 90]'),\n",
       " Text(0.7209302325581395, 0.8076923076923077, 'x[10] <= 0.0\\ngini = 0.491\\nsamples = 44\\nvalue = [19, 25]'),\n",
       " Text(0.6976744186046512, 0.7307692307692307, 'gini = 0.0\\nsamples = 6\\nvalue = [6, 0]'),\n",
       " Text(0.7441860465116279, 0.7307692307692307, 'x[9] <= 0.001\\ngini = 0.45\\nsamples = 38\\nvalue = [13, 25]'),\n",
       " Text(0.6976744186046512, 0.6538461538461539, 'x[20] <= 0.727\\ngini = 0.328\\nsamples = 29\\nvalue = [6, 23]'),\n",
       " Text(0.6744186046511628, 0.5769230769230769, 'gini = 0.0\\nsamples = 2\\nvalue = [2, 0]'),\n",
       " Text(0.7209302325581395, 0.5769230769230769, 'x[14] <= 0.009\\ngini = 0.252\\nsamples = 27\\nvalue = [4, 23]'),\n",
       " Text(0.6976744186046512, 0.5, 'gini = 0.0\\nsamples = 2\\nvalue = [2, 0]'),\n",
       " Text(0.7441860465116279, 0.5, 'x[24] <= 0.812\\ngini = 0.147\\nsamples = 25\\nvalue = [2, 23]'),\n",
       " Text(0.7209302325581395, 0.4230769230769231, 'gini = 0.0\\nsamples = 22\\nvalue = [0, 22]'),\n",
       " Text(0.7674418604651163, 0.4230769230769231, 'x[18] <= 0.004\\ngini = 0.444\\nsamples = 3\\nvalue = [2, 1]'),\n",
       " Text(0.7441860465116279, 0.34615384615384615, 'gini = 0.0\\nsamples = 2\\nvalue = [2, 0]'),\n",
       " Text(0.7906976744186046, 0.34615384615384615, 'gini = 0.0\\nsamples = 1\\nvalue = [0, 1]'),\n",
       " Text(0.7906976744186046, 0.6538461538461539, 'x[6] <= 0.587\\ngini = 0.346\\nsamples = 9\\nvalue = [7, 2]'),\n",
       " Text(0.7674418604651163, 0.5769230769230769, 'gini = 0.0\\nsamples = 7\\nvalue = [7, 0]'),\n",
       " Text(0.813953488372093, 0.5769230769230769, 'gini = 0.0\\nsamples = 2\\nvalue = [0, 2]'),\n",
       " Text(0.9069767441860465, 0.8076923076923077, 'x[10] <= 0.004\\ngini = 0.214\\nsamples = 74\\nvalue = [9, 65]'),\n",
       " Text(0.8604651162790697, 0.7307692307692307, 'x[24] <= 0.396\\ngini = 0.157\\nsamples = 70\\nvalue = [6, 64]'),\n",
       " Text(0.8372093023255814, 0.6538461538461539, 'gini = 0.0\\nsamples = 1\\nvalue = [1, 0]'),\n",
       " Text(0.8837209302325582, 0.6538461538461539, 'x[6] <= 0.159\\ngini = 0.134\\nsamples = 69\\nvalue = [5, 64]'),\n",
       " Text(0.8604651162790697, 0.5769230769230769, 'gini = 0.0\\nsamples = 1\\nvalue = [1, 0]'),\n",
       " Text(0.9069767441860465, 0.5769230769230769, 'x[0] <= 0.036\\ngini = 0.111\\nsamples = 68\\nvalue = [4, 64]'),\n",
       " Text(0.8837209302325582, 0.5, 'gini = 0.0\\nsamples = 1\\nvalue = [1, 0]'),\n",
       " Text(0.9302325581395349, 0.5, 'x[5] <= 0.583\\ngini = 0.086\\nsamples = 67\\nvalue = [3, 64]'),\n",
       " Text(0.9069767441860465, 0.4230769230769231, 'x[6] <= 0.794\\ngini = 0.059\\nsamples = 66\\nvalue = [2, 64]'),\n",
       " Text(0.8604651162790697, 0.34615384615384615, 'x[19] <= 0.181\\ngini = 0.031\\nsamples = 64\\nvalue = [1, 63]'),\n",
       " Text(0.8372093023255814, 0.2692307692307692, 'gini = 0.0\\nsamples = 56\\nvalue = [0, 56]'),\n",
       " Text(0.8837209302325582, 0.2692307692307692, 'x[15] <= 0.033\\ngini = 0.219\\nsamples = 8\\nvalue = [1, 7]'),\n",
       " Text(0.8604651162790697, 0.19230769230769232, 'gini = 0.0\\nsamples = 1\\nvalue = [1, 0]'),\n",
       " Text(0.9069767441860465, 0.19230769230769232, 'gini = 0.0\\nsamples = 7\\nvalue = [0, 7]'),\n",
       " Text(0.9534883720930233, 0.34615384615384615, 'x[17] <= 0.005\\ngini = 0.5\\nsamples = 2\\nvalue = [1, 1]'),\n",
       " Text(0.9302325581395349, 0.2692307692307692, 'gini = 0.0\\nsamples = 1\\nvalue = [0, 1]'),\n",
       " Text(0.9767441860465116, 0.2692307692307692, 'gini = 0.0\\nsamples = 1\\nvalue = [1, 0]'),\n",
       " Text(0.9534883720930233, 0.4230769230769231, 'gini = 0.0\\nsamples = 1\\nvalue = [1, 0]'),\n",
       " Text(0.9534883720930233, 0.7307692307692307, 'x[16] <= 0.104\\ngini = 0.375\\nsamples = 4\\nvalue = [3, 1]'),\n",
       " Text(0.9302325581395349, 0.6538461538461539, 'gini = 0.0\\nsamples = 3\\nvalue = [3, 0]'),\n",
       " Text(0.9767441860465116, 0.6538461538461539, 'gini = 0.0\\nsamples = 1\\nvalue = [0, 1]')]"
      ]
     },
     "execution_count": 24,
     "metadata": {},
     "output_type": "execute_result"
    },
    {
     "data": {
      "image/png": "[encoded data removed]",
      "text/plain": [
       "<Figure size 640x480 with 1 Axes>"
      ]
     },
     "metadata": {},
     "output_type": "display_data"
    }
   ],
   "source": [
    "tree.plot_tree(dtc, filled = True)"
   ]
  },
  {
   "cell_type": "markdown",
   "id": "b39c2dfd",
   "metadata": {},
   "source": [
    "Accuracy"
   ]
  },
  {
   "cell_type": "code",
   "execution_count": 25,
   "id": "b589a83a",
   "metadata": {},
   "outputs": [
    {
     "data": {
      "text/plain": [
       "0.7839506172839507"
      ]
     },
     "execution_count": 25,
     "metadata": {},
     "output_type": "execute_result"
    }
   ],
   "source": [
    "tree_acc=dtc.score(test_inputs, test_classes)\n",
    "tree_acc"
   ]
  },
  {
   "cell_type": "markdown",
   "id": "be5e1eb2",
   "metadata": {},
   "source": [
    "Confusion matrix"
   ]
  },
  {
   "cell_type": "code",
   "execution_count": 26,
   "id": "3969edf5",
   "metadata": {},
   "outputs": [
    {
     "data": {
      "image/png": "[encoded data removed]",
      "text/plain": [
       "<Figure size 640x480 with 2 Axes>"
      ]
     },
     "metadata": {},
     "output_type": "display_data"
    }
   ],
   "source": [
    "pred = dtc.predict(test_inputs)\n",
    "cm = confusion_matrix(test_classes, pred)\n",
    "\n",
    "cm_display = ConfusionMatrixDisplay(confusion_matrix = cm, display_labels = [False, True])\n",
    "\n",
    "cm_display.plot()\n",
    "plt.show()"
   ]
  },
  {
   "cell_type": "markdown",
   "id": "f1e7a884",
   "metadata": {},
   "source": [
    "For normalized data"
   ]
  },
  {
   "cell_type": "code",
   "execution_count": 27,
   "id": "f9cd5209",
   "metadata": {},
   "outputs": [
    {
     "data": {
      "text/html": [
       "<style>#sk-container-id-2 {color: black;background-color: white;}#sk-container-id-2 pre{padding: 0;}#sk-container-id-2 div.sk-toggleable {background-color: white;}#sk-container-id-2 label.sk-toggleable__label {cursor: pointer;display: block;width: 100%;margin-bottom: 0;padding: 0.3em;box-sizing: border-box;text-align: center;}#sk-container-id-2 label.sk-toggleable__label-arrow:before {content: \"▸\";float: left;margin-right: 0.25em;color: #696969;}#sk-container-id-2 label.sk-toggleable__label-arrow:hover:before {color: black;}#sk-container-id-2 div.sk-estimator:hover label.sk-toggleable__label-arrow:before {color: black;}#sk-container-id-2 div.sk-toggleable__content {max-height: 0;max-width: 0;overflow: hidden;text-align: left;background-color: #f0f8ff;}#sk-container-id-2 div.sk-toggleable__content pre {margin: 0.2em;color: black;border-radius: 0.25em;background-color: #f0f8ff;}#sk-container-id-2 input.sk-toggleable__control:checked~div.sk-toggleable__content {max-height: 200px;max-width: 100%;overflow: auto;}#sk-container-id-2 input.sk-toggleable__control:checked~label.sk-toggleable__label-arrow:before {content: \"▾\";}#sk-container-id-2 div.sk-estimator input.sk-toggleable__control:checked~label.sk-toggleable__label {background-color: #d4ebff;}#sk-container-id-2 div.sk-label input.sk-toggleable__control:checked~label.sk-toggleable__label {background-color: #d4ebff;}#sk-container-id-2 input.sk-hidden--visually {border: 0;clip: rect(1px 1px 1px 1px);clip: rect(1px, 1px, 1px, 1px);height: 1px;margin: -1px;overflow: hidden;padding: 0;position: absolute;width: 1px;}#sk-container-id-2 div.sk-estimator {font-family: monospace;background-color: #f0f8ff;border: 1px dotted black;border-radius: 0.25em;box-sizing: border-box;margin-bottom: 0.5em;}#sk-container-id-2 div.sk-estimator:hover {background-color: #d4ebff;}#sk-container-id-2 div.sk-parallel-item::after {content: \"\";width: 100%;border-bottom: 1px solid gray;flex-grow: 1;}#sk-container-id-2 div.sk-label:hover label.sk-toggleable__label {background-color: #d4ebff;}#sk-container-id-2 div.sk-serial::before {content: \"\";position: absolute;border-left: 1px solid gray;box-sizing: border-box;top: 0;bottom: 0;left: 50%;z-index: 0;}#sk-container-id-2 div.sk-serial {display: flex;flex-direction: column;align-items: center;background-color: white;padding-right: 0.2em;padding-left: 0.2em;position: relative;}#sk-container-id-2 div.sk-item {position: relative;z-index: 1;}#sk-container-id-2 div.sk-parallel {display: flex;align-items: stretch;justify-content: center;background-color: white;position: relative;}#sk-container-id-2 div.sk-item::before, #sk-container-id-2 div.sk-parallel-item::before {content: \"\";position: absolute;border-left: 1px solid gray;box-sizing: border-box;top: 0;bottom: 0;left: 50%;z-index: -1;}#sk-container-id-2 div.sk-parallel-item {display: flex;flex-direction: column;z-index: 1;position: relative;background-color: white;}#sk-container-id-2 div.sk-parallel-item:first-child::after {align-self: flex-end;width: 50%;}#sk-container-id-2 div.sk-parallel-item:last-child::after {align-self: flex-start;width: 50%;}#sk-container-id-2 div.sk-parallel-item:only-child::after {width: 0;}#sk-container-id-2 div.sk-dashed-wrapped {border: 1px dashed gray;margin: 0 0.4em 0.5em 0.4em;box-sizing: border-box;padding-bottom: 0.4em;background-color: white;}#sk-container-id-2 div.sk-label label {font-family: monospace;font-weight: bold;display: inline-block;line-height: 1.2em;}#sk-container-id-2 div.sk-label-container {text-align: center;}#sk-container-id-2 div.sk-container {/* jupyter's `normalize.less` sets `[hidden] { display: none; }` but bootstrap.min.css set `[hidden] { display: none !important; }` so we also need the `!important` here to be able to override the default hidden behavior on the sphinx rendered scikit-learn.org. See: https://github.com/scikit-learn/scikit-learn/issues/21755 */display: inline-block !important;position: relative;}#sk-container-id-2 div.sk-text-repr-fallback {display: none;}</style><div id=\"sk-container-id-2\" class=\"sk-top-container\"><div class=\"sk-text-repr-fallback\"><pre>DecisionTreeClassifier()</pre><b>In a Jupyter environment, please rerun this cell to show the HTML representation or trust the notebook. <br />On GitHub, the HTML representation is unable to render, please try loading this page with nbviewer.org.</b></div><div class=\"sk-container\" hidden><div class=\"sk-item\"><div class=\"sk-estimator sk-toggleable\"><input class=\"sk-toggleable__control sk-hidden--visually\" id=\"sk-estimator-id-2\" type=\"checkbox\" checked><label for=\"sk-estimator-id-2\" class=\"sk-toggleable__label sk-toggleable__label-arrow\">DecisionTreeClassifier</label><div class=\"sk-toggleable__content\"><pre>DecisionTreeClassifier()</pre></div></div></div></div></div>"
      ],
      "text/plain": [
       "DecisionTreeClassifier()"
      ]
     },
     "execution_count": 27,
     "metadata": {},
     "output_type": "execute_result"
    }
   ],
   "source": [
    "dtc.fit(train_inputs_norm, train_classes_norm)"
   ]
  },
  {
   "cell_type": "code",
   "execution_count": 28,
   "id": "d984837d",
   "metadata": {},
   "outputs": [
    {
     "data": {
      "text/plain": [
       "[Text(0.5233609068627451, 0.9615384615384616, 'x[23] <= 0.475\\ngini = 0.437\\nsamples = 378\\nvalue = [256, 122]'),\n",
       " Text(0.18152573529411764, 0.8846153846153846, 'x[22] <= 0.523\\ngini = 0.234\\nsamples = 281\\nvalue = [243, 38]'),\n",
       " Text(0.16191789215686275, 0.8076923076923077, 'x[11] <= 0.0\\ngini = 0.201\\nsamples = 274\\nvalue = [243, 31]'),\n",
       " Text(0.0392156862745098, 0.7307692307692307, 'x[23] <= 0.175\\ngini = 0.346\\nsamples = 9\\nvalue = [2, 7]'),\n",
       " Text(0.0196078431372549, 0.6538461538461539, 'gini = 0.0\\nsamples = 2\\nvalue = [2, 0]'),\n",
       " Text(0.058823529411764705, 0.6538461538461539, 'gini = 0.0\\nsamples = 7\\nvalue = [0, 7]'),\n",
       " Text(0.2846200980392157, 0.7307692307692307, 'x[7] <= 0.375\\ngini = 0.165\\nsamples = 265\\nvalue = [241, 24]'),\n",
       " Text(0.09803921568627451, 0.6538461538461539, 'x[23] <= 0.425\\ngini = 0.365\\nsamples = 50\\nvalue = [38, 12]'),\n",
       " Text(0.058823529411764705, 0.5769230769230769, 'x[10] <= 0.0\\ngini = 0.298\\nsamples = 44\\nvalue = [36, 8]'),\n",
       " Text(0.0392156862745098, 0.5, 'gini = 0.0\\nsamples = 2\\nvalue = [0, 2]'),\n",
       " Text(0.0784313725490196, 0.5, 'x[18] <= 0.005\\ngini = 0.245\\nsamples = 42\\nvalue = [36, 6]'),\n",
       " Text(0.0392156862745098, 0.4230769230769231, 'x[10] <= 0.003\\ngini = 0.064\\nsamples = 30\\nvalue = [29, 1]'),\n",
       " Text(0.0196078431372549, 0.34615384615384615, 'gini = 0.0\\nsamples = 28\\nvalue = [28, 0]'),\n",
       " Text(0.058823529411764705, 0.34615384615384615, 'x[7] <= 0.292\\ngini = 0.5\\nsamples = 2\\nvalue = [1, 1]'),\n",
       " Text(0.0392156862745098, 0.2692307692307692, 'gini = 0.0\\nsamples = 1\\nvalue = [1, 0]'),\n",
       " Text(0.0784313725490196, 0.2692307692307692, 'gini = 0.0\\nsamples = 1\\nvalue = [0, 1]'),\n",
       " Text(0.11764705882352941, 0.4230769230769231, 'x[22] <= 0.159\\ngini = 0.486\\nsamples = 12\\nvalue = [7, 5]'),\n",
       " Text(0.09803921568627451, 0.34615384615384615, 'gini = 0.0\\nsamples = 6\\nvalue = [6, 0]'),\n",
       " Text(0.13725490196078433, 0.34615384615384615, 'x[12] <= 0.659\\ngini = 0.278\\nsamples = 6\\nvalue = [1, 5]'),\n",
       " Text(0.11764705882352941, 0.2692307692307692, 'gini = 0.0\\nsamples = 5\\nvalue = [0, 5]'),\n",
       " Text(0.1568627450980392, 0.2692307692307692, 'gini = 0.0\\nsamples = 1\\nvalue = [1, 0]'),\n",
       " Text(0.13725490196078433, 0.5769230769230769, 'x[24] <= 0.75\\ngini = 0.444\\nsamples = 6\\nvalue = [2, 4]'),\n",
       " Text(0.11764705882352941, 0.5, 'gini = 0.0\\nsamples = 4\\nvalue = [0, 4]'),\n",
       " Text(0.1568627450980392, 0.5, 'gini = 0.0\\nsamples = 2\\nvalue = [2, 0]'),\n",
       " Text(0.47120098039215685, 0.6538461538461539, 'x[1] <= 0.566\\ngini = 0.105\\nsamples = 215\\nvalue = [203, 12]'),\n",
       " Text(0.41299019607843135, 0.5769230769230769, 'x[7] <= 0.667\\ngini = 0.075\\nsamples = 204\\nvalue = [196, 8]'),\n",
       " Text(0.3553921568627451, 0.5, 'x[22] <= 0.432\\ngini = 0.058\\nsamples = 200\\nvalue = [194, 6]'),\n",
       " Text(0.29901960784313725, 0.4230769230769231, 'x[25] <= 0.896\\ngini = 0.041\\nsamples = 193\\nvalue = [189, 4]'),\n",
       " Text(0.24509803921568626, 0.34615384615384615, 'x[3] <= 0.637\\ngini = 0.031\\nsamples = 191\\nvalue = [188, 3]'),\n",
       " Text(0.19607843137254902, 0.2692307692307692, 'x[0] <= 0.089\\ngini = 0.021\\nsamples = 188\\nvalue = [186, 2]'),\n",
       " Text(0.1568627450980392, 0.19230769230769232, 'x[19] <= 0.088\\ngini = 0.32\\nsamples = 5\\nvalue = [4, 1]'),\n",
       " Text(0.13725490196078433, 0.11538461538461539, 'gini = 0.0\\nsamples = 1\\nvalue = [0, 1]'),\n",
       " Text(0.17647058823529413, 0.11538461538461539, 'gini = 0.0\\nsamples = 4\\nvalue = [4, 0]'),\n",
       " Text(0.23529411764705882, 0.19230769230769232, 'x[14] <= 0.01\\ngini = 0.011\\nsamples = 183\\nvalue = [182, 1]'),\n",
       " Text(0.21568627450980393, 0.11538461538461539, 'x[14] <= 0.009\\ngini = 0.278\\nsamples = 6\\nvalue = [5, 1]'),\n",
       " Text(0.19607843137254902, 0.038461538461538464, 'gini = 0.0\\nsamples = 5\\nvalue = [5, 0]'),\n",
       " Text(0.23529411764705882, 0.038461538461538464, 'gini = 0.0\\nsamples = 1\\nvalue = [0, 1]'),\n",
       " Text(0.2549019607843137, 0.11538461538461539, 'gini = 0.0\\nsamples = 177\\nvalue = [177, 0]'),\n",
       " Text(0.29411764705882354, 0.2692307692307692, 'x[10] <= 0.001\\ngini = 0.444\\nsamples = 3\\nvalue = [2, 1]'),\n",
       " Text(0.27450980392156865, 0.19230769230769232, 'gini = 0.0\\nsamples = 2\\nvalue = [2, 0]'),\n",
       " Text(0.3137254901960784, 0.19230769230769232, 'gini = 0.0\\nsamples = 1\\nvalue = [0, 1]'),\n",
       " Text(0.35294117647058826, 0.34615384615384615, 'x[10] <= 0.001\\ngini = 0.5\\nsamples = 2\\nvalue = [1, 1]'),\n",
       " Text(0.3333333333333333, 0.2692307692307692, 'gini = 0.0\\nsamples = 1\\nvalue = [0, 1]'),\n",
       " Text(0.37254901960784315, 0.2692307692307692, 'gini = 0.0\\nsamples = 1\\nvalue = [1, 0]'),\n",
       " Text(0.4117647058823529, 0.4230769230769231, 'x[25] <= 0.646\\ngini = 0.408\\nsamples = 7\\nvalue = [5, 2]'),\n",
       " Text(0.39215686274509803, 0.34615384615384615, 'gini = 0.0\\nsamples = 2\\nvalue = [0, 2]'),\n",
       " Text(0.43137254901960786, 0.34615384615384615, 'gini = 0.0\\nsamples = 5\\nvalue = [5, 0]'),\n",
       " Text(0.47058823529411764, 0.5, 'x[11] <= 0.002\\ngini = 0.5\\nsamples = 4\\nvalue = [2, 2]'),\n",
       " Text(0.45098039215686275, 0.4230769230769231, 'gini = 0.0\\nsamples = 2\\nvalue = [0, 2]'),\n",
       " Text(0.49019607843137253, 0.4230769230769231, 'gini = 0.0\\nsamples = 2\\nvalue = [2, 0]'),\n",
       " Text(0.5294117647058824, 0.5769230769230769, 'x[17] <= 0.003\\ngini = 0.463\\nsamples = 11\\nvalue = [7, 4]'),\n",
       " Text(0.5098039215686274, 0.5, 'gini = 0.0\\nsamples = 2\\nvalue = [0, 2]'),\n",
       " Text(0.5490196078431373, 0.5, 'x[18] <= 0.004\\ngini = 0.346\\nsamples = 9\\nvalue = [7, 2]'),\n",
       " Text(0.5294117647058824, 0.4230769230769231, 'gini = 0.0\\nsamples = 6\\nvalue = [6, 0]'),\n",
       " Text(0.5686274509803921, 0.4230769230769231, 'x[24] <= 0.375\\ngini = 0.444\\nsamples = 3\\nvalue = [1, 2]'),\n",
       " Text(0.5490196078431373, 0.34615384615384615, 'gini = 0.0\\nsamples = 1\\nvalue = [1, 0]'),\n",
       " Text(0.5882352941176471, 0.34615384615384615, 'gini = 0.0\\nsamples = 2\\nvalue = [0, 2]'),\n",
       " Text(0.20113357843137256, 0.8076923076923077, 'gini = 0.0\\nsamples = 7\\nvalue = [0, 7]'),\n",
       " Text(0.8651960784313726, 0.8846153846153846, 'x[6] <= 0.19\\ngini = 0.232\\nsamples = 97\\nvalue = [13, 84]'),\n",
       " Text(0.8455882352941176, 0.8076923076923077, 'gini = 0.0\\nsamples = 2\\nvalue = [2, 0]'),\n",
       " Text(0.8848039215686274, 0.8076923076923077, 'x[25] <= 0.812\\ngini = 0.205\\nsamples = 95\\nvalue = [11, 84]'),\n",
       " Text(0.8088235294117647, 0.7307692307692307, 'x[24] <= 0.854\\ngini = 0.136\\nsamples = 82\\nvalue = [6, 76]'),\n",
       " Text(0.7549019607843137, 0.6538461538461539, 'x[6] <= 0.81\\ngini = 0.117\\nsamples = 80\\nvalue = [5, 75]'),\n",
       " Text(0.7058823529411765, 0.5769230769230769, 'x[7] <= 0.458\\ngini = 0.097\\nsamples = 78\\nvalue = [4, 74]'),\n",
       " Text(0.6666666666666666, 0.5, 'x[20] <= 0.727\\ngini = 0.031\\nsamples = 64\\nvalue = [1, 63]'),\n",
       " Text(0.6470588235294118, 0.4230769230769231, 'x[25] <= 0.563\\ngini = 0.5\\nsamples = 2\\nvalue = [1, 1]'),\n",
       " Text(0.6274509803921569, 0.34615384615384615, 'gini = 0.0\\nsamples = 1\\nvalue = [0, 1]'),\n",
       " Text(0.6666666666666666, 0.34615384615384615, 'gini = 0.0\\nsamples = 1\\nvalue = [1, 0]'),\n",
       " Text(0.6862745098039216, 0.4230769230769231, 'gini = 0.0\\nsamples = 62\\nvalue = [0, 62]'),\n",
       " Text(0.7450980392156863, 0.5, 'x[24] <= 0.646\\ngini = 0.337\\nsamples = 14\\nvalue = [3, 11]'),\n",
       " Text(0.7254901960784313, 0.4230769230769231, 'x[18] <= 0.003\\ngini = 0.5\\nsamples = 6\\nvalue = [3, 3]'),\n",
       " Text(0.7058823529411765, 0.34615384615384615, 'gini = 0.0\\nsamples = 3\\nvalue = [3, 0]'),\n",
       " Text(0.7450980392156863, 0.34615384615384615, 'gini = 0.0\\nsamples = 3\\nvalue = [0, 3]'),\n",
       " Text(0.7647058823529411, 0.4230769230769231, 'gini = 0.0\\nsamples = 8\\nvalue = [0, 8]'),\n",
       " Text(0.803921568627451, 0.5769230769230769, 'x[9] <= 0.0\\ngini = 0.5\\nsamples = 2\\nvalue = [1, 1]'),\n",
       " Text(0.7843137254901961, 0.5, 'gini = 0.0\\nsamples = 1\\nvalue = [1, 0]'),\n",
       " Text(0.8235294117647058, 0.5, 'gini = 0.0\\nsamples = 1\\nvalue = [0, 1]'),\n",
       " Text(0.8627450980392157, 0.6538461538461539, 'x[6] <= 0.579\\ngini = 0.5\\nsamples = 2\\nvalue = [1, 1]'),\n",
       " Text(0.8431372549019608, 0.5769230769230769, 'gini = 0.0\\nsamples = 1\\nvalue = [0, 1]'),\n",
       " Text(0.8823529411764706, 0.5769230769230769, 'gini = 0.0\\nsamples = 1\\nvalue = [1, 0]'),\n",
       " Text(0.9607843137254902, 0.7307692307692307, 'x[19] <= 0.164\\ngini = 0.473\\nsamples = 13\\nvalue = [5, 8]'),\n",
       " Text(0.9411764705882353, 0.6538461538461539, 'x[9] <= 0.001\\ngini = 0.32\\nsamples = 10\\nvalue = [2, 8]'),\n",
       " Text(0.9215686274509803, 0.5769230769230769, 'gini = 0.0\\nsamples = 8\\nvalue = [0, 8]'),\n",
       " Text(0.9607843137254902, 0.5769230769230769, 'gini = 0.0\\nsamples = 2\\nvalue = [2, 0]'),\n",
       " Text(0.9803921568627451, 0.6538461538461539, 'gini = 0.0\\nsamples = 3\\nvalue = [3, 0]')]"
      ]
     },
     "execution_count": 28,
     "metadata": {},
     "output_type": "execute_result"
    },
    {
     "data": {
      "image/png": "[encoded data removed]",
      "text/plain": [
       "<Figure size 640x480 with 1 Axes>"
      ]
     },
     "metadata": {},
     "output_type": "display_data"
    }
   ],
   "source": [
    "tree.plot_tree(dtc, filled = True)"
   ]
  },
  {
   "cell_type": "code",
   "execution_count": 29,
   "id": "cdc60f90",
   "metadata": {},
   "outputs": [
    {
     "data": {
      "text/plain": [
       "0.7469135802469136"
      ]
     },
     "execution_count": 29,
     "metadata": {},
     "output_type": "execute_result"
    }
   ],
   "source": [
    "tree_acc_norm=dtc.score(test_inputs_norm, test_classes_norm)\n",
    "tree_acc_norm"
   ]
  },
  {
   "cell_type": "code",
   "execution_count": 30,
   "id": "94d2de55",
   "metadata": {},
   "outputs": [
    {
     "data": {
      "image/png": "[encoded data removed]",
      "text/plain": [
       "<Figure size 640x480 with 2 Axes>"
      ]
     },
     "metadata": {},
     "output_type": "display_data"
    }
   ],
   "source": [
    "pred = dtc.predict(test_inputs_norm)\n",
    "cm = confusion_matrix(test_classes_norm, pred)\n",
    "\n",
    "cm_display = ConfusionMatrixDisplay(confusion_matrix = cm, display_labels = [False, True])\n",
    "\n",
    "cm_display.plot()\n",
    "plt.show()"
   ]
  },
  {
   "cell_type": "markdown",
   "id": "1b26a2df",
   "metadata": {},
   "source": [
    "Prune leaves"
   ]
  },
  {
   "cell_type": "code",
   "execution_count": 31,
   "id": "96997df7",
   "metadata": {},
   "outputs": [],
   "source": [
    "dtc = DecisionTreeClassifier(max_depth = 4)"
   ]
  },
  {
   "cell_type": "code",
   "execution_count": 32,
   "id": "b79acc6d",
   "metadata": {},
   "outputs": [
    {
     "data": {
      "text/html": [
       "<style>#sk-container-id-3 {color: black;background-color: white;}#sk-container-id-3 pre{padding: 0;}#sk-container-id-3 div.sk-toggleable {background-color: white;}#sk-container-id-3 label.sk-toggleable__label {cursor: pointer;display: block;width: 100%;margin-bottom: 0;padding: 0.3em;box-sizing: border-box;text-align: center;}#sk-container-id-3 label.sk-toggleable__label-arrow:before {content: \"▸\";float: left;margin-right: 0.25em;color: #696969;}#sk-container-id-3 label.sk-toggleable__label-arrow:hover:before {color: black;}#sk-container-id-3 div.sk-estimator:hover label.sk-toggleable__label-arrow:before {color: black;}#sk-container-id-3 div.sk-toggleable__content {max-height: 0;max-width: 0;overflow: hidden;text-align: left;background-color: #f0f8ff;}#sk-container-id-3 div.sk-toggleable__content pre {margin: 0.2em;color: black;border-radius: 0.25em;background-color: #f0f8ff;}#sk-container-id-3 input.sk-toggleable__control:checked~div.sk-toggleable__content {max-height: 200px;max-width: 100%;overflow: auto;}#sk-container-id-3 input.sk-toggleable__control:checked~label.sk-toggleable__label-arrow:before {content: \"▾\";}#sk-container-id-3 div.sk-estimator input.sk-toggleable__control:checked~label.sk-toggleable__label {background-color: #d4ebff;}#sk-container-id-3 div.sk-label input.sk-toggleable__control:checked~label.sk-toggleable__label {background-color: #d4ebff;}#sk-container-id-3 input.sk-hidden--visually {border: 0;clip: rect(1px 1px 1px 1px);clip: rect(1px, 1px, 1px, 1px);height: 1px;margin: -1px;overflow: hidden;padding: 0;position: absolute;width: 1px;}#sk-container-id-3 div.sk-estimator {font-family: monospace;background-color: #f0f8ff;border: 1px dotted black;border-radius: 0.25em;box-sizing: border-box;margin-bottom: 0.5em;}#sk-container-id-3 div.sk-estimator:hover {background-color: #d4ebff;}#sk-container-id-3 div.sk-parallel-item::after {content: \"\";width: 100%;border-bottom: 1px solid gray;flex-grow: 1;}#sk-container-id-3 div.sk-label:hover label.sk-toggleable__label {background-color: #d4ebff;}#sk-container-id-3 div.sk-serial::before {content: \"\";position: absolute;border-left: 1px solid gray;box-sizing: border-box;top: 0;bottom: 0;left: 50%;z-index: 0;}#sk-container-id-3 div.sk-serial {display: flex;flex-direction: column;align-items: center;background-color: white;padding-right: 0.2em;padding-left: 0.2em;position: relative;}#sk-container-id-3 div.sk-item {position: relative;z-index: 1;}#sk-container-id-3 div.sk-parallel {display: flex;align-items: stretch;justify-content: center;background-color: white;position: relative;}#sk-container-id-3 div.sk-item::before, #sk-container-id-3 div.sk-parallel-item::before {content: \"\";position: absolute;border-left: 1px solid gray;box-sizing: border-box;top: 0;bottom: 0;left: 50%;z-index: -1;}#sk-container-id-3 div.sk-parallel-item {display: flex;flex-direction: column;z-index: 1;position: relative;background-color: white;}#sk-container-id-3 div.sk-parallel-item:first-child::after {align-self: flex-end;width: 50%;}#sk-container-id-3 div.sk-parallel-item:last-child::after {align-self: flex-start;width: 50%;}#sk-container-id-3 div.sk-parallel-item:only-child::after {width: 0;}#sk-container-id-3 div.sk-dashed-wrapped {border: 1px dashed gray;margin: 0 0.4em 0.5em 0.4em;box-sizing: border-box;padding-bottom: 0.4em;background-color: white;}#sk-container-id-3 div.sk-label label {font-family: monospace;font-weight: bold;display: inline-block;line-height: 1.2em;}#sk-container-id-3 div.sk-label-container {text-align: center;}#sk-container-id-3 div.sk-container {/* jupyter's `normalize.less` sets `[hidden] { display: none; }` but bootstrap.min.css set `[hidden] { display: none !important; }` so we also need the `!important` here to be able to override the default hidden behavior on the sphinx rendered scikit-learn.org. See: https://github.com/scikit-learn/scikit-learn/issues/21755 */display: inline-block !important;position: relative;}#sk-container-id-3 div.sk-text-repr-fallback {display: none;}</style><div id=\"sk-container-id-3\" class=\"sk-top-container\"><div class=\"sk-text-repr-fallback\"><pre>DecisionTreeClassifier(max_depth=4)</pre><b>In a Jupyter environment, please rerun this cell to show the HTML representation or trust the notebook. <br />On GitHub, the HTML representation is unable to render, please try loading this page with nbviewer.org.</b></div><div class=\"sk-container\" hidden><div class=\"sk-item\"><div class=\"sk-estimator sk-toggleable\"><input class=\"sk-toggleable__control sk-hidden--visually\" id=\"sk-estimator-id-3\" type=\"checkbox\" checked><label for=\"sk-estimator-id-3\" class=\"sk-toggleable__label sk-toggleable__label-arrow\">DecisionTreeClassifier</label><div class=\"sk-toggleable__content\"><pre>DecisionTreeClassifier(max_depth=4)</pre></div></div></div></div></div>"
      ],
      "text/plain": [
       "DecisionTreeClassifier(max_depth=4)"
      ]
     },
     "execution_count": 32,
     "metadata": {},
     "output_type": "execute_result"
    }
   ],
   "source": [
    "dtc.fit(train_inputs, train_classes)"
   ]
  },
  {
   "cell_type": "code",
   "execution_count": 33,
   "id": "7188aed7",
   "metadata": {},
   "outputs": [
    {
     "data": {
      "text/plain": [
       "[Text(0.4791666666666667, 0.9, 'x[23] <= 0.425\\ngini = 0.433\\nsamples = 378\\nvalue = [258, 120]'),\n",
       " Text(0.2708333333333333, 0.7, 'x[22] <= 0.432\\ngini = 0.204\\nsamples = 260\\nvalue = [230, 30]'),\n",
       " Text(0.16666666666666666, 0.5, 'x[15] <= 0.107\\ngini = 0.173\\nsamples = 251\\nvalue = [227, 24]'),\n",
       " Text(0.08333333333333333, 0.3, 'x[3] <= 0.98\\ngini = 0.103\\nsamples = 202\\nvalue = [191, 11]'),\n",
       " Text(0.041666666666666664, 0.1, 'gini = 0.095\\nsamples = 201\\nvalue = [191, 10]'),\n",
       " Text(0.125, 0.1, 'gini = 0.0\\nsamples = 1\\nvalue = [0, 1]'),\n",
       " Text(0.25, 0.3, 'x[3] <= 0.461\\ngini = 0.39\\nsamples = 49\\nvalue = [36, 13]'),\n",
       " Text(0.20833333333333334, 0.1, 'gini = 0.137\\nsamples = 27\\nvalue = [25, 2]'),\n",
       " Text(0.2916666666666667, 0.1, 'gini = 0.5\\nsamples = 22\\nvalue = [11, 11]'),\n",
       " Text(0.375, 0.5, 'x[1] <= 0.266\\ngini = 0.444\\nsamples = 9\\nvalue = [3, 6]'),\n",
       " Text(0.3333333333333333, 0.3, 'gini = 0.0\\nsamples = 3\\nvalue = [3, 0]'),\n",
       " Text(0.4166666666666667, 0.3, 'gini = 0.0\\nsamples = 6\\nvalue = [0, 6]'),\n",
       " Text(0.6875, 0.7, 'x[23] <= 0.525\\ngini = 0.362\\nsamples = 118\\nvalue = [28, 90]'),\n",
       " Text(0.5416666666666666, 0.5, 'x[10] <= 0.0\\ngini = 0.491\\nsamples = 44\\nvalue = [19, 25]'),\n",
       " Text(0.5, 0.3, 'gini = 0.0\\nsamples = 6\\nvalue = [6, 0]'),\n",
       " Text(0.5833333333333334, 0.3, 'x[9] <= 0.001\\ngini = 0.45\\nsamples = 38\\nvalue = [13, 25]'),\n",
       " Text(0.5416666666666666, 0.1, 'gini = 0.328\\nsamples = 29\\nvalue = [6, 23]'),\n",
       " Text(0.625, 0.1, 'gini = 0.346\\nsamples = 9\\nvalue = [7, 2]'),\n",
       " Text(0.8333333333333334, 0.5, 'x[10] <= 0.004\\ngini = 0.214\\nsamples = 74\\nvalue = [9, 65]'),\n",
       " Text(0.75, 0.3, 'x[5] <= 0.583\\ngini = 0.157\\nsamples = 70\\nvalue = [6, 64]'),\n",
       " Text(0.7083333333333334, 0.1, 'gini = 0.134\\nsamples = 69\\nvalue = [5, 64]'),\n",
       " Text(0.7916666666666666, 0.1, 'gini = 0.0\\nsamples = 1\\nvalue = [1, 0]'),\n",
       " Text(0.9166666666666666, 0.3, 'x[16] <= 0.104\\ngini = 0.375\\nsamples = 4\\nvalue = [3, 1]'),\n",
       " Text(0.875, 0.1, 'gini = 0.0\\nsamples = 3\\nvalue = [3, 0]'),\n",
       " Text(0.9583333333333334, 0.1, 'gini = 0.0\\nsamples = 1\\nvalue = [0, 1]')]"
      ]
     },
     "execution_count": 33,
     "metadata": {},
     "output_type": "execute_result"
    },
    {
     "data": {
      "image/png": "[encoded data removed]",
      "text/plain": [
       "<Figure size 640x480 with 1 Axes>"
      ]
     },
     "metadata": {},
     "output_type": "display_data"
    }
   ],
   "source": [
    "tree.plot_tree(dtc, filled = True)"
   ]
  },
  {
   "cell_type": "code",
   "execution_count": 34,
   "id": "fb3e69ae",
   "metadata": {},
   "outputs": [
    {
     "data": {
      "text/plain": [
       "0.8333333333333334"
      ]
     },
     "execution_count": 34,
     "metadata": {},
     "output_type": "execute_result"
    }
   ],
   "source": [
    "tree_prune_acc=dtc.score(test_inputs, test_classes)\n",
    "tree_prune_acc"
   ]
  },
  {
   "cell_type": "code",
   "execution_count": 35,
   "id": "cda73f13",
   "metadata": {},
   "outputs": [
    {
     "data": {
      "image/png": "[encoded data removed]",
      "text/plain": [
       "<Figure size 640x480 with 2 Axes>"
      ]
     },
     "metadata": {},
     "output_type": "display_data"
    }
   ],
   "source": [
    "pred = dtc.predict(test_inputs)\n",
    "cm = confusion_matrix(test_classes, pred)\n",
    "\n",
    "cm_display = ConfusionMatrixDisplay(confusion_matrix = cm, display_labels = [False, True])\n",
    "\n",
    "cm_display.plot()\n",
    "plt.show()"
   ]
  },
  {
   "cell_type": "markdown",
   "id": "2e7e1cb8",
   "metadata": {},
   "source": [
    "For normalized data"
   ]
  },
  {
   "cell_type": "code",
   "execution_count": 36,
   "id": "9d94b330",
   "metadata": {},
   "outputs": [],
   "source": [
    "dtc = DecisionTreeClassifier(max_depth = 4)"
   ]
  },
  {
   "cell_type": "code",
   "execution_count": 37,
   "id": "3759d285",
   "metadata": {},
   "outputs": [
    {
     "data": {
      "text/html": [
       "<style>#sk-container-id-4 {color: black;background-color: white;}#sk-container-id-4 pre{padding: 0;}#sk-container-id-4 div.sk-toggleable {background-color: white;}#sk-container-id-4 label.sk-toggleable__label {cursor: pointer;display: block;width: 100%;margin-bottom: 0;padding: 0.3em;box-sizing: border-box;text-align: center;}#sk-container-id-4 label.sk-toggleable__label-arrow:before {content: \"▸\";float: left;margin-right: 0.25em;color: #696969;}#sk-container-id-4 label.sk-toggleable__label-arrow:hover:before {color: black;}#sk-container-id-4 div.sk-estimator:hover label.sk-toggleable__label-arrow:before {color: black;}#sk-container-id-4 div.sk-toggleable__content {max-height: 0;max-width: 0;overflow: hidden;text-align: left;background-color: #f0f8ff;}#sk-container-id-4 div.sk-toggleable__content pre {margin: 0.2em;color: black;border-radius: 0.25em;background-color: #f0f8ff;}#sk-container-id-4 input.sk-toggleable__control:checked~div.sk-toggleable__content {max-height: 200px;max-width: 100%;overflow: auto;}#sk-container-id-4 input.sk-toggleable__control:checked~label.sk-toggleable__label-arrow:before {content: \"▾\";}#sk-container-id-4 div.sk-estimator input.sk-toggleable__control:checked~label.sk-toggleable__label {background-color: #d4ebff;}#sk-container-id-4 div.sk-label input.sk-toggleable__control:checked~label.sk-toggleable__label {background-color: #d4ebff;}#sk-container-id-4 input.sk-hidden--visually {border: 0;clip: rect(1px 1px 1px 1px);clip: rect(1px, 1px, 1px, 1px);height: 1px;margin: -1px;overflow: hidden;padding: 0;position: absolute;width: 1px;}#sk-container-id-4 div.sk-estimator {font-family: monospace;background-color: #f0f8ff;border: 1px dotted black;border-radius: 0.25em;box-sizing: border-box;margin-bottom: 0.5em;}#sk-container-id-4 div.sk-estimator:hover {background-color: #d4ebff;}#sk-container-id-4 div.sk-parallel-item::after {content: \"\";width: 100%;border-bottom: 1px solid gray;flex-grow: 1;}#sk-container-id-4 div.sk-label:hover label.sk-toggleable__label {background-color: #d4ebff;}#sk-container-id-4 div.sk-serial::before {content: \"\";position: absolute;border-left: 1px solid gray;box-sizing: border-box;top: 0;bottom: 0;left: 50%;z-index: 0;}#sk-container-id-4 div.sk-serial {display: flex;flex-direction: column;align-items: center;background-color: white;padding-right: 0.2em;padding-left: 0.2em;position: relative;}#sk-container-id-4 div.sk-item {position: relative;z-index: 1;}#sk-container-id-4 div.sk-parallel {display: flex;align-items: stretch;justify-content: center;background-color: white;position: relative;}#sk-container-id-4 div.sk-item::before, #sk-container-id-4 div.sk-parallel-item::before {content: \"\";position: absolute;border-left: 1px solid gray;box-sizing: border-box;top: 0;bottom: 0;left: 50%;z-index: -1;}#sk-container-id-4 div.sk-parallel-item {display: flex;flex-direction: column;z-index: 1;position: relative;background-color: white;}#sk-container-id-4 div.sk-parallel-item:first-child::after {align-self: flex-end;width: 50%;}#sk-container-id-4 div.sk-parallel-item:last-child::after {align-self: flex-start;width: 50%;}#sk-container-id-4 div.sk-parallel-item:only-child::after {width: 0;}#sk-container-id-4 div.sk-dashed-wrapped {border: 1px dashed gray;margin: 0 0.4em 0.5em 0.4em;box-sizing: border-box;padding-bottom: 0.4em;background-color: white;}#sk-container-id-4 div.sk-label label {font-family: monospace;font-weight: bold;display: inline-block;line-height: 1.2em;}#sk-container-id-4 div.sk-label-container {text-align: center;}#sk-container-id-4 div.sk-container {/* jupyter's `normalize.less` sets `[hidden] { display: none; }` but bootstrap.min.css set `[hidden] { display: none !important; }` so we also need the `!important` here to be able to override the default hidden behavior on the sphinx rendered scikit-learn.org. See: https://github.com/scikit-learn/scikit-learn/issues/21755 */display: inline-block !important;position: relative;}#sk-container-id-4 div.sk-text-repr-fallback {display: none;}</style><div id=\"sk-container-id-4\" class=\"sk-top-container\"><div class=\"sk-text-repr-fallback\"><pre>DecisionTreeClassifier(max_depth=4)</pre><b>In a Jupyter environment, please rerun this cell to show the HTML representation or trust the notebook. <br />On GitHub, the HTML representation is unable to render, please try loading this page with nbviewer.org.</b></div><div class=\"sk-container\" hidden><div class=\"sk-item\"><div class=\"sk-estimator sk-toggleable\"><input class=\"sk-toggleable__control sk-hidden--visually\" id=\"sk-estimator-id-4\" type=\"checkbox\" checked><label for=\"sk-estimator-id-4\" class=\"sk-toggleable__label sk-toggleable__label-arrow\">DecisionTreeClassifier</label><div class=\"sk-toggleable__content\"><pre>DecisionTreeClassifier(max_depth=4)</pre></div></div></div></div></div>"
      ],
      "text/plain": [
       "DecisionTreeClassifier(max_depth=4)"
      ]
     },
     "execution_count": 37,
     "metadata": {},
     "output_type": "execute_result"
    }
   ],
   "source": [
    "dtc.fit(train_inputs_norm, train_classes_norm)"
   ]
  },
  {
   "cell_type": "code",
   "execution_count": 38,
   "id": "ec5f2e9b",
   "metadata": {},
   "outputs": [
    {
     "data": {
      "text/plain": [
       "[Text(0.5, 0.9, 'x[23] <= 0.475\\ngini = 0.437\\nsamples = 378\\nvalue = [256, 122]'),\n",
       " Text(0.3125, 0.7, 'x[22] <= 0.523\\ngini = 0.234\\nsamples = 281\\nvalue = [243, 38]'),\n",
       " Text(0.25, 0.5, 'x[11] <= 0.0\\ngini = 0.201\\nsamples = 274\\nvalue = [243, 31]'),\n",
       " Text(0.125, 0.3, 'x[23] <= 0.175\\ngini = 0.346\\nsamples = 9\\nvalue = [2, 7]'),\n",
       " Text(0.0625, 0.1, 'gini = 0.0\\nsamples = 2\\nvalue = [2, 0]'),\n",
       " Text(0.1875, 0.1, 'gini = 0.0\\nsamples = 7\\nvalue = [0, 7]'),\n",
       " Text(0.375, 0.3, 'x[7] <= 0.375\\ngini = 0.165\\nsamples = 265\\nvalue = [241, 24]'),\n",
       " Text(0.3125, 0.1, 'gini = 0.365\\nsamples = 50\\nvalue = [38, 12]'),\n",
       " Text(0.4375, 0.1, 'gini = 0.105\\nsamples = 215\\nvalue = [203, 12]'),\n",
       " Text(0.375, 0.5, 'gini = 0.0\\nsamples = 7\\nvalue = [0, 7]'),\n",
       " Text(0.6875, 0.7, 'x[6] <= 0.19\\ngini = 0.232\\nsamples = 97\\nvalue = [13, 84]'),\n",
       " Text(0.625, 0.5, 'gini = 0.0\\nsamples = 2\\nvalue = [2, 0]'),\n",
       " Text(0.75, 0.5, 'x[25] <= 0.812\\ngini = 0.205\\nsamples = 95\\nvalue = [11, 84]'),\n",
       " Text(0.625, 0.3, 'x[6] <= 0.81\\ngini = 0.136\\nsamples = 82\\nvalue = [6, 76]'),\n",
       " Text(0.5625, 0.1, 'gini = 0.117\\nsamples = 80\\nvalue = [5, 75]'),\n",
       " Text(0.6875, 0.1, 'gini = 0.5\\nsamples = 2\\nvalue = [1, 1]'),\n",
       " Text(0.875, 0.3, 'x[19] <= 0.164\\ngini = 0.473\\nsamples = 13\\nvalue = [5, 8]'),\n",
       " Text(0.8125, 0.1, 'gini = 0.32\\nsamples = 10\\nvalue = [2, 8]'),\n",
       " Text(0.9375, 0.1, 'gini = 0.0\\nsamples = 3\\nvalue = [3, 0]')]"
      ]
     },
     "execution_count": 38,
     "metadata": {},
     "output_type": "execute_result"
    },
    {
     "data": {
      "image/png": "[encoded data removed]",
      "text/plain": [
       "<Figure size 640x480 with 1 Axes>"
      ]
     },
     "metadata": {},
     "output_type": "display_data"
    }
   ],
   "source": [
    "tree.plot_tree(dtc, filled = True)"
   ]
  },
  {
   "cell_type": "code",
   "execution_count": 39,
   "id": "2dee78aa",
   "metadata": {},
   "outputs": [
    {
     "data": {
      "text/plain": [
       "0.8024691358024691"
      ]
     },
     "execution_count": 39,
     "metadata": {},
     "output_type": "execute_result"
    }
   ],
   "source": [
    "tree_prune_acc_norm=dtc.score(test_inputs_norm, test_classes_norm)\n",
    "tree_prune_acc_norm"
   ]
  },
  {
   "cell_type": "code",
   "execution_count": 40,
   "id": "fda34720",
   "metadata": {},
   "outputs": [
    {
     "data": {
      "image/png": "[encoded data removed]",
      "text/plain": [
       "<Figure size 640x480 with 2 Axes>"
      ]
     },
     "metadata": {},
     "output_type": "display_data"
    }
   ],
   "source": [
    "pred = dtc.predict(test_inputs_norm)\n",
    "cm = confusion_matrix(test_classes_norm, pred)\n",
    "\n",
    "cm_display = ConfusionMatrixDisplay(confusion_matrix = cm, display_labels = [False, True])\n",
    "\n",
    "cm_display.plot()\n",
    "plt.show()"
   ]
  },
  {
   "cell_type": "code",
   "execution_count": null,
   "id": "bfa45260",
   "metadata": {},
   "outputs": [],
   "source": []
  },
  {
   "cell_type": "markdown",
   "id": "1b62865f",
   "metadata": {},
   "source": [
    "# Naive Bayes"
   ]
  },
  {
   "cell_type": "markdown",
   "id": "51170f90",
   "metadata": {},
   "source": [
    "Naive Byaes doesn't work when I have both categorical and continuous data. I'll split data frame into two separate data frames based on type of values in them."
   ]
  },
  {
   "cell_type": "code",
   "execution_count": null,
   "id": "6455f5a2",
   "metadata": {},
   "outputs": [],
   "source": []
  },
  {
   "cell_type": "code",
   "execution_count": 41,
   "id": "6c6b23f6",
   "metadata": {},
   "outputs": [
    {
     "data": {
      "text/plain": [
       "(378, 28)"
      ]
     },
     "execution_count": 41,
     "metadata": {},
     "output_type": "execute_result"
    }
   ],
   "source": [
    "pcos_continuous = pcos.drop(pcos.columns[[8,10,23,24,25,26,27,28]],axis = 1)\n",
    "pcos_categorical = pcos.iloc[: , [0,8,10,23,24,25,26,27,28]].copy() \n",
    "\n",
    "(train_set_con, test_set_con) = train_test_split(pcos_continuous.values, train_size=0.7)\n",
    "(train_set_cat, test_set_cat) = train_test_split(pcos_categorical.values, train_size=0.7)\n",
    "train_set_con.shape"
   ]
  },
  {
   "cell_type": "code",
   "execution_count": 42,
   "id": "b1fa8bfd",
   "metadata": {},
   "outputs": [],
   "source": [
    "#for categorical\n",
    "train_inputs_cat = train_set_cat[:, 1:9]\n",
    "test_inputs_cat = test_set_cat[:, 1:9]\n",
    "train_classes_cat = np.asarray(train_set_cat[:, 0], dtype='|S6')\n",
    "test_classes_cat = np.asarray(test_set_cat[:, 0], dtype='|S6')\n",
    "\n",
    "#for continuous\n",
    "train_inputs_con = train_set_con[:, 1:28]\n",
    "test_inputs_con = test_set_con[:, 1:28]\n",
    "train_classes_con = train_set_con[:, 0]\n",
    "test_classes_con = test_set_con[:, 0]\n",
    "\n",
    "\n"
   ]
  },
  {
   "cell_type": "markdown",
   "id": "2dceb589",
   "metadata": {},
   "source": [
    "Initiation"
   ]
  },
  {
   "cell_type": "markdown",
   "id": "56de4c80",
   "metadata": {},
   "source": [
    "For continuous data I'll use Gaussian method"
   ]
  },
  {
   "cell_type": "code",
   "execution_count": 43,
   "id": "513cbc7b",
   "metadata": {},
   "outputs": [
    {
     "name": "stdout",
     "output_type": "stream",
     "text": [
      "0.7654320987654321\n"
     ]
    }
   ],
   "source": [
    "NB_con = GaussianNB()\n",
    "NB_con.fit(train_inputs_con, train_classes_con)\n",
    "\n",
    "print(NB_con.score(test_inputs_con, test_classes_con))\n",
    "proba_con = NB_con.predict_proba(test_inputs_con)"
   ]
  },
  {
   "cell_type": "markdown",
   "id": "4fdf0c20",
   "metadata": {},
   "source": [
    "For categorical data I'll use categorical method"
   ]
  },
  {
   "cell_type": "code",
   "execution_count": 44,
   "id": "0356a09b",
   "metadata": {},
   "outputs": [
    {
     "name": "stdout",
     "output_type": "stream",
     "text": [
      "0.8395061728395061\n"
     ]
    }
   ],
   "source": [
    "NB_cat = CategoricalNB(alpha=1)\n",
    "NB_cat.fit(train_inputs_cat, train_classes_cat)\n",
    "\n",
    "#print(NB_con.fit())\n",
    "print(NB_cat.score(test_inputs_cat, test_classes_cat))\n",
    "proba_cat = NB_cat.predict_proba(test_inputs_cat)"
   ]
  },
  {
   "cell_type": "markdown",
   "id": "9f3cac73",
   "metadata": {},
   "source": [
    "For every method I used proba fuction. It's a method that returns the class probabilities for each data point. Then I'll do naive bayes for newly created data frame"
   ]
  },
  {
   "cell_type": "code",
   "execution_count": 45,
   "id": "004e28a5",
   "metadata": {},
   "outputs": [],
   "source": [
    "newdata = np.hstack((proba_cat, proba_con))\n",
    "\n",
    "(train_set_new, test_set_new) = train_test_split(newdata, train_size=0.5)\n",
    "\n",
    "train_inputs_new = train_set_new\n",
    "test_inputs_new = test_set_new\n",
    "train_classes_new = train_classes_cat[:81]\n",
    "test_classes_new = test_classes_cat[:81]\n",
    "\n"
   ]
  },
  {
   "cell_type": "code",
   "execution_count": 46,
   "id": "2c110adf",
   "metadata": {},
   "outputs": [
    {
     "data": {
      "text/plain": [
       "0.5679012345679012"
      ]
     },
     "execution_count": 46,
     "metadata": {},
     "output_type": "execute_result"
    }
   ],
   "source": [
    "NB_all = GaussianNB()\n",
    "NB_all.fit(train_inputs_new, test_classes_new)\n",
    "\n",
    "NB_acc = (NB_all.score(test_inputs_new, test_classes_new))\n",
    "NB_acc"
   ]
  },
  {
   "cell_type": "markdown",
   "id": "a138297c",
   "metadata": {},
   "source": [
    "For normalized data"
   ]
  },
  {
   "cell_type": "code",
   "execution_count": 47,
   "id": "6468c04d",
   "metadata": {},
   "outputs": [
    {
     "data": {
      "text/plain": [
       "(378, 28)"
      ]
     },
     "execution_count": 47,
     "metadata": {},
     "output_type": "execute_result"
    }
   ],
   "source": [
    "pcos_continuous = pcos_norm.drop(pcos_norm.columns[[8,10,23,24,25,26,27,28]],axis = 1)\n",
    "pcos_categorical = pcos_norm.iloc[: , [0,8,10,23,24,25,26,27,28]].copy() \n",
    "\n",
    "(train_set_con, test_set_con) = train_test_split(pcos_continuous.values, train_size=0.7)\n",
    "(train_set_cat, test_set_cat) = train_test_split(pcos_categorical.values, train_size=0.7)\n",
    "train_set_con.shape"
   ]
  },
  {
   "cell_type": "code",
   "execution_count": 48,
   "id": "3d7aca0a",
   "metadata": {},
   "outputs": [],
   "source": [
    "# #for categorical\n",
    "# train_inputs_cat = train_set_cat[:, 1:9]\n",
    "# test_inputs_cat = test_set_cat[:, 1:9]\n",
    "# train_classes_cat = np.asarray(train_set_cat[:, ], dtype='|S6')\n",
    "# test_classes_cat = np.asarray(test_set_cat[:, ], dtype='|S6')\n",
    "\n",
    "#for continuous\n",
    "train_inputs_con = train_set_con[:, 1:28]\n",
    "test_inputs_con = test_set_con[:, 1:28]\n",
    "train_classes_con = train_set_con[:, 0]\n",
    "test_classes_con = test_set_con[:, 0]"
   ]
  },
  {
   "cell_type": "code",
   "execution_count": 49,
   "id": "c64d7bce",
   "metadata": {},
   "outputs": [
    {
     "name": "stdout",
     "output_type": "stream",
     "text": [
      "0.7037037037037037\n"
     ]
    }
   ],
   "source": [
    "NB_con = GaussianNB()\n",
    "NB_con.fit(train_inputs_con, train_classes_con)\n",
    "\n",
    "print(NB_con.score(test_inputs_con, test_classes_con))\n",
    "proba_con = NB_con.predict_proba(test_inputs_con)"
   ]
  },
  {
   "cell_type": "code",
   "execution_count": 50,
   "id": "9f43fb44",
   "metadata": {},
   "outputs": [
    {
     "name": "stdout",
     "output_type": "stream",
     "text": [
      "0.8395061728395061\n"
     ]
    }
   ],
   "source": [
    "NB_cat = CategoricalNB(alpha=1)\n",
    "NB_cat.fit(train_inputs_cat, train_classes_cat)\n",
    "\n",
    "#print(NB_con.fit())\n",
    "print(NB_cat.score(test_inputs_cat, test_classes_cat))\n",
    "proba_cat = NB_cat.predict_proba(test_inputs_cat)"
   ]
  },
  {
   "cell_type": "code",
   "execution_count": 51,
   "id": "19a002ed",
   "metadata": {},
   "outputs": [],
   "source": [
    "newdata = np.hstack((proba_cat, proba_con))\n",
    "\n",
    "(train_set_new, test_set_new) = train_test_split(newdata, train_size=0.5)\n",
    "\n",
    "train_inputs_new = train_set_new\n",
    "test_inputs_new = test_set_new\n",
    "train_classes_new = train_classes_cat[:81]\n",
    "test_classes_new = test_classes_cat[:81]\n",
    "\n"
   ]
  },
  {
   "cell_type": "code",
   "execution_count": 52,
   "id": "c4944c44",
   "metadata": {},
   "outputs": [
    {
     "data": {
      "text/plain": [
       "0.6419753086419753"
      ]
     },
     "execution_count": 52,
     "metadata": {},
     "output_type": "execute_result"
    }
   ],
   "source": [
    "NB_all = GaussianNB()\n",
    "NB_all.fit(train_inputs_new, test_classes_new)\n",
    "\n",
    "NB_acc_norm = (NB_all.score(test_inputs_new, test_classes_new))\n",
    "NB_acc_norm"
   ]
  },
  {
   "cell_type": "markdown",
   "id": "35ba3ed4",
   "metadata": {},
   "source": [
    "# k-Nearest Neighbours"
   ]
  },
  {
   "cell_type": "markdown",
   "id": "ba19b788",
   "metadata": {},
   "source": [
    "For 3 nearest neighbours"
   ]
  },
  {
   "cell_type": "code",
   "execution_count": 53,
   "id": "4ba0324b",
   "metadata": {},
   "outputs": [
    {
     "data": {
      "text/plain": [
       "array([[102,   3],\n",
       "       [ 16,  41]], dtype=int64)"
      ]
     },
     "execution_count": 53,
     "metadata": {},
     "output_type": "execute_result"
    }
   ],
   "source": [
    "knn3 = KNeighborsClassifier(n_neighbors=3, metric='euclidean')\n",
    "knn3.fit(train_inputs, train_classes)\n",
    "\n",
    "pred3 = knn3.predict(test_inputs)\n",
    "confusion_matrix(test_classes, pred3)"
   ]
  },
  {
   "cell_type": "code",
   "execution_count": 54,
   "id": "6cdee77f",
   "metadata": {},
   "outputs": [
    {
     "data": {
      "text/plain": [
       "0.8827160493827161"
      ]
     },
     "execution_count": 54,
     "metadata": {},
     "output_type": "execute_result"
    }
   ],
   "source": [
    "knn3_acc = metrics.accuracy_score(test_classes, pred3)\n",
    "knn3_acc"
   ]
  },
  {
   "cell_type": "markdown",
   "id": "652f4b42",
   "metadata": {},
   "source": [
    "For 5 nearest neighbours"
   ]
  },
  {
   "cell_type": "code",
   "execution_count": 55,
   "id": "46a1a1ee",
   "metadata": {},
   "outputs": [
    {
     "data": {
      "text/plain": [
       "array([[101,   4],\n",
       "       [ 19,  38]], dtype=int64)"
      ]
     },
     "execution_count": 55,
     "metadata": {},
     "output_type": "execute_result"
    }
   ],
   "source": [
    "knn5 = KNeighborsClassifier(n_neighbors=5, metric='euclidean')\n",
    "knn5.fit(train_inputs, train_classes)\n",
    "\n",
    "pred5 = knn5.predict(test_inputs)\n",
    "confusion_matrix(test_classes, pred5)\n"
   ]
  },
  {
   "cell_type": "code",
   "execution_count": 56,
   "id": "92ce3fcb",
   "metadata": {},
   "outputs": [
    {
     "data": {
      "text/plain": [
       "0.8580246913580247"
      ]
     },
     "execution_count": 56,
     "metadata": {},
     "output_type": "execute_result"
    }
   ],
   "source": [
    "knn5_acc = metrics.accuracy_score(test_classes, pred5)\n",
    "knn5_acc"
   ]
  },
  {
   "cell_type": "markdown",
   "id": "67e1817f",
   "metadata": {},
   "source": [
    "For 11 nearest neighbours"
   ]
  },
  {
   "cell_type": "code",
   "execution_count": 57,
   "id": "b9313cd6",
   "metadata": {},
   "outputs": [
    {
     "data": {
      "text/plain": [
       "array([[102,   3],\n",
       "       [ 16,  41]], dtype=int64)"
      ]
     },
     "execution_count": 57,
     "metadata": {},
     "output_type": "execute_result"
    }
   ],
   "source": [
    "knn11 = KNeighborsClassifier(n_neighbors=11, metric='euclidean')\n",
    "knn11.fit(train_inputs, train_classes)\n",
    "\n",
    "pred11 = knn3.predict(test_inputs)\n",
    "confusion_matrix(test_classes, pred11)\n"
   ]
  },
  {
   "cell_type": "code",
   "execution_count": 58,
   "id": "16dbee68",
   "metadata": {},
   "outputs": [
    {
     "data": {
      "text/plain": [
       "0.8827160493827161"
      ]
     },
     "execution_count": 58,
     "metadata": {},
     "output_type": "execute_result"
    }
   ],
   "source": [
    "knn11_acc = metrics.accuracy_score(test_classes, pred11)\n",
    "knn11_acc"
   ]
  },
  {
   "cell_type": "markdown",
   "id": "e2e71df2",
   "metadata": {},
   "source": [
    "Normalized"
   ]
  },
  {
   "cell_type": "code",
   "execution_count": 59,
   "id": "4e94e49f",
   "metadata": {},
   "outputs": [],
   "source": [
    "(train_set_norm, test_set_norm) = train_test_split(pcos_norm.values, train_size=0.7)\n",
    "train_inputs_norm = train_set_norm[:, 1:35]\n",
    "train_classes_norm = train_set_norm[:, 0]\n",
    "test_inputs_norm = test_set_norm[:, 1:35]\n",
    "test_classes_norm = test_set_norm[:, 0]"
   ]
  },
  {
   "cell_type": "code",
   "execution_count": 60,
   "id": "e2e9868f",
   "metadata": {},
   "outputs": [
    {
     "data": {
      "text/plain": [
       "array([[96, 13],\n",
       "       [18, 35]], dtype=int64)"
      ]
     },
     "execution_count": 60,
     "metadata": {},
     "output_type": "execute_result"
    }
   ],
   "source": [
    "knn3_norm = KNeighborsClassifier(n_neighbors=3, metric='euclidean')\n",
    "knn3_norm.fit(train_inputs_norm, train_classes_norm)\n",
    "\n",
    "pred3_norm = knn3_norm.predict(test_inputs_norm)\n",
    "confusion_matrix(test_classes_norm, pred3_norm)"
   ]
  },
  {
   "cell_type": "code",
   "execution_count": 61,
   "id": "0d4dabaf",
   "metadata": {},
   "outputs": [
    {
     "data": {
      "text/plain": [
       "0.6234567901234568"
      ]
     },
     "execution_count": 61,
     "metadata": {},
     "output_type": "execute_result"
    }
   ],
   "source": [
    "knn3_acc_norm = metrics.accuracy_score(test_classes_norm, pred3)\n",
    "knn3_acc_norm"
   ]
  },
  {
   "cell_type": "code",
   "execution_count": 62,
   "id": "e9e08c3b",
   "metadata": {},
   "outputs": [
    {
     "data": {
      "text/plain": [
       "array([[100,   9],\n",
       "       [ 18,  35]], dtype=int64)"
      ]
     },
     "execution_count": 62,
     "metadata": {},
     "output_type": "execute_result"
    }
   ],
   "source": [
    "knn5_norm = KNeighborsClassifier(n_neighbors=5, metric='euclidean')\n",
    "knn5_norm.fit(train_inputs_norm, train_classes_norm)\n",
    "\n",
    "pred5_norm = knn5_norm.predict(test_inputs_norm)\n",
    "confusion_matrix(test_classes_norm, pred5_norm)"
   ]
  },
  {
   "cell_type": "code",
   "execution_count": 63,
   "id": "fca652cc",
   "metadata": {},
   "outputs": [
    {
     "data": {
      "text/plain": [
       "0.6234567901234568"
      ]
     },
     "execution_count": 63,
     "metadata": {},
     "output_type": "execute_result"
    }
   ],
   "source": [
    "knn5_acc_norm = metrics.accuracy_score(test_classes_norm, pred5)\n",
    "knn5_acc_norm"
   ]
  },
  {
   "cell_type": "code",
   "execution_count": 64,
   "id": "c48a7b44",
   "metadata": {},
   "outputs": [
    {
     "data": {
      "text/plain": [
       "array([[103,   6],\n",
       "       [ 16,  37]], dtype=int64)"
      ]
     },
     "execution_count": 64,
     "metadata": {},
     "output_type": "execute_result"
    }
   ],
   "source": [
    "knn11_norm = KNeighborsClassifier(n_neighbors=11, metric='euclidean')\n",
    "knn11_norm.fit(train_inputs_norm, train_classes_norm)\n",
    "\n",
    "pred11_norm = knn11_norm.predict(test_inputs_norm)\n",
    "confusion_matrix(test_classes_norm, pred11_norm)"
   ]
  },
  {
   "cell_type": "code",
   "execution_count": 65,
   "id": "046599bd",
   "metadata": {},
   "outputs": [
    {
     "data": {
      "text/plain": [
       "0.6234567901234568"
      ]
     },
     "execution_count": 65,
     "metadata": {},
     "output_type": "execute_result"
    }
   ],
   "source": [
    "knn11_acc_norm = metrics.accuracy_score(test_classes_norm, pred11)\n",
    "knn11_acc_norm"
   ]
  },
  {
   "cell_type": "markdown",
   "id": "9d74f972",
   "metadata": {},
   "source": [
    "# Neural Network"
   ]
  },
  {
   "cell_type": "markdown",
   "id": "8bf85e86",
   "metadata": {},
   "source": [
    "Two hidden values, one hidden layer"
   ]
  },
  {
   "cell_type": "markdown",
   "id": "215e8651",
   "metadata": {},
   "source": [
    "Creating an classifier from the model"
   ]
  },
  {
   "cell_type": "code",
   "execution_count": 66,
   "id": "4262e130",
   "metadata": {},
   "outputs": [
    {
     "data": {
      "text/html": [
       "<style>#sk-container-id-5 {color: black;background-color: white;}#sk-container-id-5 pre{padding: 0;}#sk-container-id-5 div.sk-toggleable {background-color: white;}#sk-container-id-5 label.sk-toggleable__label {cursor: pointer;display: block;width: 100%;margin-bottom: 0;padding: 0.3em;box-sizing: border-box;text-align: center;}#sk-container-id-5 label.sk-toggleable__label-arrow:before {content: \"▸\";float: left;margin-right: 0.25em;color: #696969;}#sk-container-id-5 label.sk-toggleable__label-arrow:hover:before {color: black;}#sk-container-id-5 div.sk-estimator:hover label.sk-toggleable__label-arrow:before {color: black;}#sk-container-id-5 div.sk-toggleable__content {max-height: 0;max-width: 0;overflow: hidden;text-align: left;background-color: #f0f8ff;}#sk-container-id-5 div.sk-toggleable__content pre {margin: 0.2em;color: black;border-radius: 0.25em;background-color: #f0f8ff;}#sk-container-id-5 input.sk-toggleable__control:checked~div.sk-toggleable__content {max-height: 200px;max-width: 100%;overflow: auto;}#sk-container-id-5 input.sk-toggleable__control:checked~label.sk-toggleable__label-arrow:before {content: \"▾\";}#sk-container-id-5 div.sk-estimator input.sk-toggleable__control:checked~label.sk-toggleable__label {background-color: #d4ebff;}#sk-container-id-5 div.sk-label input.sk-toggleable__control:checked~label.sk-toggleable__label {background-color: #d4ebff;}#sk-container-id-5 input.sk-hidden--visually {border: 0;clip: rect(1px 1px 1px 1px);clip: rect(1px, 1px, 1px, 1px);height: 1px;margin: -1px;overflow: hidden;padding: 0;position: absolute;width: 1px;}#sk-container-id-5 div.sk-estimator {font-family: monospace;background-color: #f0f8ff;border: 1px dotted black;border-radius: 0.25em;box-sizing: border-box;margin-bottom: 0.5em;}#sk-container-id-5 div.sk-estimator:hover {background-color: #d4ebff;}#sk-container-id-5 div.sk-parallel-item::after {content: \"\";width: 100%;border-bottom: 1px solid gray;flex-grow: 1;}#sk-container-id-5 div.sk-label:hover label.sk-toggleable__label {background-color: #d4ebff;}#sk-container-id-5 div.sk-serial::before {content: \"\";position: absolute;border-left: 1px solid gray;box-sizing: border-box;top: 0;bottom: 0;left: 50%;z-index: 0;}#sk-container-id-5 div.sk-serial {display: flex;flex-direction: column;align-items: center;background-color: white;padding-right: 0.2em;padding-left: 0.2em;position: relative;}#sk-container-id-5 div.sk-item {position: relative;z-index: 1;}#sk-container-id-5 div.sk-parallel {display: flex;align-items: stretch;justify-content: center;background-color: white;position: relative;}#sk-container-id-5 div.sk-item::before, #sk-container-id-5 div.sk-parallel-item::before {content: \"\";position: absolute;border-left: 1px solid gray;box-sizing: border-box;top: 0;bottom: 0;left: 50%;z-index: -1;}#sk-container-id-5 div.sk-parallel-item {display: flex;flex-direction: column;z-index: 1;position: relative;background-color: white;}#sk-container-id-5 div.sk-parallel-item:first-child::after {align-self: flex-end;width: 50%;}#sk-container-id-5 div.sk-parallel-item:last-child::after {align-self: flex-start;width: 50%;}#sk-container-id-5 div.sk-parallel-item:only-child::after {width: 0;}#sk-container-id-5 div.sk-dashed-wrapped {border: 1px dashed gray;margin: 0 0.4em 0.5em 0.4em;box-sizing: border-box;padding-bottom: 0.4em;background-color: white;}#sk-container-id-5 div.sk-label label {font-family: monospace;font-weight: bold;display: inline-block;line-height: 1.2em;}#sk-container-id-5 div.sk-label-container {text-align: center;}#sk-container-id-5 div.sk-container {/* jupyter's `normalize.less` sets `[hidden] { display: none; }` but bootstrap.min.css set `[hidden] { display: none !important; }` so we also need the `!important` here to be able to override the default hidden behavior on the sphinx rendered scikit-learn.org. See: https://github.com/scikit-learn/scikit-learn/issues/21755 */display: inline-block !important;position: relative;}#sk-container-id-5 div.sk-text-repr-fallback {display: none;}</style><div id=\"sk-container-id-5\" class=\"sk-top-container\"><div class=\"sk-text-repr-fallback\"><pre>MLPClassifier(hidden_layer_sizes=(2,), max_iter=3000)</pre><b>In a Jupyter environment, please rerun this cell to show the HTML representation or trust the notebook. <br />On GitHub, the HTML representation is unable to render, please try loading this page with nbviewer.org.</b></div><div class=\"sk-container\" hidden><div class=\"sk-item\"><div class=\"sk-estimator sk-toggleable\"><input class=\"sk-toggleable__control sk-hidden--visually\" id=\"sk-estimator-id-5\" type=\"checkbox\" checked><label for=\"sk-estimator-id-5\" class=\"sk-toggleable__label sk-toggleable__label-arrow\">MLPClassifier</label><div class=\"sk-toggleable__content\"><pre>MLPClassifier(hidden_layer_sizes=(2,), max_iter=3000)</pre></div></div></div></div></div>"
      ],
      "text/plain": [
       "MLPClassifier(hidden_layer_sizes=(2,), max_iter=3000)"
      ]
     },
     "execution_count": 66,
     "metadata": {},
     "output_type": "execute_result"
    }
   ],
   "source": [
    "mlp = MLPClassifier(hidden_layer_sizes=(2, ), max_iter=3000) \n",
    "\n",
    "#fitting data\n",
    "mlp.fit(train_inputs, train_classes)"
   ]
  },
  {
   "cell_type": "code",
   "execution_count": 67,
   "id": "274909f0",
   "metadata": {},
   "outputs": [
    {
     "name": "stdout",
     "output_type": "stream",
     "text": [
      "0.845679012345679\n",
      "[[95 10]\n",
      " [15 42]]\n"
     ]
    }
   ],
   "source": [
    "predictions_test = mlp.predict(test_inputs)\n",
    "neural1_acc = accuracy_score(predictions_test, test_classes)\n",
    "print(accuracy_score(predictions_test, test_classes))\n",
    "print(confusion_matrix(test_classes,predictions_test))"
   ]
  },
  {
   "cell_type": "markdown",
   "id": "53254f11",
   "metadata": {},
   "source": [
    "Four hidden values, two hidden layers"
   ]
  },
  {
   "cell_type": "code",
   "execution_count": 68,
   "id": "7eccedb7",
   "metadata": {},
   "outputs": [
    {
     "name": "stdout",
     "output_type": "stream",
     "text": [
      "0.845679012345679\n",
      "[[94 11]\n",
      " [14 43]]\n"
     ]
    }
   ],
   "source": [
    "mlp = MLPClassifier(hidden_layer_sizes=(2,2, ), max_iter=3000) \n",
    "\n",
    "mlp.fit(train_inputs, train_classes)\n",
    "predictions_test = mlp.predict(test_inputs)\n",
    "neural2_acc = accuracy_score(predictions_test, test_classes)\n",
    "print(accuracy_score(predictions_test, test_classes))\n",
    "print(confusion_matrix(test_classes,predictions_test))"
   ]
  },
  {
   "cell_type": "markdown",
   "id": "63be1448",
   "metadata": {},
   "source": [
    "Five hidden values, two hidden layers"
   ]
  },
  {
   "cell_type": "code",
   "execution_count": 69,
   "id": "4ebfaa8a",
   "metadata": {},
   "outputs": [
    {
     "name": "stdout",
     "output_type": "stream",
     "text": [
      "0.8641975308641975\n",
      "[[99  6]\n",
      " [16 41]]\n"
     ]
    }
   ],
   "source": [
    "mlp = MLPClassifier(hidden_layer_sizes=(3,2, ), max_iter=3000) \n",
    "mlp.fit(train_inputs, train_classes)\n",
    "predictions_test = mlp.predict(test_inputs)\n",
    "neural3_acc = accuracy_score(predictions_test, test_classes)\n",
    "print(accuracy_score(predictions_test, test_classes))\n",
    "print(confusion_matrix(test_classes,predictions_test))"
   ]
  },
  {
   "cell_type": "markdown",
   "id": "b68f0400",
   "metadata": {},
   "source": [
    "Six hidden values, three hidden layers"
   ]
  },
  {
   "cell_type": "code",
   "execution_count": 70,
   "id": "af244036",
   "metadata": {},
   "outputs": [
    {
     "name": "stdout",
     "output_type": "stream",
     "text": [
      "0.6481481481481481\n",
      "[[105   0]\n",
      " [ 57   0]]\n"
     ]
    }
   ],
   "source": [
    "mlp = MLPClassifier(hidden_layer_sizes=(2,2, 2, ), max_iter=3000) \n",
    "mlp.fit(train_inputs, train_classes)\n",
    "predictions_test = mlp.predict(test_inputs)\n",
    "neural4_acc = accuracy_score(predictions_test, test_classes)\n",
    "print(accuracy_score(predictions_test, test_classes))\n",
    "print(confusion_matrix(test_classes,predictions_test))"
   ]
  },
  {
   "cell_type": "markdown",
   "id": "0fb8156f",
   "metadata": {},
   "source": [
    "For normalized data"
   ]
  },
  {
   "cell_type": "code",
   "execution_count": 71,
   "id": "5422c7d5",
   "metadata": {},
   "outputs": [
    {
     "name": "stdout",
     "output_type": "stream",
     "text": [
      "0.9135802469135802\n",
      "[[105   4]\n",
      " [ 10  43]]\n"
     ]
    }
   ],
   "source": [
    "mlp = MLPClassifier(hidden_layer_sizes=(2, ), max_iter=3000) \n",
    "mlp.fit(train_inputs_norm, train_classes_norm)\n",
    "predictions_test = mlp.predict(test_inputs_norm)\n",
    "neural1_acc_norm = accuracy_score(predictions_test, test_classes_norm)\n",
    "print(accuracy_score(predictions_test, test_classes_norm))\n",
    "print(confusion_matrix(test_classes_norm,predictions_test))"
   ]
  },
  {
   "cell_type": "code",
   "execution_count": 72,
   "id": "7384522a",
   "metadata": {},
   "outputs": [
    {
     "name": "stdout",
     "output_type": "stream",
     "text": [
      "0.6728395061728395\n",
      "[[109   0]\n",
      " [ 53   0]]\n"
     ]
    }
   ],
   "source": [
    "mlp = MLPClassifier(hidden_layer_sizes=(2,2, ), max_iter=3000) \n",
    "\n",
    "mlp.fit(train_inputs_norm, train_classes_norm)\n",
    "predictions_test = mlp.predict(test_inputs_norm)\n",
    "neural2_acc_norm = accuracy_score(predictions_test, test_classes_norm)\n",
    "print(accuracy_score(predictions_test, test_classes_norm))\n",
    "print(confusion_matrix(test_classes_norm,predictions_test))"
   ]
  },
  {
   "cell_type": "code",
   "execution_count": 73,
   "id": "be988c29",
   "metadata": {},
   "outputs": [
    {
     "name": "stdout",
     "output_type": "stream",
     "text": [
      "0.8888888888888888\n",
      "[[102   7]\n",
      " [ 11  42]]\n"
     ]
    }
   ],
   "source": [
    "mlp = MLPClassifier(hidden_layer_sizes=(3,2, ), max_iter=3000) \n",
    "mlp.fit(train_inputs_norm, train_classes_norm)\n",
    "predictions_test = mlp.predict(test_inputs_norm)\n",
    "neural3_acc_norm = accuracy_score(predictions_test, test_classes_norm)\n",
    "print(accuracy_score(predictions_test, test_classes_norm))\n",
    "print(confusion_matrix(test_classes_norm,predictions_test))"
   ]
  },
  {
   "cell_type": "code",
   "execution_count": 74,
   "id": "744d007a",
   "metadata": {},
   "outputs": [
    {
     "name": "stdout",
     "output_type": "stream",
     "text": [
      "0.6728395061728395\n",
      "[[109   0]\n",
      " [ 53   0]]\n"
     ]
    }
   ],
   "source": [
    "mlp = MLPClassifier(hidden_layer_sizes=(2,2, 2, ), max_iter=3000) \n",
    "mlp.fit(train_inputs_norm, train_classes_norm)\n",
    "predictions_test = mlp.predict(test_inputs_norm)\n",
    "neural4_acc_norm = accuracy_score(predictions_test, test_classes_norm)\n",
    "print(accuracy_score(predictions_test, test_classes_norm))\n",
    "print(confusion_matrix(test_classes_norm,predictions_test))"
   ]
  },
  {
   "cell_type": "markdown",
   "id": "4240b86e",
   "metadata": {},
   "source": [
    "# Keras"
   ]
  },
  {
   "cell_type": "markdown",
   "id": "7162064c",
   "metadata": {},
   "source": [
    "In keras I will be using different splitting. I don't have to split the data into train and test as keras function has it in itself."
   ]
  },
  {
   "cell_type": "code",
   "execution_count": 75,
   "id": "dbdd9868",
   "metadata": {},
   "outputs": [],
   "source": [
    "inputs = pcos.iloc[:,1:35]\n",
    "classes = pcos.iloc[:,0]"
   ]
  },
  {
   "cell_type": "markdown",
   "id": "3ab1b229",
   "metadata": {},
   "source": [
    "Input dim takes number of columns that are used for prediction."
   ]
  },
  {
   "cell_type": "markdown",
   "id": "bcffa8b5",
   "metadata": {},
   "source": [
    "The first hidden layer has 6 nodes and uses the relu activation function."
   ]
  },
  {
   "cell_type": "markdown",
   "id": "dcef3191",
   "metadata": {},
   "source": [
    "The second hidden layer has 3 nodes and uses the relu activation function."
   ]
  },
  {
   "cell_type": "markdown",
   "id": "b27261d2",
   "metadata": {},
   "source": [
    "The output layer has one node and uses the sigmoid activation function. "
   ]
  },
  {
   "cell_type": "code",
   "execution_count": 76,
   "id": "52c6b830",
   "metadata": {},
   "outputs": [],
   "source": [
    "#classes = np_utils.to_categorical(classes)\n",
    "model1 = Sequential()\n",
    "model1.add(Dense(6, input_dim = 34, activation='relu'))\n",
    "model1.add(Dense(3, activation = 'relu'))\n",
    "model1.add(Dense(1, activation = 'sigmoid'))"
   ]
  },
  {
   "cell_type": "markdown",
   "id": "d4554841",
   "metadata": {},
   "source": [
    "I use cross entropy as the loss argument. This loss is for a binary classification problems. "
   ]
  },
  {
   "cell_type": "markdown",
   "id": "f9206ec6",
   "metadata": {},
   "source": [
    "Optimizer 'adam' is effictient stochastic gradient descent."
   ]
  },
  {
   "cell_type": "markdown",
   "id": "f7535248",
   "metadata": {},
   "source": [
    "The code will collect and report the classification accuracy defined by the metrics argument."
   ]
  },
  {
   "cell_type": "code",
   "execution_count": 77,
   "id": "7a94f969",
   "metadata": {},
   "outputs": [],
   "source": [
    "model1.compile(loss='binary_crossentropy', optimizer = 'adam',metrics = ['accuracy'])"
   ]
  },
  {
   "cell_type": "code",
   "execution_count": 78,
   "id": "a1f21072",
   "metadata": {},
   "outputs": [
    {
     "name": "stdout",
     "output_type": "stream",
     "text": [
      "Epoch 1/150\n",
      "54/54 [==============================] - 1s 5ms/step - loss: 0.7058 - accuracy: 0.5537\n",
      "Epoch 2/150\n",
      "54/54 [==============================] - 0s 5ms/step - loss: 0.6854 - accuracy: 0.6574\n",
      "Epoch 3/150\n",
      "54/54 [==============================] - 0s 5ms/step - loss: 0.6764 - accuracy: 0.6722\n",
      "Epoch 4/150\n",
      "54/54 [==============================] - 0s 5ms/step - loss: 0.6528 - accuracy: 0.7352\n",
      "Epoch 5/150\n",
      "54/54 [==============================] - 0s 5ms/step - loss: 0.6278 - accuracy: 0.7722\n",
      "Epoch 6/150\n",
      "54/54 [==============================] - 0s 5ms/step - loss: 0.6071 - accuracy: 0.7963\n",
      "Epoch 7/150\n",
      "54/54 [==============================] - 0s 5ms/step - loss: 0.5891 - accuracy: 0.8204\n",
      "Epoch 8/150\n",
      "54/54 [==============================] - 0s 5ms/step - loss: 0.5730 - accuracy: 0.8222\n",
      "Epoch 9/150\n",
      "54/54 [==============================] - 0s 5ms/step - loss: 0.5578 - accuracy: 0.8352\n",
      "Epoch 10/150\n",
      "54/54 [==============================] - 0s 5ms/step - loss: 0.5438 - accuracy: 0.8333\n",
      "Epoch 11/150\n",
      "54/54 [==============================] - 0s 4ms/step - loss: 0.5289 - accuracy: 0.8352\n",
      "Epoch 12/150\n",
      "54/54 [==============================] - 0s 5ms/step - loss: 0.5151 - accuracy: 0.8481\n",
      "Epoch 13/150\n",
      "54/54 [==============================] - 0s 5ms/step - loss: 0.5024 - accuracy: 0.8537\n",
      "Epoch 14/150\n",
      "54/54 [==============================] - 0s 5ms/step - loss: 0.4892 - accuracy: 0.8537\n",
      "Epoch 15/150\n",
      "54/54 [==============================] - 0s 5ms/step - loss: 0.4778 - accuracy: 0.8611\n",
      "Epoch 16/150\n",
      "54/54 [==============================] - 0s 5ms/step - loss: 0.4647 - accuracy: 0.8667\n",
      "Epoch 17/150\n",
      "54/54 [==============================] - 0s 5ms/step - loss: 0.4543 - accuracy: 0.8722\n",
      "Epoch 18/150\n",
      "54/54 [==============================] - 0s 5ms/step - loss: 0.4431 - accuracy: 0.8796\n",
      "Epoch 19/150\n",
      "54/54 [==============================] - 0s 5ms/step - loss: 0.4329 - accuracy: 0.8796\n",
      "Epoch 20/150\n",
      "54/54 [==============================] - 0s 2ms/step - loss: 0.4209 - accuracy: 0.8870\n",
      "Epoch 21/150\n",
      "54/54 [==============================] - 0s 5ms/step - loss: 0.4149 - accuracy: 0.8833\n",
      "Epoch 22/150\n",
      "54/54 [==============================] - 0s 5ms/step - loss: 0.4034 - accuracy: 0.8926\n",
      "Epoch 23/150\n",
      "54/54 [==============================] - 0s 5ms/step - loss: 0.3940 - accuracy: 0.9019\n",
      "Epoch 24/150\n",
      "54/54 [==============================] - 0s 5ms/step - loss: 0.3860 - accuracy: 0.8963\n",
      "Epoch 25/150\n",
      "54/54 [==============================] - 0s 5ms/step - loss: 0.3782 - accuracy: 0.9019\n",
      "Epoch 26/150\n",
      "54/54 [==============================] - 0s 5ms/step - loss: 0.3697 - accuracy: 0.9074\n",
      "Epoch 27/150\n",
      "54/54 [==============================] - 0s 5ms/step - loss: 0.3633 - accuracy: 0.9019\n",
      "Epoch 28/150\n",
      "54/54 [==============================] - 0s 5ms/step - loss: 0.3549 - accuracy: 0.9056\n",
      "Epoch 29/150\n",
      "54/54 [==============================] - 0s 5ms/step - loss: 0.3479 - accuracy: 0.9130\n",
      "Epoch 30/150\n",
      "54/54 [==============================] - 0s 5ms/step - loss: 0.3391 - accuracy: 0.9130\n",
      "Epoch 31/150\n",
      "54/54 [==============================] - 0s 2ms/step - loss: 0.3324 - accuracy: 0.9130\n",
      "Epoch 32/150\n",
      "54/54 [==============================] - 0s 5ms/step - loss: 0.3280 - accuracy: 0.9130\n",
      "Epoch 33/150\n",
      "54/54 [==============================] - 0s 5ms/step - loss: 0.3223 - accuracy: 0.9148\n",
      "Epoch 34/150\n",
      "54/54 [==============================] - 0s 5ms/step - loss: 0.3173 - accuracy: 0.9093\n",
      "Epoch 35/150\n",
      "54/54 [==============================] - 0s 5ms/step - loss: 0.3082 - accuracy: 0.9185\n",
      "Epoch 36/150\n",
      "54/54 [==============================] - 0s 5ms/step - loss: 0.3045 - accuracy: 0.9148\n",
      "Epoch 37/150\n",
      "54/54 [==============================] - 0s 5ms/step - loss: 0.2989 - accuracy: 0.9204\n",
      "Epoch 38/150\n",
      "54/54 [==============================] - 0s 2ms/step - loss: 0.2973 - accuracy: 0.9148\n",
      "Epoch 39/150\n",
      "54/54 [==============================] - 0s 2ms/step - loss: 0.2920 - accuracy: 0.9130\n",
      "Epoch 40/150\n",
      "54/54 [==============================] - 0s 3ms/step - loss: 0.2878 - accuracy: 0.9185\n",
      "Epoch 41/150\n",
      "54/54 [==============================] - 0s 5ms/step - loss: 0.2818 - accuracy: 0.9259\n",
      "Epoch 42/150\n",
      "54/54 [==============================] - 0s 6ms/step - loss: 0.2788 - accuracy: 0.9204\n",
      "Epoch 43/150\n",
      "54/54 [==============================] - 0s 5ms/step - loss: 0.2757 - accuracy: 0.9241\n",
      "Epoch 44/150\n",
      "54/54 [==============================] - 0s 5ms/step - loss: 0.2734 - accuracy: 0.9222\n",
      "Epoch 45/150\n",
      "54/54 [==============================] - 0s 5ms/step - loss: 0.2687 - accuracy: 0.9204\n",
      "Epoch 46/150\n",
      "54/54 [==============================] - 0s 5ms/step - loss: 0.2651 - accuracy: 0.9204\n",
      "Epoch 47/150\n",
      "54/54 [==============================] - 0s 5ms/step - loss: 0.2624 - accuracy: 0.9222\n",
      "Epoch 48/150\n",
      "54/54 [==============================] - 0s 2ms/step - loss: 0.2595 - accuracy: 0.9296\n",
      "Epoch 49/150\n",
      "54/54 [==============================] - 0s 5ms/step - loss: 0.2560 - accuracy: 0.9278\n",
      "Epoch 50/150\n",
      "54/54 [==============================] - 0s 5ms/step - loss: 0.2551 - accuracy: 0.9315\n",
      "Epoch 51/150\n",
      "54/54 [==============================] - 0s 5ms/step - loss: 0.2556 - accuracy: 0.9278\n",
      "Epoch 52/150\n",
      "54/54 [==============================] - 0s 5ms/step - loss: 0.2478 - accuracy: 0.9315\n",
      "Epoch 53/150\n",
      "54/54 [==============================] - 0s 5ms/step - loss: 0.2501 - accuracy: 0.9278\n",
      "Epoch 54/150\n",
      "54/54 [==============================] - 0s 5ms/step - loss: 0.2452 - accuracy: 0.9278\n",
      "Epoch 55/150\n",
      "54/54 [==============================] - 0s 5ms/step - loss: 0.2424 - accuracy: 0.9259\n",
      "Epoch 56/150\n",
      "54/54 [==============================] - 0s 2ms/step - loss: 0.2375 - accuracy: 0.9333\n",
      "Epoch 57/150\n",
      "54/54 [==============================] - 0s 3ms/step - loss: 0.2421 - accuracy: 0.9259\n",
      "Epoch 58/150\n",
      "54/54 [==============================] - 0s 5ms/step - loss: 0.2359 - accuracy: 0.9259\n",
      "Epoch 59/150\n",
      "54/54 [==============================] - 0s 5ms/step - loss: 0.2362 - accuracy: 0.9241\n",
      "Epoch 60/150\n",
      "54/54 [==============================] - 0s 5ms/step - loss: 0.2345 - accuracy: 0.9296\n",
      "Epoch 61/150\n",
      "54/54 [==============================] - 0s 5ms/step - loss: 0.2307 - accuracy: 0.9241\n",
      "Epoch 62/150\n",
      "54/54 [==============================] - 0s 6ms/step - loss: 0.2289 - accuracy: 0.9278\n",
      "Epoch 63/150\n",
      "54/54 [==============================] - 0s 3ms/step - loss: 0.2277 - accuracy: 0.9296\n",
      "Epoch 64/150\n",
      "54/54 [==============================] - 0s 4ms/step - loss: 0.2294 - accuracy: 0.9315\n",
      "Epoch 65/150\n",
      "54/54 [==============================] - 0s 4ms/step - loss: 0.2238 - accuracy: 0.9296\n",
      "Epoch 66/150\n",
      "54/54 [==============================] - 0s 5ms/step - loss: 0.2260 - accuracy: 0.9333\n",
      "Epoch 67/150\n",
      "54/54 [==============================] - 0s 6ms/step - loss: 0.2220 - accuracy: 0.9296\n",
      "Epoch 68/150\n",
      "54/54 [==============================] - 0s 3ms/step - loss: 0.2203 - accuracy: 0.9222\n",
      "Epoch 69/150\n",
      "54/54 [==============================] - 0s 3ms/step - loss: 0.2241 - accuracy: 0.9278\n",
      "Epoch 70/150\n",
      "54/54 [==============================] - 0s 5ms/step - loss: 0.2153 - accuracy: 0.9296\n",
      "Epoch 71/150\n",
      "54/54 [==============================] - 0s 4ms/step - loss: 0.2153 - accuracy: 0.9278\n",
      "Epoch 72/150\n",
      "54/54 [==============================] - 0s 4ms/step - loss: 0.2145 - accuracy: 0.9296\n",
      "Epoch 73/150\n",
      "54/54 [==============================] - 0s 3ms/step - loss: 0.2118 - accuracy: 0.9296\n",
      "Epoch 74/150\n",
      "54/54 [==============================] - 0s 2ms/step - loss: 0.2114 - accuracy: 0.9241\n",
      "Epoch 75/150\n",
      "54/54 [==============================] - 0s 3ms/step - loss: 0.2090 - accuracy: 0.9259\n",
      "Epoch 76/150\n",
      "54/54 [==============================] - 0s 4ms/step - loss: 0.2083 - accuracy: 0.9259\n",
      "Epoch 77/150\n",
      "54/54 [==============================] - 0s 4ms/step - loss: 0.2066 - accuracy: 0.9333\n",
      "Epoch 78/150\n",
      "54/54 [==============================] - 0s 4ms/step - loss: 0.2043 - accuracy: 0.9204\n",
      "Epoch 79/150\n",
      "54/54 [==============================] - 0s 4ms/step - loss: 0.2037 - accuracy: 0.9241\n",
      "Epoch 80/150\n",
      "54/54 [==============================] - 0s 5ms/step - loss: 0.2043 - accuracy: 0.9296\n",
      "Epoch 81/150\n",
      "54/54 [==============================] - 0s 4ms/step - loss: 0.2014 - accuracy: 0.9315\n",
      "Epoch 82/150\n",
      "54/54 [==============================] - 0s 5ms/step - loss: 0.2002 - accuracy: 0.9241\n",
      "Epoch 83/150\n",
      "54/54 [==============================] - 0s 5ms/step - loss: 0.2010 - accuracy: 0.9259\n",
      "Epoch 84/150\n",
      "54/54 [==============================] - 0s 4ms/step - loss: 0.1977 - accuracy: 0.9296\n",
      "Epoch 85/150\n",
      "54/54 [==============================] - 0s 2ms/step - loss: 0.1978 - accuracy: 0.9278\n",
      "Epoch 86/150\n",
      "54/54 [==============================] - 0s 4ms/step - loss: 0.1960 - accuracy: 0.9333\n",
      "Epoch 87/150\n",
      "54/54 [==============================] - 0s 5ms/step - loss: 0.1966 - accuracy: 0.9278\n",
      "Epoch 88/150\n",
      "54/54 [==============================] - 0s 6ms/step - loss: 0.1975 - accuracy: 0.9296\n",
      "Epoch 89/150\n",
      "54/54 [==============================] - 0s 5ms/step - loss: 0.1928 - accuracy: 0.9315\n",
      "Epoch 90/150\n",
      "54/54 [==============================] - 0s 5ms/step - loss: 0.1910 - accuracy: 0.9333\n",
      "Epoch 91/150\n",
      "54/54 [==============================] - 0s 5ms/step - loss: 0.1955 - accuracy: 0.9296\n",
      "Epoch 92/150\n",
      "54/54 [==============================] - 0s 5ms/step - loss: 0.1916 - accuracy: 0.9278\n",
      "Epoch 93/150\n",
      "54/54 [==============================] - 0s 5ms/step - loss: 0.1904 - accuracy: 0.9352\n",
      "Epoch 94/150\n",
      "54/54 [==============================] - 0s 5ms/step - loss: 0.1911 - accuracy: 0.9315\n",
      "Epoch 95/150\n",
      "54/54 [==============================] - 0s 5ms/step - loss: 0.1904 - accuracy: 0.9315\n",
      "Epoch 96/150\n",
      "54/54 [==============================] - 0s 5ms/step - loss: 0.1915 - accuracy: 0.9296\n",
      "Epoch 97/150\n",
      "54/54 [==============================] - 0s 5ms/step - loss: 0.1883 - accuracy: 0.9315\n",
      "Epoch 98/150\n",
      "54/54 [==============================] - 0s 4ms/step - loss: 0.1890 - accuracy: 0.9315\n",
      "Epoch 99/150\n",
      "54/54 [==============================] - 0s 5ms/step - loss: 0.1886 - accuracy: 0.9333\n",
      "Epoch 100/150\n",
      "54/54 [==============================] - 0s 5ms/step - loss: 0.1892 - accuracy: 0.9296\n",
      "Epoch 101/150\n",
      "54/54 [==============================] - 0s 5ms/step - loss: 0.1853 - accuracy: 0.9315\n",
      "Epoch 102/150\n",
      "54/54 [==============================] - 0s 5ms/step - loss: 0.1852 - accuracy: 0.9315\n",
      "Epoch 103/150\n",
      "54/54 [==============================] - 0s 5ms/step - loss: 0.1855 - accuracy: 0.9315\n",
      "Epoch 104/150\n",
      "54/54 [==============================] - 0s 5ms/step - loss: 0.1847 - accuracy: 0.9352\n",
      "Epoch 105/150\n",
      "54/54 [==============================] - 0s 5ms/step - loss: 0.1833 - accuracy: 0.9315\n",
      "Epoch 106/150\n",
      "54/54 [==============================] - 0s 5ms/step - loss: 0.1840 - accuracy: 0.9370\n",
      "Epoch 107/150\n",
      "54/54 [==============================] - 0s 5ms/step - loss: 0.1872 - accuracy: 0.9333\n",
      "Epoch 108/150\n",
      "54/54 [==============================] - 0s 5ms/step - loss: 0.1824 - accuracy: 0.9333\n",
      "Epoch 109/150\n",
      "54/54 [==============================] - 0s 5ms/step - loss: 0.1838 - accuracy: 0.9333\n",
      "Epoch 110/150\n",
      "54/54 [==============================] - 0s 5ms/step - loss: 0.1801 - accuracy: 0.9333\n",
      "Epoch 111/150\n",
      "54/54 [==============================] - 0s 5ms/step - loss: 0.1827 - accuracy: 0.9296\n",
      "Epoch 112/150\n",
      "54/54 [==============================] - 0s 5ms/step - loss: 0.1843 - accuracy: 0.9352\n",
      "Epoch 113/150\n",
      "54/54 [==============================] - 0s 5ms/step - loss: 0.1779 - accuracy: 0.9315\n",
      "Epoch 114/150\n",
      "54/54 [==============================] - 0s 5ms/step - loss: 0.1824 - accuracy: 0.9352\n",
      "Epoch 115/150\n",
      "54/54 [==============================] - 0s 5ms/step - loss: 0.1803 - accuracy: 0.9333\n",
      "Epoch 116/150\n",
      "54/54 [==============================] - 0s 5ms/step - loss: 0.1785 - accuracy: 0.9370\n",
      "Epoch 117/150\n",
      "54/54 [==============================] - 0s 5ms/step - loss: 0.1778 - accuracy: 0.9389\n",
      "Epoch 118/150\n",
      "54/54 [==============================] - 0s 5ms/step - loss: 0.1803 - accuracy: 0.9352\n",
      "Epoch 119/150\n",
      "54/54 [==============================] - 0s 5ms/step - loss: 0.1778 - accuracy: 0.9333\n",
      "Epoch 120/150\n",
      "54/54 [==============================] - 0s 4ms/step - loss: 0.1759 - accuracy: 0.9333\n",
      "Epoch 121/150\n",
      "54/54 [==============================] - 0s 2ms/step - loss: 0.1786 - accuracy: 0.9278\n",
      "Epoch 122/150\n",
      "54/54 [==============================] - 0s 4ms/step - loss: 0.1747 - accuracy: 0.9426\n",
      "Epoch 123/150\n",
      "54/54 [==============================] - 0s 3ms/step - loss: 0.1815 - accuracy: 0.9278\n",
      "Epoch 124/150\n",
      "54/54 [==============================] - 0s 3ms/step - loss: 0.1780 - accuracy: 0.9278\n",
      "Epoch 125/150\n",
      "54/54 [==============================] - 0s 2ms/step - loss: 0.1767 - accuracy: 0.9370\n",
      "Epoch 126/150\n",
      "54/54 [==============================] - 0s 2ms/step - loss: 0.1749 - accuracy: 0.9352\n",
      "Epoch 127/150\n",
      "54/54 [==============================] - 0s 2ms/step - loss: 0.1775 - accuracy: 0.9352\n",
      "Epoch 128/150\n",
      "54/54 [==============================] - 0s 5ms/step - loss: 0.1755 - accuracy: 0.9389\n",
      "Epoch 129/150\n",
      "54/54 [==============================] - 0s 5ms/step - loss: 0.1737 - accuracy: 0.9315\n",
      "Epoch 130/150\n",
      "54/54 [==============================] - 0s 5ms/step - loss: 0.1734 - accuracy: 0.9370\n",
      "Epoch 131/150\n",
      "54/54 [==============================] - 0s 5ms/step - loss: 0.1768 - accuracy: 0.9315\n",
      "Epoch 132/150\n",
      "54/54 [==============================] - 0s 5ms/step - loss: 0.1732 - accuracy: 0.9315\n",
      "Epoch 133/150\n",
      "54/54 [==============================] - 0s 5ms/step - loss: 0.1735 - accuracy: 0.9370\n",
      "Epoch 134/150\n",
      "54/54 [==============================] - 0s 4ms/step - loss: 0.1725 - accuracy: 0.9352\n",
      "Epoch 135/150\n",
      "54/54 [==============================] - 0s 5ms/step - loss: 0.1751 - accuracy: 0.9315\n",
      "Epoch 136/150\n",
      "54/54 [==============================] - 0s 5ms/step - loss: 0.1753 - accuracy: 0.9333\n",
      "Epoch 137/150\n",
      "54/54 [==============================] - 0s 5ms/step - loss: 0.1723 - accuracy: 0.9352\n",
      "Epoch 138/150\n",
      "54/54 [==============================] - 0s 5ms/step - loss: 0.1702 - accuracy: 0.9407\n",
      "Epoch 139/150\n",
      "54/54 [==============================] - 0s 4ms/step - loss: 0.1713 - accuracy: 0.9352\n",
      "Epoch 140/150\n",
      "54/54 [==============================] - 0s 4ms/step - loss: 0.1732 - accuracy: 0.9315\n",
      "Epoch 141/150\n",
      "54/54 [==============================] - 0s 5ms/step - loss: 0.1699 - accuracy: 0.9407\n",
      "Epoch 142/150\n",
      "54/54 [==============================] - 0s 5ms/step - loss: 0.1740 - accuracy: 0.9407\n",
      "Epoch 143/150\n",
      "54/54 [==============================] - 0s 5ms/step - loss: 0.1704 - accuracy: 0.9370\n",
      "Epoch 144/150\n",
      "54/54 [==============================] - 0s 5ms/step - loss: 0.1676 - accuracy: 0.9407\n",
      "Epoch 145/150\n",
      "54/54 [==============================] - 0s 5ms/step - loss: 0.1709 - accuracy: 0.9389\n",
      "Epoch 146/150\n",
      "54/54 [==============================] - 0s 5ms/step - loss: 0.1669 - accuracy: 0.9426\n",
      "Epoch 147/150\n",
      "54/54 [==============================] - 0s 5ms/step - loss: 0.1691 - accuracy: 0.9426\n",
      "Epoch 148/150\n",
      "54/54 [==============================] - 0s 5ms/step - loss: 0.1693 - accuracy: 0.9389\n",
      "Epoch 149/150\n",
      "54/54 [==============================] - 0s 5ms/step - loss: 0.1690 - accuracy: 0.9370\n",
      "Epoch 150/150\n",
      "54/54 [==============================] - 0s 4ms/step - loss: 0.1719 - accuracy: 0.9370\n"
     ]
    },
    {
     "data": {
      "text/plain": [
       "<keras.callbacks.History at 0x2c56f97ab00>"
      ]
     },
     "execution_count": 78,
     "metadata": {},
     "output_type": "execute_result"
    }
   ],
   "source": [
    "model1.fit(inputs, classes, epochs=150, batch_size=10)"
   ]
  },
  {
   "cell_type": "code",
   "execution_count": 79,
   "id": "4cf5a55e",
   "metadata": {},
   "outputs": [
    {
     "name": "stdout",
     "output_type": "stream",
     "text": [
      "17/17 [==============================] - 0s 2ms/step\n"
     ]
    },
    {
     "data": {
      "text/plain": [
       "0.6722222222222223"
      ]
     },
     "execution_count": 79,
     "metadata": {},
     "output_type": "execute_result"
    }
   ],
   "source": [
    "predict1 = model1.predict(inputs)\n",
    "predict1 = np.argmax(predict1, axis=1)\n",
    "keras1_acc = accuracy_score(classes, predict1)\n",
    "keras1_acc"
   ]
  },
  {
   "cell_type": "code",
   "execution_count": 80,
   "id": "26362724",
   "metadata": {},
   "outputs": [
    {
     "data": {
      "image/png": "[encoded data removed]",
      "text/plain": [
       "<Figure size 640x480 with 1 Axes>"
      ]
     },
     "metadata": {},
     "output_type": "display_data"
    }
   ],
   "source": [
    "history = model1.fit(inputs, classes, validation_split=0.3, epochs=150, batch_size=10, verbose=0)\n",
    "plt.plot(history.history['loss'])\n",
    "plt.plot(history.history['val_loss'])\n",
    "plt.title('model loss')\n",
    "plt.ylabel('loss')\n",
    "plt.xlabel('epoch')\n",
    "plt.legend(['train', 'test'], loc='upper left')\n",
    "plt.show()"
   ]
  },
  {
   "cell_type": "markdown",
   "id": "a97c7b3e",
   "metadata": {},
   "source": [
    "As seen in plot, model is overfitted."
   ]
  },
  {
   "cell_type": "code",
   "execution_count": 81,
   "id": "b749af8d",
   "metadata": {},
   "outputs": [
    {
     "data": {
      "image/png": "[encoded data removed]",
      "text/plain": [
       "<Figure size 640x480 with 1 Axes>"
      ]
     },
     "metadata": {},
     "output_type": "display_data"
    }
   ],
   "source": [
    "\n",
    "model2 = Sequential()\n",
    "model2.add(Dense(12, input_dim = 34,activation='sigmoid'))\n",
    "model2.add(Dense(6, activation = 'sigmoid'))\n",
    "model2.add(Dense(3, activation = 'sigmoid'))\n",
    "model2.add(Dense(1, activation='sigmoid')) \n",
    "model2.compile(loss='binary_crossentropy', optimizer = 'adam',metrics = ['accuracy'])\n",
    "history = model2.fit(inputs, classes, validation_split=0.3, epochs=150, batch_size=10, verbose=0)\n",
    "\n",
    "plt.plot(history.history['loss'])\n",
    "plt.plot(history.history['val_loss'])\n",
    "plt.title('model loss')\n",
    "plt.ylabel('loss')\n",
    "plt.xlabel('epoch')\n",
    "plt.legend(['train', 'test'], loc='upper left')\n",
    "plt.show()"
   ]
  },
  {
   "cell_type": "code",
   "execution_count": 82,
   "id": "02552bdd",
   "metadata": {},
   "outputs": [
    {
     "name": "stdout",
     "output_type": "stream",
     "text": [
      "17/17 [==============================] - 0s 2ms/step\n"
     ]
    },
    {
     "data": {
      "text/plain": [
       "0.6722222222222223"
      ]
     },
     "execution_count": 82,
     "metadata": {},
     "output_type": "execute_result"
    }
   ],
   "source": [
    "predict2 = model2.predict(inputs)\n",
    "predict2 = np.argmax(predict2, axis=1)\n",
    "keras2_acc = accuracy_score(classes, predict2)\n",
    "keras2_acc"
   ]
  },
  {
   "cell_type": "code",
   "execution_count": 83,
   "id": "db67ff7a",
   "metadata": {},
   "outputs": [
    {
     "data": {
      "image/png": "[encoded data removed]",
      "text/plain": [
       "<Figure size 640x480 with 1 Axes>"
      ]
     },
     "metadata": {},
     "output_type": "display_data"
    }
   ],
   "source": [
    "\n",
    "model3 = Sequential()\n",
    "model3.add(Dense(12, input_dim = 34,activation='tanh'))\n",
    "model3.add(Dense(6, activation = 'tanh'))\n",
    "model3.add(Dense(3, activation = 'tanh'))\n",
    "model3.add(Dense(1, activation='sigmoid')) \n",
    "model3.compile(loss='binary_crossentropy', optimizer = 'adam',metrics = ['accuracy'])\n",
    "history = model3.fit(inputs, classes, validation_split=0.3, epochs=150, batch_size=10, verbose=0)\n",
    "\n",
    "plt.plot(history.history['loss'])\n",
    "plt.plot(history.history['val_loss'])\n",
    "plt.title('model loss')\n",
    "plt.ylabel('loss')\n",
    "plt.xlabel('epoch')\n",
    "plt.legend(['train', 'test'], loc='upper left')\n",
    "plt.show()"
   ]
  },
  {
   "cell_type": "code",
   "execution_count": 84,
   "id": "3b32d7da",
   "metadata": {},
   "outputs": [
    {
     "name": "stdout",
     "output_type": "stream",
     "text": [
      "17/17 [==============================] - 0s 4ms/step\n"
     ]
    },
    {
     "data": {
      "text/plain": [
       "0.6722222222222223"
      ]
     },
     "execution_count": 84,
     "metadata": {},
     "output_type": "execute_result"
    }
   ],
   "source": [
    "predict3 = model3.predict(inputs)\n",
    "predict3 = np.argmax(predict3, axis=1)\n",
    "keras3_acc = accuracy_score(classes, predict3)\n",
    "keras3_acc"
   ]
  },
  {
   "cell_type": "code",
   "execution_count": 86,
   "id": "b2373585",
   "metadata": {},
   "outputs": [
    {
     "data": {
      "image/png": "[encoded data removed]",
      "text/plain": [
       "<Figure size 640x480 with 1 Axes>"
      ]
     },
     "metadata": {},
     "output_type": "display_data"
    }
   ],
   "source": [
    "\n",
    "model4 = Sequential()\n",
    "model4.add(Dense(12, input_dim = 34,activation='relu'))\n",
    "model4.add(Dense(6, activation = 'relu'))\n",
    "model4.add(Dense(3, activation = 'relu'))\n",
    "model4.add(Dense(1, activation='sigmoid')) \n",
    "model4.compile(loss='binary_crossentropy', optimizer = 'RMSprop',metrics = ['accuracy'])\n",
    "history = model4.fit(inputs, classes, validation_split=0.3, epochs=150, batch_size=10, verbose=0)\n",
    "\n",
    "plt.plot(history.history['loss'])\n",
    "plt.plot(history.history['val_loss'])\n",
    "plt.title('model loss')\n",
    "plt.ylabel('loss')\n",
    "plt.xlabel('epoch')\n",
    "plt.legend(['train', 'test'], loc='upper left')\n",
    "plt.show()"
   ]
  },
  {
   "cell_type": "code",
   "execution_count": 87,
   "id": "3d92224d",
   "metadata": {},
   "outputs": [
    {
     "name": "stdout",
     "output_type": "stream",
     "text": [
      "17/17 [==============================] - 0s 2ms/step\n"
     ]
    },
    {
     "data": {
      "text/plain": [
       "0.6722222222222223"
      ]
     },
     "execution_count": 87,
     "metadata": {},
     "output_type": "execute_result"
    }
   ],
   "source": [
    "predict4 = model4.predict(inputs)\n",
    "predict4 = np.argmax(predict4, axis=1)\n",
    "keras4_acc = accuracy_score(classes, predict4)\n",
    "keras4_acc"
   ]
  },
  {
   "cell_type": "code",
   "execution_count": 88,
   "id": "b0935a47",
   "metadata": {},
   "outputs": [
    {
     "data": {
      "image/png": "[encoded data removed]",
      "text/plain": [
       "<Figure size 640x480 with 1 Axes>"
      ]
     },
     "metadata": {},
     "output_type": "display_data"
    }
   ],
   "source": [
    "\n",
    "model5 = Sequential()\n",
    "model5.add(Dense(12, input_dim = 34,activation='relu'))\n",
    "model5.add(Dense(6, activation = 'relu'))\n",
    "model5.add(Dense(3, activation = 'relu'))\n",
    "model5.add(Dense(1, activation='sigmoid')) \n",
    "model5.compile(loss='binary_crossentropy', optimizer = 'SGD',metrics = ['accuracy'])\n",
    "history = model5.fit(inputs, classes, validation_split=0.3, epochs=150, batch_size=10, verbose=0)\n",
    "\n",
    "plt.plot(history.history['loss'])\n",
    "plt.plot(history.history['val_loss'])\n",
    "plt.title('model loss')\n",
    "plt.ylabel('loss')\n",
    "plt.xlabel('epoch')\n",
    "plt.legend(['train', 'test'], loc='upper left')\n",
    "plt.show()"
   ]
  },
  {
   "cell_type": "code",
   "execution_count": 89,
   "id": "1bcb6993",
   "metadata": {},
   "outputs": [
    {
     "name": "stdout",
     "output_type": "stream",
     "text": [
      "17/17 [==============================] - 0s 2ms/step\n"
     ]
    },
    {
     "data": {
      "text/plain": [
       "0.6722222222222223"
      ]
     },
     "execution_count": 89,
     "metadata": {},
     "output_type": "execute_result"
    }
   ],
   "source": [
    "predict5 = model5.predict(inputs)\n",
    "predict5 = np.argmax(predict5, axis=1)\n",
    "keras5_acc = accuracy_score(classes, predict5)\n",
    "keras5_acc"
   ]
  },
  {
   "cell_type": "code",
   "execution_count": 90,
   "id": "ed13f9ca",
   "metadata": {},
   "outputs": [
    {
     "data": {
      "image/png": "[encoded data removed]",
      "text/plain": [
       "<Figure size 640x480 with 1 Axes>"
      ]
     },
     "metadata": {},
     "output_type": "display_data"
    }
   ],
   "source": [
    "\n",
    "model6 = Sequential()\n",
    "model6.add(Dense(3, input_dim = 34,activation='relu'))\n",
    "model6.add(Dense(2, activation='relu')) \n",
    "\n",
    "model6.add(Dense(1, activation='sigmoid')) \n",
    "model6.compile(loss='binary_crossentropy', optimizer = 'adam',metrics = ['accuracy'])\n",
    "history = model6.fit(inputs, classes, validation_split=0.3, epochs=150, batch_size=10, verbose=0)\n",
    "\n",
    "plt.plot(history.history['loss'])\n",
    "plt.plot(history.history['val_loss'])\n",
    "plt.title('model loss')\n",
    "plt.ylabel('loss')\n",
    "plt.xlabel('epoch')\n",
    "plt.legend(['train', 'test'], loc='upper left')\n",
    "plt.show()"
   ]
  },
  {
   "cell_type": "code",
   "execution_count": 91,
   "id": "1971db9f",
   "metadata": {},
   "outputs": [
    {
     "name": "stdout",
     "output_type": "stream",
     "text": [
      "17/17 [==============================] - 0s 2ms/step\n"
     ]
    },
    {
     "data": {
      "text/plain": [
       "0.6722222222222223"
      ]
     },
     "execution_count": 91,
     "metadata": {},
     "output_type": "execute_result"
    }
   ],
   "source": [
    "predict6 = model6.predict(inputs)\n",
    "predict6 = np.argmax(predict6, axis=1)\n",
    "keras6_acc = accuracy_score(classes, predict6)\n",
    "keras6_acc"
   ]
  },
  {
   "cell_type": "markdown",
   "id": "575d3fb1",
   "metadata": {},
   "source": [
    "For normalized data"
   ]
  },
  {
   "cell_type": "code",
   "execution_count": 92,
   "id": "cdb5eec4",
   "metadata": {},
   "outputs": [],
   "source": [
    "inputs_norm = pcos_norm.iloc[:,1:35]\n",
    "classes_norm = pcos_norm.iloc[:,0]"
   ]
  },
  {
   "cell_type": "code",
   "execution_count": 93,
   "id": "4238fc10",
   "metadata": {},
   "outputs": [
    {
     "name": "stdout",
     "output_type": "stream",
     "text": [
      "Epoch 1/150\n",
      "54/54 [==============================] - 1s 2ms/step - loss: 0.6763 - accuracy: 0.6685\n",
      "Epoch 2/150\n",
      "54/54 [==============================] - 0s 2ms/step - loss: 0.6204 - accuracy: 0.6722\n",
      "Epoch 3/150\n",
      "54/54 [==============================] - 0s 2ms/step - loss: 0.5713 - accuracy: 0.6722\n",
      "Epoch 4/150\n",
      "54/54 [==============================] - 0s 2ms/step - loss: 0.5357 - accuracy: 0.6722\n",
      "Epoch 5/150\n",
      "54/54 [==============================] - 0s 2ms/step - loss: 0.5077 - accuracy: 0.6741\n",
      "Epoch 6/150\n",
      "54/54 [==============================] - 0s 2ms/step - loss: 0.4862 - accuracy: 0.6759\n",
      "Epoch 7/150\n",
      "54/54 [==============================] - 0s 2ms/step - loss: 0.4649 - accuracy: 0.6778\n",
      "Epoch 8/150\n",
      "54/54 [==============================] - 0s 2ms/step - loss: 0.4276 - accuracy: 0.8241\n",
      "Epoch 9/150\n",
      "54/54 [==============================] - 0s 2ms/step - loss: 0.3803 - accuracy: 0.8722\n",
      "Epoch 10/150\n",
      "54/54 [==============================] - 0s 2ms/step - loss: 0.3479 - accuracy: 0.8685\n",
      "Epoch 11/150\n",
      "54/54 [==============================] - 0s 2ms/step - loss: 0.3273 - accuracy: 0.8778\n",
      "Epoch 12/150\n",
      "54/54 [==============================] - 0s 2ms/step - loss: 0.3141 - accuracy: 0.8815\n",
      "Epoch 13/150\n",
      "54/54 [==============================] - 0s 2ms/step - loss: 0.3032 - accuracy: 0.8815\n",
      "Epoch 14/150\n",
      "54/54 [==============================] - 0s 2ms/step - loss: 0.2964 - accuracy: 0.8889\n",
      "Epoch 15/150\n",
      "54/54 [==============================] - 0s 2ms/step - loss: 0.2894 - accuracy: 0.8815\n",
      "Epoch 16/150\n",
      "54/54 [==============================] - 0s 2ms/step - loss: 0.2828 - accuracy: 0.8963\n",
      "Epoch 17/150\n",
      "54/54 [==============================] - 0s 2ms/step - loss: 0.2817 - accuracy: 0.8815\n",
      "Epoch 18/150\n",
      "54/54 [==============================] - 0s 2ms/step - loss: 0.2709 - accuracy: 0.8907\n",
      "Epoch 19/150\n",
      "54/54 [==============================] - 0s 2ms/step - loss: 0.2685 - accuracy: 0.8944\n",
      "Epoch 20/150\n",
      "54/54 [==============================] - 0s 2ms/step - loss: 0.2641 - accuracy: 0.8944\n",
      "Epoch 21/150\n",
      "54/54 [==============================] - 0s 2ms/step - loss: 0.2620 - accuracy: 0.8907\n",
      "Epoch 22/150\n",
      "54/54 [==============================] - 0s 2ms/step - loss: 0.2603 - accuracy: 0.9019\n",
      "Epoch 23/150\n",
      "54/54 [==============================] - 0s 2ms/step - loss: 0.2532 - accuracy: 0.9019\n",
      "Epoch 24/150\n",
      "54/54 [==============================] - 0s 2ms/step - loss: 0.2511 - accuracy: 0.9056\n",
      "Epoch 25/150\n",
      "54/54 [==============================] - 0s 2ms/step - loss: 0.2464 - accuracy: 0.9037\n",
      "Epoch 26/150\n",
      "54/54 [==============================] - 0s 2ms/step - loss: 0.2490 - accuracy: 0.9019\n",
      "Epoch 27/150\n",
      "54/54 [==============================] - 0s 2ms/step - loss: 0.2446 - accuracy: 0.9130\n",
      "Epoch 28/150\n",
      "54/54 [==============================] - 0s 2ms/step - loss: 0.2423 - accuracy: 0.9056\n",
      "Epoch 29/150\n",
      "54/54 [==============================] - 0s 2ms/step - loss: 0.2398 - accuracy: 0.9130\n",
      "Epoch 30/150\n",
      "54/54 [==============================] - 0s 2ms/step - loss: 0.2413 - accuracy: 0.9111\n",
      "Epoch 31/150\n",
      "54/54 [==============================] - 0s 2ms/step - loss: 0.2396 - accuracy: 0.9111\n",
      "Epoch 32/150\n",
      "54/54 [==============================] - 0s 2ms/step - loss: 0.2347 - accuracy: 0.9130\n",
      "Epoch 33/150\n",
      "54/54 [==============================] - 0s 2ms/step - loss: 0.2341 - accuracy: 0.9185\n",
      "Epoch 34/150\n",
      "54/54 [==============================] - 0s 2ms/step - loss: 0.2345 - accuracy: 0.9130\n",
      "Epoch 35/150\n",
      "54/54 [==============================] - 0s 3ms/step - loss: 0.2316 - accuracy: 0.9148\n",
      "Epoch 36/150\n",
      "54/54 [==============================] - 0s 5ms/step - loss: 0.2294 - accuracy: 0.9167\n",
      "Epoch 37/150\n",
      "54/54 [==============================] - 0s 5ms/step - loss: 0.2300 - accuracy: 0.9130\n",
      "Epoch 38/150\n",
      "54/54 [==============================] - 0s 5ms/step - loss: 0.2314 - accuracy: 0.9167\n",
      "Epoch 39/150\n",
      "54/54 [==============================] - 0s 5ms/step - loss: 0.2288 - accuracy: 0.9130\n",
      "Epoch 40/150\n",
      "54/54 [==============================] - 0s 5ms/step - loss: 0.2308 - accuracy: 0.9130\n",
      "Epoch 41/150\n",
      "54/54 [==============================] - 0s 5ms/step - loss: 0.2304 - accuracy: 0.9130\n",
      "Epoch 42/150\n",
      "54/54 [==============================] - 0s 5ms/step - loss: 0.2252 - accuracy: 0.9222\n",
      "Epoch 43/150\n",
      "54/54 [==============================] - 0s 5ms/step - loss: 0.2272 - accuracy: 0.9185\n",
      "Epoch 44/150\n",
      "54/54 [==============================] - 0s 5ms/step - loss: 0.2263 - accuracy: 0.9148\n",
      "Epoch 45/150\n",
      "54/54 [==============================] - 0s 5ms/step - loss: 0.2261 - accuracy: 0.9185\n",
      "Epoch 46/150\n",
      "54/54 [==============================] - 0s 5ms/step - loss: 0.2241 - accuracy: 0.9222\n",
      "Epoch 47/150\n",
      "54/54 [==============================] - 0s 5ms/step - loss: 0.2234 - accuracy: 0.9222\n",
      "Epoch 48/150\n",
      "54/54 [==============================] - 0s 5ms/step - loss: 0.2239 - accuracy: 0.9185\n",
      "Epoch 49/150\n",
      "54/54 [==============================] - 0s 5ms/step - loss: 0.2224 - accuracy: 0.9185\n",
      "Epoch 50/150\n",
      "54/54 [==============================] - 0s 5ms/step - loss: 0.2226 - accuracy: 0.9204\n",
      "Epoch 51/150\n",
      "54/54 [==============================] - 0s 5ms/step - loss: 0.2257 - accuracy: 0.9167\n",
      "Epoch 52/150\n",
      "54/54 [==============================] - 0s 5ms/step - loss: 0.2230 - accuracy: 0.9185\n",
      "Epoch 53/150\n",
      "54/54 [==============================] - 0s 5ms/step - loss: 0.2231 - accuracy: 0.9130\n",
      "Epoch 54/150\n",
      "54/54 [==============================] - 0s 2ms/step - loss: 0.2226 - accuracy: 0.9204\n",
      "Epoch 55/150\n",
      "54/54 [==============================] - 0s 2ms/step - loss: 0.2241 - accuracy: 0.9167\n",
      "Epoch 56/150\n",
      "54/54 [==============================] - 0s 5ms/step - loss: 0.2207 - accuracy: 0.9222\n",
      "Epoch 57/150\n",
      "54/54 [==============================] - 0s 6ms/step - loss: 0.2259 - accuracy: 0.9148\n",
      "Epoch 58/150\n",
      "54/54 [==============================] - 0s 4ms/step - loss: 0.2227 - accuracy: 0.9167\n",
      "Epoch 59/150\n",
      "54/54 [==============================] - 0s 4ms/step - loss: 0.2221 - accuracy: 0.9185\n",
      "Epoch 60/150\n",
      "54/54 [==============================] - 0s 3ms/step - loss: 0.2221 - accuracy: 0.9204\n",
      "Epoch 61/150\n",
      "54/54 [==============================] - 0s 2ms/step - loss: 0.2284 - accuracy: 0.9167\n",
      "Epoch 62/150\n",
      "54/54 [==============================] - 0s 2ms/step - loss: 0.2208 - accuracy: 0.9185\n",
      "Epoch 63/150\n",
      "54/54 [==============================] - 0s 3ms/step - loss: 0.2214 - accuracy: 0.9222\n",
      "Epoch 64/150\n",
      "54/54 [==============================] - 0s 2ms/step - loss: 0.2207 - accuracy: 0.9185\n",
      "Epoch 65/150\n",
      "54/54 [==============================] - 0s 2ms/step - loss: 0.2217 - accuracy: 0.9241\n",
      "Epoch 66/150\n",
      "54/54 [==============================] - 0s 3ms/step - loss: 0.2179 - accuracy: 0.9241\n",
      "Epoch 67/150\n",
      "54/54 [==============================] - 0s 3ms/step - loss: 0.2223 - accuracy: 0.9167\n",
      "Epoch 68/150\n",
      "54/54 [==============================] - 0s 3ms/step - loss: 0.2195 - accuracy: 0.9241\n",
      "Epoch 69/150\n",
      "54/54 [==============================] - 0s 2ms/step - loss: 0.2198 - accuracy: 0.9241\n",
      "Epoch 70/150\n",
      "54/54 [==============================] - 0s 2ms/step - loss: 0.2163 - accuracy: 0.9222\n",
      "Epoch 71/150\n",
      "54/54 [==============================] - 0s 3ms/step - loss: 0.2237 - accuracy: 0.9185\n",
      "Epoch 72/150\n",
      "54/54 [==============================] - 0s 3ms/step - loss: 0.2175 - accuracy: 0.9222\n",
      "Epoch 73/150\n",
      "54/54 [==============================] - 0s 5ms/step - loss: 0.2175 - accuracy: 0.9222\n",
      "Epoch 74/150\n",
      "54/54 [==============================] - 0s 5ms/step - loss: 0.2199 - accuracy: 0.9204\n",
      "Epoch 75/150\n",
      "54/54 [==============================] - 0s 5ms/step - loss: 0.2200 - accuracy: 0.9185\n",
      "Epoch 76/150\n",
      "54/54 [==============================] - 0s 5ms/step - loss: 0.2198 - accuracy: 0.9185\n",
      "Epoch 77/150\n",
      "54/54 [==============================] - 0s 5ms/step - loss: 0.2195 - accuracy: 0.9167\n",
      "Epoch 78/150\n",
      "54/54 [==============================] - 0s 5ms/step - loss: 0.2199 - accuracy: 0.9130\n",
      "Epoch 79/150\n",
      "54/54 [==============================] - 0s 5ms/step - loss: 0.2189 - accuracy: 0.9185\n",
      "Epoch 80/150\n",
      "54/54 [==============================] - 0s 5ms/step - loss: 0.2193 - accuracy: 0.9204\n",
      "Epoch 81/150\n",
      "54/54 [==============================] - 0s 5ms/step - loss: 0.2162 - accuracy: 0.9296\n",
      "Epoch 82/150\n",
      "54/54 [==============================] - 0s 5ms/step - loss: 0.2173 - accuracy: 0.9259\n",
      "Epoch 83/150\n",
      "54/54 [==============================] - 0s 5ms/step - loss: 0.2175 - accuracy: 0.9222\n",
      "Epoch 84/150\n",
      "54/54 [==============================] - 0s 5ms/step - loss: 0.2202 - accuracy: 0.9130\n",
      "Epoch 85/150\n",
      "54/54 [==============================] - 0s 4ms/step - loss: 0.2156 - accuracy: 0.9185\n",
      "Epoch 86/150\n",
      "54/54 [==============================] - 0s 5ms/step - loss: 0.2178 - accuracy: 0.9222\n",
      "Epoch 87/150\n",
      "54/54 [==============================] - 0s 5ms/step - loss: 0.2161 - accuracy: 0.9167\n",
      "Epoch 88/150\n",
      "54/54 [==============================] - 0s 2ms/step - loss: 0.2162 - accuracy: 0.9296\n",
      "Epoch 89/150\n",
      "54/54 [==============================] - 0s 2ms/step - loss: 0.2178 - accuracy: 0.9222\n",
      "Epoch 90/150\n",
      "54/54 [==============================] - 0s 3ms/step - loss: 0.2155 - accuracy: 0.9185\n",
      "Epoch 91/150\n",
      "54/54 [==============================] - 0s 3ms/step - loss: 0.2152 - accuracy: 0.9259\n",
      "Epoch 92/150\n",
      "54/54 [==============================] - 0s 3ms/step - loss: 0.2151 - accuracy: 0.9259\n",
      "Epoch 93/150\n",
      "54/54 [==============================] - 0s 2ms/step - loss: 0.2147 - accuracy: 0.9278\n",
      "Epoch 94/150\n",
      "54/54 [==============================] - 0s 2ms/step - loss: 0.2159 - accuracy: 0.9278\n",
      "Epoch 95/150\n",
      "54/54 [==============================] - 0s 2ms/step - loss: 0.2167 - accuracy: 0.9241\n",
      "Epoch 96/150\n",
      "54/54 [==============================] - 0s 2ms/step - loss: 0.2158 - accuracy: 0.9204\n",
      "Epoch 97/150\n",
      "54/54 [==============================] - 0s 3ms/step - loss: 0.2154 - accuracy: 0.9259\n",
      "Epoch 98/150\n",
      "54/54 [==============================] - 0s 2ms/step - loss: 0.2173 - accuracy: 0.9204\n",
      "Epoch 99/150\n",
      "54/54 [==============================] - 0s 3ms/step - loss: 0.2152 - accuracy: 0.9241\n",
      "Epoch 100/150\n",
      "54/54 [==============================] - 0s 5ms/step - loss: 0.2158 - accuracy: 0.9278\n",
      "Epoch 101/150\n",
      "54/54 [==============================] - 0s 5ms/step - loss: 0.2169 - accuracy: 0.9241\n",
      "Epoch 102/150\n",
      "54/54 [==============================] - 0s 4ms/step - loss: 0.2162 - accuracy: 0.9259\n",
      "Epoch 103/150\n",
      "54/54 [==============================] - 0s 5ms/step - loss: 0.2148 - accuracy: 0.9259\n",
      "Epoch 104/150\n",
      "54/54 [==============================] - 0s 5ms/step - loss: 0.2152 - accuracy: 0.9222\n",
      "Epoch 105/150\n",
      "54/54 [==============================] - 0s 5ms/step - loss: 0.2163 - accuracy: 0.9241\n",
      "Epoch 106/150\n",
      "54/54 [==============================] - 0s 5ms/step - loss: 0.2164 - accuracy: 0.9241\n",
      "Epoch 107/150\n",
      "54/54 [==============================] - 0s 5ms/step - loss: 0.2152 - accuracy: 0.9296\n",
      "Epoch 108/150\n",
      "54/54 [==============================] - 0s 5ms/step - loss: 0.2166 - accuracy: 0.9222\n",
      "Epoch 109/150\n",
      "54/54 [==============================] - 0s 5ms/step - loss: 0.2150 - accuracy: 0.9241\n",
      "Epoch 110/150\n",
      "54/54 [==============================] - 0s 5ms/step - loss: 0.2140 - accuracy: 0.9222\n",
      "Epoch 111/150\n",
      "54/54 [==============================] - 0s 5ms/step - loss: 0.2145 - accuracy: 0.9259\n",
      "Epoch 112/150\n",
      "54/54 [==============================] - 0s 5ms/step - loss: 0.2153 - accuracy: 0.9278\n",
      "Epoch 113/150\n",
      "54/54 [==============================] - 0s 5ms/step - loss: 0.2198 - accuracy: 0.9296\n",
      "Epoch 114/150\n",
      "54/54 [==============================] - 0s 5ms/step - loss: 0.2153 - accuracy: 0.9204\n",
      "Epoch 115/150\n",
      "54/54 [==============================] - 0s 6ms/step - loss: 0.2168 - accuracy: 0.9259\n",
      "Epoch 116/150\n",
      "54/54 [==============================] - 0s 2ms/step - loss: 0.2167 - accuracy: 0.9241\n",
      "Epoch 117/150\n",
      "54/54 [==============================] - 0s 3ms/step - loss: 0.2154 - accuracy: 0.9241\n",
      "Epoch 118/150\n",
      "54/54 [==============================] - 0s 4ms/step - loss: 0.2147 - accuracy: 0.9296\n",
      "Epoch 119/150\n",
      "54/54 [==============================] - 0s 5ms/step - loss: 0.2140 - accuracy: 0.9259\n",
      "Epoch 120/150\n",
      "54/54 [==============================] - 0s 4ms/step - loss: 0.2130 - accuracy: 0.9241\n",
      "Epoch 121/150\n",
      "54/54 [==============================] - 0s 5ms/step - loss: 0.2140 - accuracy: 0.9333\n",
      "Epoch 122/150\n",
      "54/54 [==============================] - 0s 5ms/step - loss: 0.2147 - accuracy: 0.9296\n",
      "Epoch 123/150\n",
      "54/54 [==============================] - 0s 5ms/step - loss: 0.2159 - accuracy: 0.9278\n",
      "Epoch 124/150\n",
      "54/54 [==============================] - 0s 5ms/step - loss: 0.2136 - accuracy: 0.9241\n",
      "Epoch 125/150\n",
      "54/54 [==============================] - 0s 6ms/step - loss: 0.2158 - accuracy: 0.9259\n",
      "Epoch 126/150\n",
      "54/54 [==============================] - 0s 4ms/step - loss: 0.2113 - accuracy: 0.9241\n",
      "Epoch 127/150\n",
      "54/54 [==============================] - 0s 4ms/step - loss: 0.2165 - accuracy: 0.9130\n",
      "Epoch 128/150\n",
      "54/54 [==============================] - 0s 3ms/step - loss: 0.2128 - accuracy: 0.9241\n",
      "Epoch 129/150\n",
      "54/54 [==============================] - 0s 2ms/step - loss: 0.2155 - accuracy: 0.9241\n",
      "Epoch 130/150\n",
      "54/54 [==============================] - 0s 4ms/step - loss: 0.2151 - accuracy: 0.9278\n",
      "Epoch 131/150\n",
      "54/54 [==============================] - 0s 5ms/step - loss: 0.2130 - accuracy: 0.9315\n",
      "Epoch 132/150\n",
      "54/54 [==============================] - 0s 4ms/step - loss: 0.2149 - accuracy: 0.9222\n",
      "Epoch 133/150\n",
      "54/54 [==============================] - 0s 4ms/step - loss: 0.2127 - accuracy: 0.9241\n",
      "Epoch 134/150\n",
      "54/54 [==============================] - 0s 4ms/step - loss: 0.2120 - accuracy: 0.9296\n",
      "Epoch 135/150\n",
      "54/54 [==============================] - 0s 4ms/step - loss: 0.2124 - accuracy: 0.9241\n",
      "Epoch 136/150\n",
      "54/54 [==============================] - 0s 4ms/step - loss: 0.2129 - accuracy: 0.9296\n",
      "Epoch 137/150\n",
      "54/54 [==============================] - 0s 4ms/step - loss: 0.2145 - accuracy: 0.9315\n",
      "Epoch 138/150\n",
      "54/54 [==============================] - 0s 4ms/step - loss: 0.2123 - accuracy: 0.9296\n",
      "Epoch 139/150\n",
      "54/54 [==============================] - 0s 5ms/step - loss: 0.2123 - accuracy: 0.9222\n",
      "Epoch 140/150\n",
      "54/54 [==============================] - 0s 3ms/step - loss: 0.2118 - accuracy: 0.9259\n",
      "Epoch 141/150\n",
      "54/54 [==============================] - 0s 2ms/step - loss: 0.2115 - accuracy: 0.9278\n",
      "Epoch 142/150\n",
      "54/54 [==============================] - 0s 2ms/step - loss: 0.2128 - accuracy: 0.9241\n",
      "Epoch 143/150\n",
      "54/54 [==============================] - 0s 2ms/step - loss: 0.2159 - accuracy: 0.9259\n",
      "Epoch 144/150\n",
      "54/54 [==============================] - 0s 2ms/step - loss: 0.2116 - accuracy: 0.9259\n",
      "Epoch 145/150\n",
      "54/54 [==============================] - 0s 2ms/step - loss: 0.2131 - accuracy: 0.9241\n",
      "Epoch 146/150\n",
      "54/54 [==============================] - 0s 4ms/step - loss: 0.2113 - accuracy: 0.9278\n",
      "Epoch 147/150\n",
      "54/54 [==============================] - 0s 5ms/step - loss: 0.2127 - accuracy: 0.9296\n",
      "Epoch 148/150\n",
      "54/54 [==============================] - 0s 4ms/step - loss: 0.2122 - accuracy: 0.9296\n",
      "Epoch 149/150\n",
      "54/54 [==============================] - 0s 5ms/step - loss: 0.2162 - accuracy: 0.9259\n",
      "Epoch 150/150\n",
      "54/54 [==============================] - 0s 5ms/step - loss: 0.2131 - accuracy: 0.9241\n"
     ]
    },
    {
     "data": {
      "text/plain": [
       "<keras.callbacks.History at 0x2c579bc5f00>"
      ]
     },
     "execution_count": 93,
     "metadata": {},
     "output_type": "execute_result"
    }
   ],
   "source": [
    "model1_norm = Sequential()\n",
    "model1_norm.add(Dense(6, input_dim = 34, activation='relu'))\n",
    "model1_norm.add(Dense(3, activation = 'relu'))\n",
    "model1_norm.add(Dense(1, activation = 'sigmoid'))\n",
    "\n",
    "model1_norm.compile(loss='binary_crossentropy', optimizer = 'adam',metrics = ['accuracy'])\n",
    "model1_norm.fit(inputs_norm, classes_norm, epochs=150, batch_size=10)"
   ]
  },
  {
   "cell_type": "code",
   "execution_count": 94,
   "id": "6cf72e98",
   "metadata": {},
   "outputs": [
    {
     "name": "stdout",
     "output_type": "stream",
     "text": [
      "17/17 [==============================] - 0s 2ms/step\n"
     ]
    },
    {
     "data": {
      "text/plain": [
       "0.6722222222222223"
      ]
     },
     "execution_count": 94,
     "metadata": {},
     "output_type": "execute_result"
    }
   ],
   "source": [
    "predict1_norm = model1_norm.predict(inputs_norm)\n",
    "predict1_norm = np.argmax(predict1_norm, axis=1)\n",
    "keras1_norm_acc = accuracy_score(classes_norm, predict1_norm)\n",
    "keras1_norm_acc"
   ]
  },
  {
   "cell_type": "code",
   "execution_count": 95,
   "id": "da74b3a0",
   "metadata": {},
   "outputs": [
    {
     "data": {
      "image/png": "[encoded data removed]",
      "text/plain": [
       "<Figure size 640x480 with 1 Axes>"
      ]
     },
     "metadata": {},
     "output_type": "display_data"
    }
   ],
   "source": [
    "history = model1_norm.fit(inputs_norm, classes_norm, validation_split=0.3, epochs=150, batch_size=10, verbose=0)\n",
    "plt.plot(history.history['loss'])\n",
    "plt.plot(history.history['val_loss'])\n",
    "plt.title('model loss')\n",
    "plt.ylabel('loss')\n",
    "plt.xlabel('epoch')\n",
    "plt.legend(['train', 'test'], loc='upper left')\n",
    "plt.show()"
   ]
  },
  {
   "cell_type": "code",
   "execution_count": 96,
   "id": "a37b9334",
   "metadata": {},
   "outputs": [
    {
     "data": {
      "image/png": "[encoded data removed]",
      "text/plain": [
       "<Figure size 640x480 with 1 Axes>"
      ]
     },
     "metadata": {},
     "output_type": "display_data"
    }
   ],
   "source": [
    "\n",
    "model2_norm = Sequential()\n",
    "model2_norm.add(Dense(12, input_dim = 34,activation='sigmoid'))\n",
    "model2_norm.add(Dense(6, activation = 'sigmoid'))\n",
    "model2_norm.add(Dense(3, activation = 'sigmoid'))\n",
    "model2_norm.add(Dense(1, activation='sigmoid')) \n",
    "model2_norm.compile(loss='binary_crossentropy', optimizer = 'adam',metrics = ['accuracy'])\n",
    "history = model2_norm.fit(inputs_norm, classes_norm, validation_split=0.3, epochs=150, batch_size=10, verbose=0)\n",
    "\n",
    "plt.plot(history.history['loss'])\n",
    "plt.plot(history.history['val_loss'])\n",
    "plt.title('model loss')\n",
    "plt.ylabel('loss')\n",
    "plt.xlabel('epoch')\n",
    "plt.legend(['train', 'test'], loc='upper left')\n",
    "plt.show()"
   ]
  },
  {
   "cell_type": "code",
   "execution_count": 97,
   "id": "c4cb5056",
   "metadata": {},
   "outputs": [
    {
     "name": "stdout",
     "output_type": "stream",
     "text": [
      "17/17 [==============================] - 0s 2ms/step\n"
     ]
    },
    {
     "data": {
      "text/plain": [
       "0.6722222222222223"
      ]
     },
     "execution_count": 97,
     "metadata": {},
     "output_type": "execute_result"
    }
   ],
   "source": [
    "predict2_norm = model2_norm.predict(inputs_norm)\n",
    "predict2_norm = np.argmax(predict2_norm, axis=1)\n",
    "keras2_acc_norm = accuracy_score(classes_norm, predict2_norm)\n",
    "keras2_acc_norm"
   ]
  },
  {
   "cell_type": "markdown",
   "id": "d35fbd00",
   "metadata": {},
   "source": [
    "I won't be doing the rest because as seen above, accuracies are the same everywhere (I am not sure why) and the plots are the same for original data and normalized data minus the noise."
   ]
  },
  {
   "cell_type": "markdown",
   "id": "90239417",
   "metadata": {},
   "source": [
    "# Conclusion"
   ]
  },
  {
   "cell_type": "code",
   "execution_count": 98,
   "id": "8b833fb9",
   "metadata": {},
   "outputs": [],
   "source": [
    "data = {'Original data': [tree_acc, tree_prune_acc, NB_acc, knn3_acc, knn5_acc, knn11_acc, neural1_acc, neural2_acc, neural3_acc, neural4_acc, keras1_acc, keras2_acc, keras3_acc, keras4_acc, keras5_acc, keras6_acc],\n",
    "        'Normalized data': [tree_acc_norm,tree_prune_acc_norm, NB_acc_norm, knn3_acc_norm, knn5_acc_norm, knn11_acc_norm, neural1_acc_norm, neural2_acc_norm, neural3_acc_norm, neural4_acc_norm, keras1_norm_acc, keras2_acc_norm, 0,0,0,0]}\n",
    "  \n",
    "# Creates pandas DataFrame.\n",
    "df = pd.DataFrame(data)\n",
    "# , index=['Decision tree',\n",
    "#                                'Naive Bayes',\n",
    "#                                '3 nearest neighbours',\n",
    "#                                '5 nearest neighbours',\n",
    "#                               '11 nearest neighbours',\n",
    "#                               'Neural network - one hidden layer, two hidden values',\n",
    "#                               'Neural network - two hidden layers, four hidden values', \n",
    "#                               'Neural network - two hidden layers, five hidden values', \n",
    "#                               'Neural network - three hidden layers, six hidden values', \n",
    "#                               'Keras - relu, relu, sigmoid, adam', \n",
    "#                               'Keras - sigmoid, sigmoid, sigmoid, sigmoid, adam', \n",
    "#                               'Keras - tanh, tanh, tanh, sigmoid, adam', \n",
    "#                               'Keras - relu, relu, relu, sigmoid, RMSprop', \n",
    "#                               'Keras - relu, relu, relu, sigmoid, SGD', \n",
    "#                               'Keras - relu, relu, sigmoid, adam'])\n",
    "numbers = [1,2,3,4,5,6,7,8,9,10,11,12,13,14,15, 16]\n",
    "what = ['Decision tree', 'Decision tree with prune leaves',\n",
    "                               'Naive Bayes',\n",
    "                               '3 nearest neighbours',\n",
    "                               '5 nearest neighbours',\n",
    "                              '11 nearest neighbours',\n",
    "                              'Neural network - one hidden layer, two hidden values',\n",
    "                              'Neural network - two hidden layers, four hidden values', \n",
    "                              'Neural network - two hidden layers, five hidden values', \n",
    "                              'Neural network - three hidden layers, six hidden values', \n",
    "                              'Keras - relu, relu, sigmoid, adam', \n",
    "                              'Keras - sigmoid, sigmoid, sigmoid, sigmoid, adam', \n",
    "                              'Keras - tanh, tanh, tanh, sigmoid, adam', \n",
    "                              'Keras - relu, relu, relu, sigmoid, RMSprop', \n",
    "                              'Keras - relu, relu, relu, sigmoid, SGD', \n",
    "                              'Keras - relu, relu, sigmoid, adam']\n",
    "df.set_index([numbers, what], inplace=True)"
   ]
  },
  {
   "cell_type": "code",
   "execution_count": 99,
   "id": "eb1f451e",
   "metadata": {},
   "outputs": [
    {
     "data": {
      "text/html": [
       "<style type=\"text/css\">\n",
       "#T_52d97_row0_col0, #T_52d97_row0_col1, #T_52d97_row1_col0, #T_52d97_row1_col1, #T_52d97_row2_col0, #T_52d97_row2_col1, #T_52d97_row3_col1, #T_52d97_row4_col1, #T_52d97_row5_col1, #T_52d97_row6_col0, #T_52d97_row7_col0, #T_52d97_row7_col1, #T_52d97_row9_col0, #T_52d97_row9_col1, #T_52d97_row10_col0, #T_52d97_row10_col1, #T_52d97_row11_col0, #T_52d97_row11_col1, #T_52d97_row12_col0, #T_52d97_row12_col1, #T_52d97_row13_col0, #T_52d97_row13_col1, #T_52d97_row14_col0, #T_52d97_row14_col1, #T_52d97_row15_col0, #T_52d97_row15_col1 {\n",
       "  background-color: ;\n",
       "}\n",
       "#T_52d97_row3_col0, #T_52d97_row4_col0, #T_52d97_row5_col0, #T_52d97_row6_col1, #T_52d97_row8_col0, #T_52d97_row8_col1 {\n",
       "  background-color: lightgreen;\n",
       "}\n",
       "</style>\n",
       "<table id=\"T_52d97\">\n",
       "  <thead>\n",
       "    <tr>\n",
       "      <th class=\"blank\" >&nbsp;</th>\n",
       "      <th class=\"blank level0\" >&nbsp;</th>\n",
       "      <th id=\"T_52d97_level0_col0\" class=\"col_heading level0 col0\" >Original data</th>\n",
       "      <th id=\"T_52d97_level0_col1\" class=\"col_heading level0 col1\" >Normalized data</th>\n",
       "    </tr>\n",
       "  </thead>\n",
       "  <tbody>\n",
       "    <tr>\n",
       "      <th id=\"T_52d97_level0_row0\" class=\"row_heading level0 row0\" >1</th>\n",
       "      <th id=\"T_52d97_level1_row0\" class=\"row_heading level1 row0\" >Decision tree</th>\n",
       "      <td id=\"T_52d97_row0_col0\" class=\"data row0 col0\" >0.783951</td>\n",
       "      <td id=\"T_52d97_row0_col1\" class=\"data row0 col1\" >0.746914</td>\n",
       "    </tr>\n",
       "    <tr>\n",
       "      <th id=\"T_52d97_level0_row1\" class=\"row_heading level0 row1\" >2</th>\n",
       "      <th id=\"T_52d97_level1_row1\" class=\"row_heading level1 row1\" >Decision tree with prune leaves</th>\n",
       "      <td id=\"T_52d97_row1_col0\" class=\"data row1 col0\" >0.833333</td>\n",
       "      <td id=\"T_52d97_row1_col1\" class=\"data row1 col1\" >0.802469</td>\n",
       "    </tr>\n",
       "    <tr>\n",
       "      <th id=\"T_52d97_level0_row2\" class=\"row_heading level0 row2\" >3</th>\n",
       "      <th id=\"T_52d97_level1_row2\" class=\"row_heading level1 row2\" >Naive Bayes</th>\n",
       "      <td id=\"T_52d97_row2_col0\" class=\"data row2 col0\" >0.567901</td>\n",
       "      <td id=\"T_52d97_row2_col1\" class=\"data row2 col1\" >0.641975</td>\n",
       "    </tr>\n",
       "    <tr>\n",
       "      <th id=\"T_52d97_level0_row3\" class=\"row_heading level0 row3\" >4</th>\n",
       "      <th id=\"T_52d97_level1_row3\" class=\"row_heading level1 row3\" >3 nearest neighbours</th>\n",
       "      <td id=\"T_52d97_row3_col0\" class=\"data row3 col0\" >0.882716</td>\n",
       "      <td id=\"T_52d97_row3_col1\" class=\"data row3 col1\" >0.623457</td>\n",
       "    </tr>\n",
       "    <tr>\n",
       "      <th id=\"T_52d97_level0_row4\" class=\"row_heading level0 row4\" >5</th>\n",
       "      <th id=\"T_52d97_level1_row4\" class=\"row_heading level1 row4\" >5 nearest neighbours</th>\n",
       "      <td id=\"T_52d97_row4_col0\" class=\"data row4 col0\" >0.858025</td>\n",
       "      <td id=\"T_52d97_row4_col1\" class=\"data row4 col1\" >0.623457</td>\n",
       "    </tr>\n",
       "    <tr>\n",
       "      <th id=\"T_52d97_level0_row5\" class=\"row_heading level0 row5\" >6</th>\n",
       "      <th id=\"T_52d97_level1_row5\" class=\"row_heading level1 row5\" >11 nearest neighbours</th>\n",
       "      <td id=\"T_52d97_row5_col0\" class=\"data row5 col0\" >0.882716</td>\n",
       "      <td id=\"T_52d97_row5_col1\" class=\"data row5 col1\" >0.623457</td>\n",
       "    </tr>\n",
       "    <tr>\n",
       "      <th id=\"T_52d97_level0_row6\" class=\"row_heading level0 row6\" >7</th>\n",
       "      <th id=\"T_52d97_level1_row6\" class=\"row_heading level1 row6\" >Neural network - one hidden layer, two hidden values</th>\n",
       "      <td id=\"T_52d97_row6_col0\" class=\"data row6 col0\" >0.845679</td>\n",
       "      <td id=\"T_52d97_row6_col1\" class=\"data row6 col1\" >0.913580</td>\n",
       "    </tr>\n",
       "    <tr>\n",
       "      <th id=\"T_52d97_level0_row7\" class=\"row_heading level0 row7\" >8</th>\n",
       "      <th id=\"T_52d97_level1_row7\" class=\"row_heading level1 row7\" >Neural network - two hidden layers, four hidden values</th>\n",
       "      <td id=\"T_52d97_row7_col0\" class=\"data row7 col0\" >0.845679</td>\n",
       "      <td id=\"T_52d97_row7_col1\" class=\"data row7 col1\" >0.672840</td>\n",
       "    </tr>\n",
       "    <tr>\n",
       "      <th id=\"T_52d97_level0_row8\" class=\"row_heading level0 row8\" >9</th>\n",
       "      <th id=\"T_52d97_level1_row8\" class=\"row_heading level1 row8\" >Neural network - two hidden layers, five hidden values</th>\n",
       "      <td id=\"T_52d97_row8_col0\" class=\"data row8 col0\" >0.864198</td>\n",
       "      <td id=\"T_52d97_row8_col1\" class=\"data row8 col1\" >0.888889</td>\n",
       "    </tr>\n",
       "    <tr>\n",
       "      <th id=\"T_52d97_level0_row9\" class=\"row_heading level0 row9\" >10</th>\n",
       "      <th id=\"T_52d97_level1_row9\" class=\"row_heading level1 row9\" >Neural network - three hidden layers, six hidden values</th>\n",
       "      <td id=\"T_52d97_row9_col0\" class=\"data row9 col0\" >0.648148</td>\n",
       "      <td id=\"T_52d97_row9_col1\" class=\"data row9 col1\" >0.672840</td>\n",
       "    </tr>\n",
       "    <tr>\n",
       "      <th id=\"T_52d97_level0_row10\" class=\"row_heading level0 row10\" >11</th>\n",
       "      <th id=\"T_52d97_level1_row10\" class=\"row_heading level1 row10\" >Keras - relu, relu, sigmoid, adam</th>\n",
       "      <td id=\"T_52d97_row10_col0\" class=\"data row10 col0\" >0.672222</td>\n",
       "      <td id=\"T_52d97_row10_col1\" class=\"data row10 col1\" >0.672222</td>\n",
       "    </tr>\n",
       "    <tr>\n",
       "      <th id=\"T_52d97_level0_row11\" class=\"row_heading level0 row11\" >12</th>\n",
       "      <th id=\"T_52d97_level1_row11\" class=\"row_heading level1 row11\" >Keras - sigmoid, sigmoid, sigmoid, sigmoid, adam</th>\n",
       "      <td id=\"T_52d97_row11_col0\" class=\"data row11 col0\" >0.672222</td>\n",
       "      <td id=\"T_52d97_row11_col1\" class=\"data row11 col1\" >0.672222</td>\n",
       "    </tr>\n",
       "    <tr>\n",
       "      <th id=\"T_52d97_level0_row12\" class=\"row_heading level0 row12\" >13</th>\n",
       "      <th id=\"T_52d97_level1_row12\" class=\"row_heading level1 row12\" >Keras - tanh, tanh, tanh, sigmoid, adam</th>\n",
       "      <td id=\"T_52d97_row12_col0\" class=\"data row12 col0\" >0.672222</td>\n",
       "      <td id=\"T_52d97_row12_col1\" class=\"data row12 col1\" >0.000000</td>\n",
       "    </tr>\n",
       "    <tr>\n",
       "      <th id=\"T_52d97_level0_row13\" class=\"row_heading level0 row13\" >14</th>\n",
       "      <th id=\"T_52d97_level1_row13\" class=\"row_heading level1 row13\" >Keras - relu, relu, relu, sigmoid, RMSprop</th>\n",
       "      <td id=\"T_52d97_row13_col0\" class=\"data row13 col0\" >0.672222</td>\n",
       "      <td id=\"T_52d97_row13_col1\" class=\"data row13 col1\" >0.000000</td>\n",
       "    </tr>\n",
       "    <tr>\n",
       "      <th id=\"T_52d97_level0_row14\" class=\"row_heading level0 row14\" >15</th>\n",
       "      <th id=\"T_52d97_level1_row14\" class=\"row_heading level1 row14\" >Keras - relu, relu, relu, sigmoid, SGD</th>\n",
       "      <td id=\"T_52d97_row14_col0\" class=\"data row14 col0\" >0.672222</td>\n",
       "      <td id=\"T_52d97_row14_col1\" class=\"data row14 col1\" >0.000000</td>\n",
       "    </tr>\n",
       "    <tr>\n",
       "      <th id=\"T_52d97_level0_row15\" class=\"row_heading level0 row15\" >16</th>\n",
       "      <th id=\"T_52d97_level1_row15\" class=\"row_heading level1 row15\" >Keras - relu, relu, sigmoid, adam</th>\n",
       "      <td id=\"T_52d97_row15_col0\" class=\"data row15 col0\" >0.672222</td>\n",
       "      <td id=\"T_52d97_row15_col1\" class=\"data row15 col1\" >0.000000</td>\n",
       "    </tr>\n",
       "  </tbody>\n",
       "</table>\n"
      ],
      "text/plain": [
       "<pandas.io.formats.style.Styler at 0x2c57ae0d7e0>"
      ]
     },
     "execution_count": 99,
     "metadata": {},
     "output_type": "execute_result"
    }
   ],
   "source": [
    "def highlight_cells(val):\n",
    "    color = 'lightgreen' if val > 0.85 else ''\n",
    "    return 'background-color: {}'.format(color)\n",
    "\n",
    "df.style.applymap(highlight_cells)\n",
    "\n"
   ]
  },
  {
   "cell_type": "code",
   "execution_count": null,
   "id": "3327e3ad",
   "metadata": {},
   "outputs": [],
   "source": []
  },
  {
   "cell_type": "code",
   "execution_count": null,
   "id": "5f856822",
   "metadata": {},
   "outputs": [],
   "source": []
  },
  {
   "cell_type": "code",
   "execution_count": null,
   "id": "c83f2fed",
   "metadata": {},
   "outputs": [],
   "source": []
  },
  {
   "cell_type": "code",
   "execution_count": null,
   "id": "e6b94502",
   "metadata": {},
   "outputs": [],
   "source": []
  },
  {
   "cell_type": "code",
   "execution_count": null,
   "id": "fc9163b9",
   "metadata": {},
   "outputs": [],
   "source": []
  },
  {
   "cell_type": "code",
   "execution_count": null,
   "id": "c456a345",
   "metadata": {},
   "outputs": [],
   "source": []
  },
  {
   "cell_type": "code",
   "execution_count": null,
   "id": "2b675c70",
   "metadata": {},
   "outputs": [],
   "source": []
  },
  {
   "cell_type": "code",
   "execution_count": null,
   "id": "1535e659",
   "metadata": {},
   "outputs": [],
   "source": []
  },
  {
   "cell_type": "code",
   "execution_count": null,
   "id": "1b292df3",
   "metadata": {},
   "outputs": [],
   "source": []
  },
  {
   "cell_type": "code",
   "execution_count": null,
   "id": "62d212a0",
   "metadata": {},
   "outputs": [],
   "source": []
  },
  {
   "cell_type": "code",
   "execution_count": null,
   "id": "e4db52eb",
   "metadata": {},
   "outputs": [],
   "source": []
  },
  {
   "cell_type": "code",
   "execution_count": null,
   "id": "f009a6c8",
   "metadata": {},
   "outputs": [],
   "source": []
  },
  {
   "cell_type": "code",
   "execution_count": null,
   "id": "3e185ff7",
   "metadata": {},
   "outputs": [],
   "source": []
  },
  {
   "cell_type": "code",
   "execution_count": null,
   "id": "4033281c",
   "metadata": {},
   "outputs": [],
   "source": []
  },
  {
   "cell_type": "code",
   "execution_count": null,
   "id": "08e0573d",
   "metadata": {},
   "outputs": [],
   "source": []
  },
  {
   "cell_type": "code",
   "execution_count": null,
   "id": "2e8b472c",
   "metadata": {},
   "outputs": [],
   "source": []
  },
  {
   "cell_type": "code",
   "execution_count": null,
   "id": "160ea0be",
   "metadata": {},
   "outputs": [],
   "source": []
  },
  {
   "cell_type": "code",
   "execution_count": null,
   "id": "b459ddbb",
   "metadata": {},
   "outputs": [],
   "source": []
  },
  {
   "cell_type": "code",
   "execution_count": null,
   "id": "1040b7fb",
   "metadata": {},
   "outputs": [],
   "source": []
  },
  {
   "cell_type": "code",
   "execution_count": null,
   "id": "8c4d4dba",
   "metadata": {},
   "outputs": [],
   "source": []
  },
  {
   "cell_type": "code",
   "execution_count": null,
   "id": "a205c1ed",
   "metadata": {},
   "outputs": [],
   "source": []
  },
  {
   "cell_type": "code",
   "execution_count": null,
   "id": "ca26ee16",
   "metadata": {},
   "outputs": [],
   "source": []
  },
  {
   "cell_type": "code",
   "execution_count": null,
   "id": "759c69d9",
   "metadata": {},
   "outputs": [],
   "source": []
  },
  {
   "cell_type": "code",
   "execution_count": null,
   "id": "c885475e",
   "metadata": {},
   "outputs": [],
   "source": []
  },
  {
   "cell_type": "code",
   "execution_count": null,
   "id": "5e7b2e42",
   "metadata": {},
   "outputs": [],
   "source": []
  },
  {
   "cell_type": "code",
   "execution_count": null,
   "id": "ace9067b",
   "metadata": {},
   "outputs": [],
   "source": []
  },
  {
   "cell_type": "code",
   "execution_count": null,
   "id": "fac55829",
   "metadata": {},
   "outputs": [],
   "source": []
  },
  {
   "cell_type": "code",
   "execution_count": null,
   "id": "8fb9e2d4",
   "metadata": {},
   "outputs": [],
   "source": []
  },
  {
   "cell_type": "code",
   "execution_count": null,
   "id": "1c48042b",
   "metadata": {},
   "outputs": [],
   "source": []
  },
  {
   "cell_type": "code",
   "execution_count": null,
   "id": "ab723f6e",
   "metadata": {},
   "outputs": [],
   "source": []
  },
  {
   "cell_type": "code",
   "execution_count": null,
   "id": "7362b015",
   "metadata": {},
   "outputs": [],
   "source": []
  },
  {
   "cell_type": "code",
   "execution_count": null,
   "id": "605c1af4",
   "metadata": {},
   "outputs": [],
   "source": []
  },
  {
   "cell_type": "code",
   "execution_count": null,
   "id": "7656fe92",
   "metadata": {},
   "outputs": [],
   "source": []
  },
  {
   "cell_type": "code",
   "execution_count": null,
   "id": "cf16e14a",
   "metadata": {},
   "outputs": [],
   "source": []
  },
  {
   "cell_type": "code",
   "execution_count": null,
   "id": "b201ab47",
   "metadata": {},
   "outputs": [],
   "source": []
  }
 ],
 "metadata": {
  "kernelspec": {
   "display_name": "Python 3 (ipykernel)",
   "language": "python",
   "name": "python3"
  },
  "language_info": {
   "codemirror_mode": {
    "name": "ipython",
    "version": 3
   },
   "file_extension": ".py",
   "mimetype": "text/x-python",
   "name": "python",
   "nbconvert_exporter": "python",
   "pygments_lexer": "ipython3",
   "version": "3.10.9"
  }
 },
 "nbformat": 4,
 "nbformat_minor": 5
}
